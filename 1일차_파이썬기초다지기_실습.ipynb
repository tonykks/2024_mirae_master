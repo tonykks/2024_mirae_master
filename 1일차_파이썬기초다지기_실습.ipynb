{
  "cells": [
    {
      "cell_type": "markdown",
      "metadata": {
        "id": "view-in-github",
        "colab_type": "text"
      },
      "source": [
        "<a href=\"https://colab.research.google.com/github/tonykks/2024_mirae_master/blob/main/1%EC%9D%BC%EC%B0%A8_%ED%8C%8C%EC%9D%B4%EC%8D%AC%EA%B8%B0%EC%B4%88%EB%8B%A4%EC%A7%80%EA%B8%B0_%EC%8B%A4%EC%8A%B5.ipynb\" target=\"_parent\"><img src=\"https://colab.research.google.com/assets/colab-badge.svg\" alt=\"Open In Colab\"/></a>"
      ]
    },
    {
      "cell_type": "markdown",
      "metadata": {
        "id": "zRxHpy-28GGG"
      },
      "source": [
        "# 1일차-파이썬 기초 다지기"
      ]
    },
    {
      "cell_type": "code",
      "source": [
        "!python --version"
      ],
      "metadata": {
        "colab": {
          "base_uri": "https://localhost:8080/"
        },
        "id": "4O2ruhLFtbCx",
        "outputId": "7a47d547-4202-4442-ccc5-7d9c209fb057"
      },
      "execution_count": null,
      "outputs": [
        {
          "output_type": "stream",
          "name": "stdout",
          "text": [
            "Python 3.10.12\n"
          ]
        }
      ]
    },
    {
      "cell_type": "code",
      "source": [
        "import sys\n",
        "print(sys.version) # 마지막 행은 print()이 없어도 실행된다.\n",
        "sys.version"
      ],
      "metadata": {
        "colab": {
          "base_uri": "https://localhost:8080/",
          "height": 54
        },
        "id": "BOZVyBbitbpo",
        "outputId": "fccf3c6e-b1ac-47e1-fb37-8e4091f99bb2"
      },
      "execution_count": null,
      "outputs": [
        {
          "output_type": "stream",
          "name": "stdout",
          "text": [
            "3.10.12 (main, Sep 11 2024, 15:47:36) [GCC 11.4.0]\n"
          ]
        },
        {
          "output_type": "execute_result",
          "data": {
            "text/plain": [
              "'3.10.12 (main, Sep 11 2024, 15:47:36) [GCC 11.4.0]'"
            ],
            "application/vnd.google.colaboratory.intrinsic+json": {
              "type": "string"
            }
          },
          "metadata": {},
          "execution_count": 5
        }
      ]
    },
    {
      "cell_type": "markdown",
      "source": [
        "# 파이썬 설치 위치 확인"
      ],
      "metadata": {
        "id": "GGnR5vo-y69O"
      }
    },
    {
      "cell_type": "code",
      "source": [
        "sys.executable\n",
        "sys.path"
      ],
      "metadata": {
        "id": "Drt2WlKotSDl",
        "colab": {
          "base_uri": "https://localhost:8080/"
        },
        "outputId": "cf1ae41e-3145-4516-d41e-1e2554c12726"
      },
      "execution_count": null,
      "outputs": [
        {
          "output_type": "execute_result",
          "data": {
            "text/plain": [
              "['/content',\n",
              " '/env/python',\n",
              " '/usr/lib/python310.zip',\n",
              " '/usr/lib/python3.10',\n",
              " '/usr/lib/python3.10/lib-dynload',\n",
              " '',\n",
              " '/usr/local/lib/python3.10/dist-packages',\n",
              " '/usr/lib/python3/dist-packages',\n",
              " '/usr/local/lib/python3.10/dist-packages/IPython/extensions',\n",
              " '/usr/local/lib/python3.10/dist-packages/setuptools/_vendor',\n",
              " '/root/.ipython']"
            ]
          },
          "metadata": {},
          "execution_count": 7
        }
      ]
    },
    {
      "cell_type": "markdown",
      "metadata": {
        "id": "VRVM91mPB34V"
      },
      "source": [
        "## 1.파이썬 이해하기"
      ]
    },
    {
      "cell_type": "markdown",
      "metadata": {
        "id": "BVZeLUFeILol"
      },
      "source": [
        "### [실습] 파이썬 정보 확인하기\n",
        "\n",
        "\n",
        "1.   설치된 파이썬 버전 출력하기\n",
        "2.   파이썬 실행파일 위치 출력하기\n",
        "\n"
      ]
    },
    {
      "cell_type": "code",
      "execution_count": null,
      "metadata": {
        "id": "wYTlynjPIaj4",
        "colab": {
          "base_uri": "https://localhost:8080/",
          "height": 110
        },
        "outputId": "1a6c47cb-3be5-41bb-b4a8-dc05f77ded5a"
      },
      "outputs": [
        {
          "output_type": "error",
          "ename": "SyntaxError",
          "evalue": "f-string: empty expression not allowed (<ipython-input-9-2de215e68471>, line 3)",
          "traceback": [
            "\u001b[0;36m  File \u001b[0;32m\"<ipython-input-9-2de215e68471>\"\u001b[0;36m, line \u001b[0;32m3\u001b[0m\n\u001b[0;31m    print(f'설치된 파이썬 버전: { }', sys.version)\u001b[0m\n\u001b[0m                            ^\u001b[0m\n\u001b[0;31mSyntaxError\u001b[0m\u001b[0;31m:\u001b[0m f-string: empty expression not allowed\n"
          ]
        }
      ],
      "source": [
        "import sys\n",
        "\n",
        "print(f'설치된 파이썬 버전: { }', sys.version)\n",
        "print(f'파이썬 실행파일 위치: { }', sys.version)"
      ]
    },
    {
      "cell_type": "markdown",
      "metadata": {
        "id": "KE15Fd6jCbUK"
      },
      "source": [
        "### 라이브러리 설치하기"
      ]
    },
    {
      "cell_type": "code",
      "execution_count": null,
      "metadata": {
        "id": "PlG-i1fYCbdI",
        "colab": {
          "base_uri": "https://localhost:8080/"
        },
        "outputId": "5ea56c9c-7ce7-4a47-b7ed-e398f7ce661e"
      },
      "outputs": [
        {
          "output_type": "stream",
          "name": "stdout",
          "text": [
            "Requirement already satisfied: missingno in /usr/local/lib/python3.10/dist-packages (0.5.2)\n",
            "Requirement already satisfied: numpy in /usr/local/lib/python3.10/dist-packages (from missingno) (1.26.4)\n",
            "Requirement already satisfied: matplotlib in /usr/local/lib/python3.10/dist-packages (from missingno) (3.7.1)\n",
            "Requirement already satisfied: scipy in /usr/local/lib/python3.10/dist-packages (from missingno) (1.13.1)\n",
            "Requirement already satisfied: seaborn in /usr/local/lib/python3.10/dist-packages (from missingno) (0.13.2)\n",
            "Requirement already satisfied: contourpy>=1.0.1 in /usr/local/lib/python3.10/dist-packages (from matplotlib->missingno) (1.3.0)\n",
            "Requirement already satisfied: cycler>=0.10 in /usr/local/lib/python3.10/dist-packages (from matplotlib->missingno) (0.12.1)\n",
            "Requirement already satisfied: fonttools>=4.22.0 in /usr/local/lib/python3.10/dist-packages (from matplotlib->missingno) (4.54.1)\n",
            "Requirement already satisfied: kiwisolver>=1.0.1 in /usr/local/lib/python3.10/dist-packages (from matplotlib->missingno) (1.4.7)\n",
            "Requirement already satisfied: packaging>=20.0 in /usr/local/lib/python3.10/dist-packages (from matplotlib->missingno) (24.1)\n",
            "Requirement already satisfied: pillow>=6.2.0 in /usr/local/lib/python3.10/dist-packages (from matplotlib->missingno) (10.4.0)\n",
            "Requirement already satisfied: pyparsing>=2.3.1 in /usr/local/lib/python3.10/dist-packages (from matplotlib->missingno) (3.1.4)\n",
            "Requirement already satisfied: python-dateutil>=2.7 in /usr/local/lib/python3.10/dist-packages (from matplotlib->missingno) (2.8.2)\n",
            "Requirement already satisfied: pandas>=1.2 in /usr/local/lib/python3.10/dist-packages (from seaborn->missingno) (2.2.2)\n",
            "Requirement already satisfied: pytz>=2020.1 in /usr/local/lib/python3.10/dist-packages (from pandas>=1.2->seaborn->missingno) (2024.2)\n",
            "Requirement already satisfied: tzdata>=2022.7 in /usr/local/lib/python3.10/dist-packages (from pandas>=1.2->seaborn->missingno) (2024.2)\n",
            "Requirement already satisfied: six>=1.5 in /usr/local/lib/python3.10/dist-packages (from python-dateutil>=2.7->matplotlib->missingno) (1.16.0)\n"
          ]
        }
      ],
      "source": [
        "!pip install missingno"
      ]
    },
    {
      "cell_type": "markdown",
      "source": [
        "### 라이브러리 삭제하기"
      ],
      "metadata": {
        "id": "3peceTCrCuXS"
      }
    },
    {
      "cell_type": "code",
      "execution_count": null,
      "metadata": {
        "id": "CO9pIWvq8GGN",
        "scrolled": true,
        "colab": {
          "base_uri": "https://localhost:8080/"
        },
        "outputId": "b1cae615-b63a-4725-e04e-9078b510a2b3"
      },
      "outputs": [
        {
          "output_type": "stream",
          "name": "stdout",
          "text": [
            "Found existing installation: missingno 0.5.2\n",
            "Uninstalling missingno-0.5.2:\n",
            "  Would remove:\n",
            "    /usr/local/lib/python3.10/dist-packages/missingno-0.5.2.dist-info/*\n",
            "    /usr/local/lib/python3.10/dist-packages/missingno/*\n",
            "Proceed (Y/n)? Y\n",
            "  Successfully uninstalled missingno-0.5.2\n"
          ]
        }
      ],
      "source": [
        "!pip uninstall missingno"
      ]
    },
    {
      "cell_type": "markdown",
      "metadata": {
        "id": "5KtJAiS08GGO"
      },
      "source": [
        "### 설치된 라이브러리 확인(전체)"
      ]
    },
    {
      "cell_type": "code",
      "execution_count": null,
      "metadata": {
        "id": "0bsTdq6y8GGO",
        "colab": {
          "base_uri": "https://localhost:8080/"
        },
        "outputId": "450229fe-c111-44b6-f9b5-705ddc91758d"
      },
      "outputs": [
        {
          "output_type": "stream",
          "name": "stdout",
          "text": [
            "Package                            Version\n",
            "---------------------------------- -------------------\n",
            "absl-py                            1.4.0\n",
            "accelerate                         0.34.2\n",
            "aiohappyeyeballs                   2.4.3\n",
            "aiohttp                            3.10.9\n",
            "aiosignal                          1.3.1\n",
            "alabaster                          0.7.16\n",
            "albucore                           0.0.16\n",
            "albumentations                     1.4.15\n",
            "altair                             4.2.2\n",
            "annotated-types                    0.7.0\n",
            "anyio                              3.7.1\n",
            "argon2-cffi                        23.1.0\n",
            "argon2-cffi-bindings               21.2.0\n",
            "array_record                       0.5.1\n",
            "arviz                              0.19.0\n",
            "astropy                            6.1.4\n",
            "astropy-iers-data                  0.2024.10.7.0.32.46\n",
            "astunparse                         1.6.3\n",
            "async-timeout                      4.0.3\n",
            "atpublic                           4.1.0\n",
            "attrs                              24.2.0\n",
            "audioread                          3.0.1\n",
            "autograd                           1.7.0\n",
            "babel                              2.16.0\n",
            "backcall                           0.2.0\n",
            "beautifulsoup4                     4.12.3\n",
            "bigframes                          1.21.0\n",
            "bigquery-magics                    0.4.0\n",
            "bleach                             6.1.0\n",
            "blinker                            1.4\n",
            "blis                               0.7.11\n",
            "blosc2                             2.0.0\n",
            "bokeh                              3.4.3\n",
            "Bottleneck                         1.4.0\n",
            "bqplot                             0.12.43\n",
            "branca                             0.8.0\n",
            "build                              1.2.2.post1\n",
            "CacheControl                       0.14.0\n",
            "cachetools                         5.5.0\n",
            "catalogue                          2.0.10\n",
            "certifi                            2024.8.30\n",
            "cffi                               1.17.1\n",
            "chardet                            5.2.0\n",
            "charset-normalizer                 3.3.2\n",
            "chex                               0.1.87\n",
            "clarabel                           0.9.0\n",
            "click                              8.1.7\n",
            "cloudpathlib                       0.19.0\n",
            "cloudpickle                        2.2.1\n",
            "cmake                              3.30.4\n",
            "cmdstanpy                          1.2.4\n",
            "colorcet                           3.1.0\n",
            "colorlover                         0.3.0\n",
            "colour                             0.1.5\n",
            "community                          1.0.0b1\n",
            "confection                         0.1.5\n",
            "cons                               0.4.6\n",
            "contextlib2                        21.6.0\n",
            "contourpy                          1.3.0\n",
            "cryptography                       43.0.1\n",
            "cuda-python                        12.2.1\n",
            "cudf-cu12                          24.6.1\n",
            "cufflinks                          0.17.3\n",
            "cupy-cuda12x                       12.2.0\n",
            "cvxopt                             1.3.2\n",
            "cvxpy                              1.5.3\n",
            "cycler                             0.12.1\n",
            "cymem                              2.0.8\n",
            "Cython                             3.0.11\n",
            "dask                               2024.8.0\n",
            "datascience                        0.17.6\n",
            "db-dtypes                          1.3.0\n",
            "dbus-python                        1.2.18\n",
            "debugpy                            1.6.6\n",
            "decorator                          4.4.2\n",
            "defusedxml                         0.7.1\n",
            "Deprecated                         1.2.14\n",
            "distributed                        2024.8.0\n",
            "distro                             1.7.0\n",
            "dlib                               19.24.2\n",
            "dm-tree                            0.1.8\n",
            "docstring_parser                   0.16\n",
            "docutils                           0.18.1\n",
            "dopamine_rl                        4.0.9\n",
            "duckdb                             1.1.1\n",
            "earthengine-api                    1.0.0\n",
            "easydict                           1.13\n",
            "ecos                               2.0.14\n",
            "editdistance                       0.8.1\n",
            "eerepr                             0.0.4\n",
            "einops                             0.8.0\n",
            "en-core-web-sm                     3.7.1\n",
            "entrypoints                        0.4\n",
            "et-xmlfile                         1.1.0\n",
            "etils                              1.9.4\n",
            "etuples                            0.3.9\n",
            "eval_type_backport                 0.2.0\n",
            "exceptiongroup                     1.2.2\n",
            "fastai                             2.7.17\n",
            "fastcore                           1.7.11\n",
            "fastdownload                       0.0.7\n",
            "fastjsonschema                     2.20.0\n",
            "fastprogress                       1.0.3\n",
            "fastrlock                          0.8.2\n",
            "filelock                           3.16.1\n",
            "firebase-admin                     6.5.0\n",
            "Flask                              2.2.5\n",
            "flatbuffers                        24.3.25\n",
            "flax                               0.8.5\n",
            "folium                             0.17.0\n",
            "fonttools                          4.54.1\n",
            "frozendict                         2.4.5\n",
            "frozenlist                         1.4.1\n",
            "fsspec                             2024.6.1\n",
            "future                             1.0.0\n",
            "gast                               0.6.0\n",
            "gcsfs                              2024.6.1\n",
            "GDAL                               3.6.4\n",
            "gdown                              5.2.0\n",
            "geemap                             0.34.5\n",
            "gensim                             4.3.3\n",
            "geocoder                           1.38.1\n",
            "geographiclib                      2.0\n",
            "geopandas                          1.0.1\n",
            "geopy                              2.4.1\n",
            "gin-config                         0.5.0\n",
            "glob2                              0.7\n",
            "google                             2.0.3\n",
            "google-ai-generativelanguage       0.6.6\n",
            "google-api-core                    2.19.2\n",
            "google-api-python-client           2.137.0\n",
            "google-auth                        2.27.0\n",
            "google-auth-httplib2               0.2.0\n",
            "google-auth-oauthlib               1.2.1\n",
            "google-cloud-aiplatform            1.69.0\n",
            "google-cloud-bigquery              3.25.0\n",
            "google-cloud-bigquery-connection   1.15.5\n",
            "google-cloud-bigquery-storage      2.26.0\n",
            "google-cloud-bigtable              2.26.0\n",
            "google-cloud-core                  2.4.1\n",
            "google-cloud-datastore             2.19.0\n",
            "google-cloud-firestore             2.16.1\n",
            "google-cloud-functions             1.16.5\n",
            "google-cloud-iam                   2.15.2\n",
            "google-cloud-language              2.13.4\n",
            "google-cloud-pubsub                2.25.2\n",
            "google-cloud-resource-manager      1.12.5\n",
            "google-cloud-storage               2.8.0\n",
            "google-cloud-translate             3.15.5\n",
            "google-colab                       1.0.0\n",
            "google-crc32c                      1.6.0\n",
            "google-generativeai                0.7.2\n",
            "google-pasta                       0.2.0\n",
            "google-resumable-media             2.7.2\n",
            "googleapis-common-protos           1.65.0\n",
            "googledrivedownloader              0.4\n",
            "graphviz                           0.20.3\n",
            "greenlet                           3.1.1\n",
            "grpc-google-iam-v1                 0.13.1\n",
            "grpcio                             1.64.1\n",
            "grpcio-status                      1.48.2\n",
            "gspread                            6.0.2\n",
            "gspread-dataframe                  3.3.1\n",
            "gym                                0.25.2\n",
            "gym-notices                        0.0.8\n",
            "h5netcdf                           1.4.0\n",
            "h5py                               3.11.0\n",
            "holidays                           0.57\n",
            "holoviews                          1.19.1\n",
            "html5lib                           1.1\n",
            "httpimport                         1.4.0\n",
            "httplib2                           0.22.0\n",
            "huggingface-hub                    0.24.7\n",
            "humanize                           4.10.0\n",
            "hyperopt                           0.2.7\n",
            "ibis-framework                     9.2.0\n",
            "idna                               3.10\n",
            "imageio                            2.35.1\n",
            "imageio-ffmpeg                     0.5.1\n",
            "imagesize                          1.4.1\n",
            "imbalanced-learn                   0.12.4\n",
            "imgaug                             0.4.0\n",
            "immutabledict                      4.2.0\n",
            "importlib_metadata                 8.4.0\n",
            "importlib_resources                6.4.5\n",
            "imutils                            0.5.4\n",
            "inflect                            7.4.0\n",
            "iniconfig                          2.0.0\n",
            "intel-cmplr-lib-ur                 2024.2.1\n",
            "intel-openmp                       2024.2.1\n",
            "ipyevents                          2.0.2\n",
            "ipyfilechooser                     0.6.0\n",
            "ipykernel                          5.5.6\n",
            "ipyleaflet                         0.19.2\n",
            "ipyparallel                        8.8.0\n",
            "ipython                            7.34.0\n",
            "ipython-genutils                   0.2.0\n",
            "ipython-sql                        0.5.0\n",
            "ipytree                            0.2.2\n",
            "ipywidgets                         7.7.1\n",
            "itsdangerous                       2.2.0\n",
            "jax                                0.4.33\n",
            "jax-cuda12-pjrt                    0.4.33\n",
            "jax-cuda12-plugin                  0.4.33\n",
            "jaxlib                             0.4.33\n",
            "jeepney                            0.7.1\n",
            "jellyfish                          1.1.0\n",
            "jieba                              0.42.1\n",
            "Jinja2                             3.1.4\n",
            "joblib                             1.4.2\n",
            "jsonpickle                         3.3.0\n",
            "jsonschema                         4.23.0\n",
            "jsonschema-specifications          2023.12.1\n",
            "jupyter-client                     6.1.12\n",
            "jupyter-console                    6.1.0\n",
            "jupyter_core                       5.7.2\n",
            "jupyter-leaflet                    0.19.2\n",
            "jupyter-server                     1.24.0\n",
            "jupyterlab_pygments                0.3.0\n",
            "jupyterlab_widgets                 3.0.13\n",
            "kaggle                             1.6.17\n",
            "kagglehub                          0.3.1\n",
            "keras                              3.4.1\n",
            "keyring                            23.5.0\n",
            "kiwisolver                         1.4.7\n",
            "langcodes                          3.4.1\n",
            "language_data                      1.2.0\n",
            "launchpadlib                       1.10.16\n",
            "lazr.restfulclient                 0.14.4\n",
            "lazr.uri                           1.0.6\n",
            "lazy_loader                        0.4\n",
            "libclang                           18.1.1\n",
            "librosa                            0.10.2.post1\n",
            "lightgbm                           4.5.0\n",
            "linkify-it-py                      2.0.3\n",
            "llvmlite                           0.43.0\n",
            "locket                             1.0.0\n",
            "logical-unification                0.4.6\n",
            "lxml                               4.9.4\n",
            "marisa-trie                        1.2.0\n",
            "Markdown                           3.7\n",
            "markdown-it-py                     3.0.0\n",
            "MarkupSafe                         2.1.5\n",
            "matplotlib                         3.7.1\n",
            "matplotlib-inline                  0.1.7\n",
            "matplotlib-venn                    1.1.1\n",
            "mdit-py-plugins                    0.4.2\n",
            "mdurl                              0.1.2\n",
            "miniKanren                         1.0.3\n",
            "mistune                            0.8.4\n",
            "mizani                             0.11.4\n",
            "mkl                                2024.2.2\n",
            "ml-dtypes                          0.4.1\n",
            "mlxtend                            0.23.1\n",
            "more-itertools                     10.5.0\n",
            "moviepy                            1.0.3\n",
            "mpmath                             1.3.0\n",
            "msgpack                            1.0.8\n",
            "multidict                          6.1.0\n",
            "multipledispatch                   1.0.0\n",
            "multitasking                       0.0.11\n",
            "murmurhash                         1.0.10\n",
            "music21                            9.1.0\n",
            "namex                              0.0.8\n",
            "natsort                            8.4.0\n",
            "nbclassic                          1.1.0\n",
            "nbclient                           0.10.0\n",
            "nbconvert                          6.5.4\n",
            "nbformat                           5.10.4\n",
            "nest-asyncio                       1.6.0\n",
            "networkx                           3.3\n",
            "nibabel                            5.2.1\n",
            "nltk                               3.8.1\n",
            "notebook                           6.5.5\n",
            "notebook_shim                      0.2.4\n",
            "numba                              0.60.0\n",
            "numexpr                            2.10.1\n",
            "numpy                              1.26.4\n",
            "nvidia-cublas-cu12                 12.6.3.3\n",
            "nvidia-cuda-cupti-cu12             12.6.80\n",
            "nvidia-cuda-nvcc-cu12              12.6.77\n",
            "nvidia-cuda-runtime-cu12           12.6.77\n",
            "nvidia-cudnn-cu12                  9.4.0.58\n",
            "nvidia-cufft-cu12                  11.3.0.4\n",
            "nvidia-cusolver-cu12               11.7.1.2\n",
            "nvidia-cusparse-cu12               12.5.4.2\n",
            "nvidia-nccl-cu12                   2.23.4\n",
            "nvidia-nvjitlink-cu12              12.6.77\n",
            "nvtx                               0.2.10\n",
            "oauth2client                       4.1.3\n",
            "oauthlib                           3.2.2\n",
            "opencv-contrib-python              4.10.0.84\n",
            "opencv-python                      4.10.0.84\n",
            "opencv-python-headless             4.10.0.84\n",
            "openpyxl                           3.1.5\n",
            "opentelemetry-api                  1.27.0\n",
            "opentelemetry-sdk                  1.27.0\n",
            "opentelemetry-semantic-conventions 0.48b0\n",
            "opt_einsum                         3.4.0\n",
            "optax                              0.2.3\n",
            "optree                             0.13.0\n",
            "orbax-checkpoint                   0.6.4\n",
            "osqp                               0.6.7.post0\n",
            "packaging                          24.1\n",
            "pandas                             2.2.2\n",
            "pandas-datareader                  0.10.0\n",
            "pandas-gbq                         0.23.2\n",
            "pandas-stubs                       2.2.2.240909\n",
            "pandocfilters                      1.5.1\n",
            "panel                              1.4.5\n",
            "param                              2.1.1\n",
            "parso                              0.8.4\n",
            "parsy                              2.1\n",
            "partd                              1.4.2\n",
            "pathlib                            1.0.1\n",
            "patsy                              0.5.6\n",
            "peewee                             3.17.6\n",
            "pexpect                            4.9.0\n",
            "pickleshare                        0.7.5\n",
            "pillow                             10.4.0\n",
            "pip                                24.1.2\n",
            "pip-tools                          7.4.1\n",
            "platformdirs                       4.3.6\n",
            "plotly                             5.24.1\n",
            "plotnine                           0.13.6\n",
            "pluggy                             1.5.0\n",
            "polars                             1.7.1\n",
            "pooch                              1.8.2\n",
            "portpicker                         1.5.2\n",
            "prefetch_generator                 1.0.3\n",
            "preshed                            3.0.9\n",
            "prettytable                        3.11.0\n",
            "proglog                            0.1.10\n",
            "progressbar2                       4.5.0\n",
            "prometheus_client                  0.21.0\n",
            "promise                            2.3\n",
            "prompt_toolkit                     3.0.48\n",
            "prophet                            1.1.6\n",
            "proto-plus                         1.24.0\n",
            "protobuf                           3.20.3\n",
            "psutil                             5.9.5\n",
            "psycopg2                           2.9.9\n",
            "ptyprocess                         0.7.0\n",
            "py-cpuinfo                         9.0.0\n",
            "py4j                               0.10.9.7\n",
            "pyarrow                            16.1.0\n",
            "pyarrow-hotfix                     0.6\n",
            "pyasn1                             0.6.1\n",
            "pyasn1_modules                     0.4.1\n",
            "pycocotools                        2.0.8\n",
            "pycparser                          2.22\n",
            "pydantic                           2.9.2\n",
            "pydantic_core                      2.23.4\n",
            "pydata-google-auth                 1.8.2\n",
            "pydot                              3.0.2\n",
            "pydot-ng                           2.0.0\n",
            "pydotplus                          2.0.2\n",
            "PyDrive                            1.3.1\n",
            "PyDrive2                           1.20.0\n",
            "pyerfa                             2.0.1.4\n",
            "pygame                             2.6.1\n",
            "Pygments                           2.18.0\n",
            "PyGObject                          3.42.1\n",
            "PyJWT                              2.9.0\n",
            "pymc                               5.16.2\n",
            "pymystem3                          0.2.0\n",
            "pynvjitlink-cu12                   0.3.0\n",
            "pyogrio                            0.10.0\n",
            "PyOpenGL                           3.1.7\n",
            "pyOpenSSL                          24.2.1\n",
            "pyparsing                          3.1.4\n",
            "pyperclip                          1.9.0\n",
            "pyproj                             3.7.0\n",
            "pyproject_hooks                    1.2.0\n",
            "pyshp                              2.3.1\n",
            "PySocks                            1.7.1\n",
            "pytensor                           2.25.5\n",
            "pytest                             7.4.4\n",
            "python-apt                         0.0.0\n",
            "python-box                         7.2.0\n",
            "python-dateutil                    2.8.2\n",
            "python-louvain                     0.16\n",
            "python-slugify                     8.0.4\n",
            "python-utils                       3.9.0\n",
            "pytz                               2024.2\n",
            "pyviz_comms                        3.0.3\n",
            "PyYAML                             6.0.2\n",
            "pyzmq                              24.0.1\n",
            "qdldl                              0.1.7.post4\n",
            "ratelim                            0.1.6\n",
            "referencing                        0.35.1\n",
            "regex                              2024.9.11\n",
            "requests                           2.32.3\n",
            "requests-oauthlib                  1.3.1\n",
            "requirements-parser                0.9.0\n",
            "rich                               13.9.2\n",
            "rmm-cu12                           24.6.0\n",
            "rpds-py                            0.20.0\n",
            "rpy2                               3.4.2\n",
            "rsa                                4.9\n",
            "safetensors                        0.4.5\n",
            "scikit-image                       0.24.0\n",
            "scikit-learn                       1.5.2\n",
            "scipy                              1.13.1\n",
            "scooby                             0.10.0\n",
            "scs                                3.2.7\n",
            "seaborn                            0.13.2\n",
            "SecretStorage                      3.3.1\n",
            "Send2Trash                         1.8.3\n",
            "sentencepiece                      0.2.0\n",
            "setuptools                         71.0.4\n",
            "shapely                            2.0.6\n",
            "shellingham                        1.5.4\n",
            "simple-parsing                     0.1.6\n",
            "six                                1.16.0\n",
            "sklearn-pandas                     2.2.0\n",
            "smart-open                         7.0.5\n",
            "sniffio                            1.3.1\n",
            "snowballstemmer                    2.2.0\n",
            "sortedcontainers                   2.4.0\n",
            "soundfile                          0.12.1\n",
            "soupsieve                          2.6\n",
            "soxr                               0.5.0.post1\n",
            "spacy                              3.7.5\n",
            "spacy-legacy                       3.0.12\n",
            "spacy-loggers                      1.0.5\n",
            "Sphinx                             5.0.2\n",
            "sphinxcontrib-applehelp            2.0.0\n",
            "sphinxcontrib-devhelp              2.0.0\n",
            "sphinxcontrib-htmlhelp             2.1.0\n",
            "sphinxcontrib-jsmath               1.0.1\n",
            "sphinxcontrib-qthelp               2.0.0\n",
            "sphinxcontrib-serializinghtml      2.0.0\n",
            "SQLAlchemy                         2.0.35\n",
            "sqlglot                            25.1.0\n",
            "sqlparse                           0.5.1\n",
            "srsly                              2.4.8\n",
            "stanio                             0.5.1\n",
            "statsmodels                        0.14.4\n",
            "StrEnum                            0.4.15\n",
            "sympy                              1.13.3\n",
            "tables                             3.8.0\n",
            "tabulate                           0.9.0\n",
            "tbb                                2021.13.1\n",
            "tblib                              3.0.0\n",
            "tenacity                           9.0.0\n",
            "tensorboard                        2.17.0\n",
            "tensorboard-data-server            0.7.2\n",
            "tensorflow                         2.17.0\n",
            "tensorflow-datasets                4.9.6\n",
            "tensorflow-hub                     0.16.1\n",
            "tensorflow-io-gcs-filesystem       0.37.1\n",
            "tensorflow-metadata                1.16.0\n",
            "tensorflow-probability             0.24.0\n",
            "tensorstore                        0.1.66\n",
            "termcolor                          2.5.0\n",
            "terminado                          0.18.1\n",
            "text-unidecode                     1.3\n",
            "textblob                           0.17.1\n",
            "tf_keras                           2.17.0\n",
            "tf-slim                            1.1.0\n",
            "thinc                              8.2.5\n",
            "threadpoolctl                      3.5.0\n",
            "tifffile                           2024.9.20\n",
            "tinycss2                           1.3.0\n",
            "tokenizers                         0.19.1\n",
            "toml                               0.10.2\n",
            "tomli                              2.0.2\n",
            "toolz                              0.12.1\n",
            "torch                              2.4.1+cu121\n",
            "torchaudio                         2.4.1+cu121\n",
            "torchsummary                       1.5.1\n",
            "torchvision                        0.19.1+cu121\n",
            "tornado                            6.3.3\n",
            "tqdm                               4.66.5\n",
            "traitlets                          5.7.1\n",
            "traittypes                         0.2.1\n",
            "transformers                       4.44.2\n",
            "tweepy                             4.14.0\n",
            "typeguard                          4.3.0\n",
            "typer                              0.12.5\n",
            "types-pytz                         2024.2.0.20241003\n",
            "types-setuptools                   75.1.0.20240917\n",
            "typing_extensions                  4.12.2\n",
            "tzdata                             2024.2\n",
            "tzlocal                            5.2\n",
            "uc-micro-py                        1.0.3\n",
            "uritemplate                        4.1.1\n",
            "urllib3                            2.2.3\n",
            "vega-datasets                      0.9.0\n",
            "wadllib                            1.3.6\n",
            "wasabi                             1.1.3\n",
            "wcwidth                            0.2.13\n",
            "weasel                             0.4.1\n",
            "webcolors                          24.8.0\n",
            "webencodings                       0.5.1\n",
            "websocket-client                   1.8.0\n",
            "Werkzeug                           3.0.4\n",
            "wheel                              0.44.0\n",
            "widgetsnbextension                 3.6.9\n",
            "wordcloud                          1.9.3\n",
            "wrapt                              1.16.0\n",
            "xarray                             2024.9.0\n",
            "xarray-einstats                    0.8.0\n",
            "xgboost                            2.1.1\n",
            "xlrd                               2.0.1\n",
            "xyzservices                        2024.9.0\n",
            "yarl                               1.13.1\n",
            "yellowbrick                        1.5\n",
            "yfinance                           0.2.44\n",
            "zict                               3.0.0\n",
            "zipp                               3.20.2\n"
          ]
        }
      ],
      "source": [
        "!pip list # 외부 명령어 사용시 ! 를 붙인다."
      ]
    },
    {
      "cell_type": "markdown",
      "metadata": {
        "id": "G_IjDeFh8GGP"
      },
      "source": [
        "### 설치된 라이브러리 확인(특정 라이브러리)"
      ]
    },
    {
      "cell_type": "code",
      "execution_count": null,
      "metadata": {
        "id": "TqvE9YpV8GGP",
        "colab": {
          "base_uri": "https://localhost:8080/"
        },
        "outputId": "8ca77fe4-9e4f-4969-d1e7-ae798fe4c975"
      },
      "outputs": [
        {
          "output_type": "stream",
          "name": "stdout",
          "text": [
            "Name: numpy\n",
            "Version: 1.26.4\n",
            "Summary: Fundamental package for array computing in Python\n",
            "Home-page: https://numpy.org\n",
            "Author: Travis E. Oliphant et al.\n",
            "Author-email: \n",
            "License: Copyright (c) 2005-2023, NumPy Developers.\n",
            "        All rights reserved.\n",
            "        \n",
            "        Redistribution and use in source and binary forms, with or without\n",
            "        modification, are permitted provided that the following conditions are\n",
            "        met:\n",
            "        \n",
            "            * Redistributions of source code must retain the above copyright\n",
            "               notice, this list of conditions and the following disclaimer.\n",
            "        \n",
            "            * Redistributions in binary form must reproduce the above\n",
            "               copyright notice, this list of conditions and the following\n",
            "               disclaimer in the documentation and/or other materials provided\n",
            "               with the distribution.\n",
            "        \n",
            "            * Neither the name of the NumPy Developers nor the names of any\n",
            "               contributors may be used to endorse or promote products derived\n",
            "               from this software without specific prior written permission.\n",
            "        \n",
            "        THIS SOFTWARE IS PROVIDED BY THE COPYRIGHT HOLDERS AND CONTRIBUTORS\n",
            "        \"AS IS\" AND ANY EXPRESS OR IMPLIED WARRANTIES, INCLUDING, BUT NOT\n",
            "        LIMITED TO, THE IMPLIED WARRANTIES OF MERCHANTABILITY AND FITNESS FOR\n",
            "        A PARTICULAR PURPOSE ARE DISCLAIMED. IN NO EVENT SHALL THE COPYRIGHT\n",
            "        OWNER OR CONTRIBUTORS BE LIABLE FOR ANY DIRECT, INDIRECT, INCIDENTAL,\n",
            "        SPECIAL, EXEMPLARY, OR CONSEQUENTIAL DAMAGES (INCLUDING, BUT NOT\n",
            "        LIMITED TO, PROCUREMENT OF SUBSTITUTE GOODS OR SERVICES; LOSS OF USE,\n",
            "        DATA, OR PROFITS; OR BUSINESS INTERRUPTION) HOWEVER CAUSED AND ON ANY\n",
            "        THEORY OF LIABILITY, WHETHER IN CONTRACT, STRICT LIABILITY, OR TORT\n",
            "        (INCLUDING NEGLIGENCE OR OTHERWISE) ARISING IN ANY WAY OUT OF THE USE\n",
            "        OF THIS SOFTWARE, EVEN IF ADVISED OF THE POSSIBILITY OF SUCH DAMAGE.\n",
            "        \n",
            "        ----\n",
            "        \n",
            "        The NumPy repository and source distributions bundle several libraries that are\n",
            "        compatibly licensed.  We list these here.\n",
            "        \n",
            "        Name: lapack-lite\n",
            "        Files: numpy/linalg/lapack_lite/*\n",
            "        License: BSD-3-Clause\n",
            "          For details, see numpy/linalg/lapack_lite/LICENSE.txt\n",
            "        \n",
            "        Name: tempita\n",
            "        Files: tools/npy_tempita/*\n",
            "        License: MIT\n",
            "          For details, see tools/npy_tempita/license.txt\n",
            "        \n",
            "        Name: dragon4\n",
            "        Files: numpy/core/src/multiarray/dragon4.c\n",
            "        License: MIT\n",
            "          For license text, see numpy/core/src/multiarray/dragon4.c\n",
            "        \n",
            "        Name: libdivide\n",
            "        Files: numpy/core/include/numpy/libdivide/*\n",
            "        License: Zlib\n",
            "          For license text, see numpy/core/include/numpy/libdivide/LICENSE.txt\n",
            "        \n",
            "        \n",
            "        Note that the following files are vendored in the repository and sdist but not\n",
            "        installed in built numpy packages:\n",
            "        \n",
            "        Name: Meson\n",
            "        Files: vendored-meson/meson/*\n",
            "        License: Apache 2.0\n",
            "          For license text, see vendored-meson/meson/COPYING\n",
            "        \n",
            "        Name: spin\n",
            "        Files: .spin/cmds.py\n",
            "        License: BSD-3\n",
            "          For license text, see .spin/LICENSE\n",
            "        \n",
            "        ----\n",
            "        \n",
            "        This binary distribution of NumPy also bundles the following software:\n",
            "        \n",
            "        \n",
            "        Name: OpenBLAS\n",
            "        Files: numpy.libs/libopenblas*.so\n",
            "        Description: bundled as a dynamically linked library\n",
            "        Availability: https://github.com/OpenMathLib/OpenBLAS/\n",
            "        License: BSD-3-Clause\n",
            "          Copyright (c) 2011-2014, The OpenBLAS Project\n",
            "          All rights reserved.\n",
            "        \n",
            "          Redistribution and use in source and binary forms, with or without\n",
            "          modification, are permitted provided that the following conditions are\n",
            "          met:\n",
            "        \n",
            "             1. Redistributions of source code must retain the above copyright\n",
            "                notice, this list of conditions and the following disclaimer.\n",
            "        \n",
            "             2. Redistributions in binary form must reproduce the above copyright\n",
            "                notice, this list of conditions and the following disclaimer in\n",
            "                the documentation and/or other materials provided with the\n",
            "                distribution.\n",
            "             3. Neither the name of the OpenBLAS project nor the names of\n",
            "                its contributors may be used to endorse or promote products\n",
            "                derived from this software without specific prior written\n",
            "                permission.\n",
            "        \n",
            "          THIS SOFTWARE IS PROVIDED BY THE COPYRIGHT HOLDERS AND CONTRIBUTORS \"AS IS\"\n",
            "          AND ANY EXPRESS OR IMPLIED WARRANTIES, INCLUDING, BUT NOT LIMITED TO, THE\n",
            "          IMPLIED WARRANTIES OF MERCHANTABILITY AND FITNESS FOR A PARTICULAR PURPOSE\n",
            "          ARE DISCLAIMED. IN NO EVENT SHALL THE COPYRIGHT OWNER OR CONTRIBUTORS BE\n",
            "          LIABLE FOR ANY DIRECT, INDIRECT, INCIDENTAL, SPECIAL, EXEMPLARY, OR CONSEQUENTIAL\n",
            "          DAMAGES (INCLUDING, BUT NOT LIMITED TO, PROCUREMENT OF SUBSTITUTE GOODS OR\n",
            "          SERVICES; LOSS OF USE, DATA, OR PROFITS; OR BUSINESS INTERRUPTION) HOWEVER\n",
            "          CAUSED AND ON ANY THEORY OF LIABILITY, WHETHER IN CONTRACT, STRICT LIABILITY,\n",
            "          OR TORT (INCLUDING NEGLIGENCE OR OTHERWISE) ARISING IN ANY WAY OUT OF THE\n",
            "          USE OF THIS SOFTWARE, EVEN IF ADVISED OF THE POSSIBILITY OF SUCH DAMAGE.\n",
            "        \n",
            "        \n",
            "        Name: LAPACK\n",
            "        Files: numpy.libs/libopenblas*.so\n",
            "        Description: bundled in OpenBLAS\n",
            "        Availability: https://github.com/OpenMathLib/OpenBLAS/\n",
            "        License: BSD-3-Clause-Attribution\n",
            "          Copyright (c) 1992-2013 The University of Tennessee and The University\n",
            "                                  of Tennessee Research Foundation.  All rights\n",
            "                                  reserved.\n",
            "          Copyright (c) 2000-2013 The University of California Berkeley. All\n",
            "                                  rights reserved.\n",
            "          Copyright (c) 2006-2013 The University of Colorado Denver.  All rights\n",
            "                                  reserved.\n",
            "        \n",
            "          $COPYRIGHT$\n",
            "        \n",
            "          Additional copyrights may follow\n",
            "        \n",
            "          $HEADER$\n",
            "        \n",
            "          Redistribution and use in source and binary forms, with or without\n",
            "          modification, are permitted provided that the following conditions are\n",
            "          met:\n",
            "        \n",
            "          - Redistributions of source code must retain the above copyright\n",
            "            notice, this list of conditions and the following disclaimer.\n",
            "        \n",
            "          - Redistributions in binary form must reproduce the above copyright\n",
            "            notice, this list of conditions and the following disclaimer listed\n",
            "            in this license in the documentation and/or other materials\n",
            "            provided with the distribution.\n",
            "        \n",
            "          - Neither the name of the copyright holders nor the names of its\n",
            "            contributors may be used to endorse or promote products derived from\n",
            "            this software without specific prior written permission.\n",
            "        \n",
            "          The copyright holders provide no reassurances that the source code\n",
            "          provided does not infringe any patent, copyright, or any other\n",
            "          intellectual property rights of third parties.  The copyright holders\n",
            "          disclaim any liability to any recipient for claims brought against\n",
            "          recipient by any third party for infringement of that parties\n",
            "          intellectual property rights.\n",
            "        \n",
            "          THIS SOFTWARE IS PROVIDED BY THE COPYRIGHT HOLDERS AND CONTRIBUTORS\n",
            "          \"AS IS\" AND ANY EXPRESS OR IMPLIED WARRANTIES, INCLUDING, BUT NOT\n",
            "          LIMITED TO, THE IMPLIED WARRANTIES OF MERCHANTABILITY AND FITNESS FOR\n",
            "          A PARTICULAR PURPOSE ARE DISCLAIMED. IN NO EVENT SHALL THE COPYRIGHT\n",
            "          OWNER OR CONTRIBUTORS BE LIABLE FOR ANY DIRECT, INDIRECT, INCIDENTAL,\n",
            "          SPECIAL, EXEMPLARY, OR CONSEQUENTIAL DAMAGES (INCLUDING, BUT NOT\n",
            "          LIMITED TO, PROCUREMENT OF SUBSTITUTE GOODS OR SERVICES; LOSS OF USE,\n",
            "          DATA, OR PROFITS; OR BUSINESS INTERRUPTION) HOWEVER CAUSED AND ON ANY\n",
            "          THEORY OF LIABILITY, WHETHER IN CONTRACT, STRICT LIABILITY, OR TORT\n",
            "          (INCLUDING NEGLIGENCE OR OTHERWISE) ARISING IN ANY WAY OUT OF THE USE\n",
            "          OF THIS SOFTWARE, EVEN IF ADVISED OF THE POSSIBILITY OF SUCH DAMAGE.\n",
            "        \n",
            "        \n",
            "        Name: GCC runtime library\n",
            "        Files: numpy.libs/libgfortran*.so\n",
            "        Description: dynamically linked to files compiled with gcc\n",
            "        Availability: https://gcc.gnu.org/git/?p=gcc.git;a=tree;f=libgfortran\n",
            "        License: GPL-3.0-with-GCC-exception\n",
            "          Copyright (C) 2002-2017 Free Software Foundation, Inc.\n",
            "        \n",
            "          Libgfortran is free software; you can redistribute it and/or modify\n",
            "          it under the terms of the GNU General Public License as published by\n",
            "          the Free Software Foundation; either version 3, or (at your option)\n",
            "          any later version.\n",
            "        \n",
            "          Libgfortran is distributed in the hope that it will be useful,\n",
            "          but WITHOUT ANY WARRANTY; without even the implied warranty of\n",
            "          MERCHANTABILITY or FITNESS FOR A PARTICULAR PURPOSE.  See the\n",
            "          GNU General Public License for more details.\n",
            "        \n",
            "          Under Section 7 of GPL version 3, you are granted additional\n",
            "          permissions described in the GCC Runtime Library Exception, version\n",
            "          3.1, as published by the Free Software Foundation.\n",
            "        \n",
            "          You should have received a copy of the GNU General Public License and\n",
            "          a copy of the GCC Runtime Library Exception along with this program;\n",
            "          see the files COPYING3 and COPYING.RUNTIME respectively.  If not, see\n",
            "          <http://www.gnu.org/licenses/>.\n",
            "        \n",
            "        ----\n",
            "        \n",
            "        Full text of license texts referred to above follows (that they are\n",
            "        listed below does not necessarily imply the conditions apply to the\n",
            "        present binary release):\n",
            "        \n",
            "        ----\n",
            "        \n",
            "        GCC RUNTIME LIBRARY EXCEPTION\n",
            "        \n",
            "        Version 3.1, 31 March 2009\n",
            "        \n",
            "        Copyright (C) 2009 Free Software Foundation, Inc. <http://fsf.org/>\n",
            "        \n",
            "        Everyone is permitted to copy and distribute verbatim copies of this\n",
            "        license document, but changing it is not allowed.\n",
            "        \n",
            "        This GCC Runtime Library Exception (\"Exception\") is an additional\n",
            "        permission under section 7 of the GNU General Public License, version\n",
            "        3 (\"GPLv3\"). It applies to a given file (the \"Runtime Library\") that\n",
            "        bears a notice placed by the copyright holder of the file stating that\n",
            "        the file is governed by GPLv3 along with this Exception.\n",
            "        \n",
            "        When you use GCC to compile a program, GCC may combine portions of\n",
            "        certain GCC header files and runtime libraries with the compiled\n",
            "        program. The purpose of this Exception is to allow compilation of\n",
            "        non-GPL (including proprietary) programs to use, in this way, the\n",
            "        header files and runtime libraries covered by this Exception.\n",
            "        \n",
            "        0. Definitions.\n",
            "        \n",
            "        A file is an \"Independent Module\" if it either requires the Runtime\n",
            "        Library for execution after a Compilation Process, or makes use of an\n",
            "        interface provided by the Runtime Library, but is not otherwise based\n",
            "        on the Runtime Library.\n",
            "        \n",
            "        \"GCC\" means a version of the GNU Compiler Collection, with or without\n",
            "        modifications, governed by version 3 (or a specified later version) of\n",
            "        the GNU General Public License (GPL) with the option of using any\n",
            "        subsequent versions published by the FSF.\n",
            "        \n",
            "        \"GPL-compatible Software\" is software whose conditions of propagation,\n",
            "        modification and use would permit combination with GCC in accord with\n",
            "        the license of GCC.\n",
            "        \n",
            "        \"Target Code\" refers to output from any compiler for a real or virtual\n",
            "        target processor architecture, in executable form or suitable for\n",
            "        input to an assembler, loader, linker and/or execution\n",
            "        phase. Notwithstanding that, Target Code does not include data in any\n",
            "        format that is used as a compiler intermediate representation, or used\n",
            "        for producing a compiler intermediate representation.\n",
            "        \n",
            "        The \"Compilation Process\" transforms code entirely represented in\n",
            "        non-intermediate languages designed for human-written code, and/or in\n",
            "        Java Virtual Machine byte code, into Target Code. Thus, for example,\n",
            "        use of source code generators and preprocessors need not be considered\n",
            "        part of the Compilation Process, since the Compilation Process can be\n",
            "        understood as starting with the output of the generators or\n",
            "        preprocessors.\n",
            "        \n",
            "        A Compilation Process is \"Eligible\" if it is done using GCC, alone or\n",
            "        with other GPL-compatible software, or if it is done without using any\n",
            "        work based on GCC. For example, using non-GPL-compatible Software to\n",
            "        optimize any GCC intermediate representations would not qualify as an\n",
            "        Eligible Compilation Process.\n",
            "        \n",
            "        1. Grant of Additional Permission.\n",
            "        \n",
            "        You have permission to propagate a work of Target Code formed by\n",
            "        combining the Runtime Library with Independent Modules, even if such\n",
            "        propagation would otherwise violate the terms of GPLv3, provided that\n",
            "        all Target Code was generated by Eligible Compilation Processes. You\n",
            "        may then convey such a combination under terms of your choice,\n",
            "        consistent with the licensing of the Independent Modules.\n",
            "        \n",
            "        2. No Weakening of GCC Copyleft.\n",
            "        \n",
            "        The availability of this Exception does not imply any general\n",
            "        presumption that third-party software is unaffected by the copyleft\n",
            "        requirements of the license of GCC.\n",
            "        \n",
            "        ----\n",
            "        \n",
            "                            GNU GENERAL PUBLIC LICENSE\n",
            "                               Version 3, 29 June 2007\n",
            "        \n",
            "         Copyright (C) 2007 Free Software Foundation, Inc. <http://fsf.org/>\n",
            "         Everyone is permitted to copy and distribute verbatim copies\n",
            "         of this license document, but changing it is not allowed.\n",
            "        \n",
            "                                    Preamble\n",
            "        \n",
            "          The GNU General Public License is a free, copyleft license for\n",
            "        software and other kinds of works.\n",
            "        \n",
            "          The licenses for most software and other practical works are designed\n",
            "        to take away your freedom to share and change the works.  By contrast,\n",
            "        the GNU General Public License is intended to guarantee your freedom to\n",
            "        share and change all versions of a program--to make sure it remains free\n",
            "        software for all its users.  We, the Free Software Foundation, use the\n",
            "        GNU General Public License for most of our software; it applies also to\n",
            "        any other work released this way by its authors.  You can apply it to\n",
            "        your programs, too.\n",
            "        \n",
            "          When we speak of free software, we are referring to freedom, not\n",
            "        price.  Our General Public Licenses are designed to make sure that you\n",
            "        have the freedom to distribute copies of free software (and charge for\n",
            "        them if you wish), that you receive source code or can get it if you\n",
            "        want it, that you can change the software or use pieces of it in new\n",
            "        free programs, and that you know you can do these things.\n",
            "        \n",
            "          To protect your rights, we need to prevent others from denying you\n",
            "        these rights or asking you to surrender the rights.  Therefore, you have\n",
            "        certain responsibilities if you distribute copies of the software, or if\n",
            "        you modify it: responsibilities to respect the freedom of others.\n",
            "        \n",
            "          For example, if you distribute copies of such a program, whether\n",
            "        gratis or for a fee, you must pass on to the recipients the same\n",
            "        freedoms that you received.  You must make sure that they, too, receive\n",
            "        or can get the source code.  And you must show them these terms so they\n",
            "        know their rights.\n",
            "        \n",
            "          Developers that use the GNU GPL protect your rights with two steps:\n",
            "        (1) assert copyright on the software, and (2) offer you this License\n",
            "        giving you legal permission to copy, distribute and/or modify it.\n",
            "        \n",
            "          For the developers' and authors' protection, the GPL clearly explains\n",
            "        that there is no warranty for this free software.  For both users' and\n",
            "        authors' sake, the GPL requires that modified versions be marked as\n",
            "        changed, so that their problems will not be attributed erroneously to\n",
            "        authors of previous versions.\n",
            "        \n",
            "          Some devices are designed to deny users access to install or run\n",
            "        modified versions of the software inside them, although the manufacturer\n",
            "        can do so.  This is fundamentally incompatible with the aim of\n",
            "        protecting users' freedom to change the software.  The systematic\n",
            "        pattern of such abuse occurs in the area of products for individuals to\n",
            "        use, which is precisely where it is most unacceptable.  Therefore, we\n",
            "        have designed this version of the GPL to prohibit the practice for those\n",
            "        products.  If such problems arise substantially in other domains, we\n",
            "        stand ready to extend this provision to those domains in future versions\n",
            "        of the GPL, as needed to protect the freedom of users.\n",
            "        \n",
            "          Finally, every program is threatened constantly by software patents.\n",
            "        States should not allow patents to restrict development and use of\n",
            "        software on general-purpose computers, but in those that do, we wish to\n",
            "        avoid the special danger that patents applied to a free program could\n",
            "        make it effectively proprietary.  To prevent this, the GPL assures that\n",
            "        patents cannot be used to render the program non-free.\n",
            "        \n",
            "          The precise terms and conditions for copying, distribution and\n",
            "        modification follow.\n",
            "        \n",
            "                               TERMS AND CONDITIONS\n",
            "        \n",
            "          0. Definitions.\n",
            "        \n",
            "          \"This License\" refers to version 3 of the GNU General Public License.\n",
            "        \n",
            "          \"Copyright\" also means copyright-like laws that apply to other kinds of\n",
            "        works, such as semiconductor masks.\n",
            "        \n",
            "          \"The Program\" refers to any copyrightable work licensed under this\n",
            "        License.  Each licensee is addressed as \"you\".  \"Licensees\" and\n",
            "        \"recipients\" may be individuals or organizations.\n",
            "        \n",
            "          To \"modify\" a work means to copy from or adapt all or part of the work\n",
            "        in a fashion requiring copyright permission, other than the making of an\n",
            "        exact copy.  The resulting work is called a \"modified version\" of the\n",
            "        earlier work or a work \"based on\" the earlier work.\n",
            "        \n",
            "          A \"covered work\" means either the unmodified Program or a work based\n",
            "        on the Program.\n",
            "        \n",
            "          To \"propagate\" a work means to do anything with it that, without\n",
            "        permission, would make you directly or secondarily liable for\n",
            "        infringement under applicable copyright law, except executing it on a\n",
            "        computer or modifying a private copy.  Propagation includes copying,\n",
            "        distribution (with or without modification), making available to the\n",
            "        public, and in some countries other activities as well.\n",
            "        \n",
            "          To \"convey\" a work means any kind of propagation that enables other\n",
            "        parties to make or receive copies.  Mere interaction with a user through\n",
            "        a computer network, with no transfer of a copy, is not conveying.\n",
            "        \n",
            "          An interactive user interface displays \"Appropriate Legal Notices\"\n",
            "        to the extent that it includes a convenient and prominently visible\n",
            "        feature that (1) displays an appropriate copyright notice, and (2)\n",
            "        tells the user that there is no warranty for the work (except to the\n",
            "        extent that warranties are provided), that licensees may convey the\n",
            "        work under this License, and how to view a copy of this License.  If\n",
            "        the interface presents a list of user commands or options, such as a\n",
            "        menu, a prominent item in the list meets this criterion.\n",
            "        \n",
            "          1. Source Code.\n",
            "        \n",
            "          The \"source code\" for a work means the preferred form of the work\n",
            "        for making modifications to it.  \"Object code\" means any non-source\n",
            "        form of a work.\n",
            "        \n",
            "          A \"Standard Interface\" means an interface that either is an official\n",
            "        standard defined by a recognized standards body, or, in the case of\n",
            "        interfaces specified for a particular programming language, one that\n",
            "        is widely used among developers working in that language.\n",
            "        \n",
            "          The \"System Libraries\" of an executable work include anything, other\n",
            "        than the work as a whole, that (a) is included in the normal form of\n",
            "        packaging a Major Component, but which is not part of that Major\n",
            "        Component, and (b) serves only to enable use of the work with that\n",
            "        Major Component, or to implement a Standard Interface for which an\n",
            "        implementation is available to the public in source code form.  A\n",
            "        \"Major Component\", in this context, means a major essential component\n",
            "        (kernel, window system, and so on) of the specific operating system\n",
            "        (if any) on which the executable work runs, or a compiler used to\n",
            "        produce the work, or an object code interpreter used to run it.\n",
            "        \n",
            "          The \"Corresponding Source\" for a work in object code form means all\n",
            "        the source code needed to generate, install, and (for an executable\n",
            "        work) run the object code and to modify the work, including scripts to\n",
            "        control those activities.  However, it does not include the work's\n",
            "        System Libraries, or general-purpose tools or generally available free\n",
            "        programs which are used unmodified in performing those activities but\n",
            "        which are not part of the work.  For example, Corresponding Source\n",
            "        includes interface definition files associated with source files for\n",
            "        the work, and the source code for shared libraries and dynamically\n",
            "        linked subprograms that the work is specifically designed to require,\n",
            "        such as by intimate data communication or control flow between those\n",
            "        subprograms and other parts of the work.\n",
            "        \n",
            "          The Corresponding Source need not include anything that users\n",
            "        can regenerate automatically from other parts of the Corresponding\n",
            "        Source.\n",
            "        \n",
            "          The Corresponding Source for a work in source code form is that\n",
            "        same work.\n",
            "        \n",
            "          2. Basic Permissions.\n",
            "        \n",
            "          All rights granted under this License are granted for the term of\n",
            "        copyright on the Program, and are irrevocable provided the stated\n",
            "        conditions are met.  This License explicitly affirms your unlimited\n",
            "        permission to run the unmodified Program.  The output from running a\n",
            "        covered work is covered by this License only if the output, given its\n",
            "        content, constitutes a covered work.  This License acknowledges your\n",
            "        rights of fair use or other equivalent, as provided by copyright law.\n",
            "        \n",
            "          You may make, run and propagate covered works that you do not\n",
            "        convey, without conditions so long as your license otherwise remains\n",
            "        in force.  You may convey covered works to others for the sole purpose\n",
            "        of having them make modifications exclusively for you, or provide you\n",
            "        with facilities for running those works, provided that you comply with\n",
            "        the terms of this License in conveying all material for which you do\n",
            "        not control copyright.  Those thus making or running the covered works\n",
            "        for you must do so exclusively on your behalf, under your direction\n",
            "        and control, on terms that prohibit them from making any copies of\n",
            "        your copyrighted material outside their relationship with you.\n",
            "        \n",
            "          Conveying under any other circumstances is permitted solely under\n",
            "        the conditions stated below.  Sublicensing is not allowed; section 10\n",
            "        makes it unnecessary.\n",
            "        \n",
            "          3. Protecting Users' Legal Rights From Anti-Circumvention Law.\n",
            "        \n",
            "          No covered work shall be deemed part of an effective technological\n",
            "        measure under any applicable law fulfilling obligations under article\n",
            "        11 of the WIPO copyright treaty adopted on 20 December 1996, or\n",
            "        similar laws prohibiting or restricting circumvention of such\n",
            "        measures.\n",
            "        \n",
            "          When you convey a covered work, you waive any legal power to forbid\n",
            "        circumvention of technological measures to the extent such circumvention\n",
            "        is effected by exercising rights under this License with respect to\n",
            "        the covered work, and you disclaim any intention to limit operation or\n",
            "        modification of the work as a means of enforcing, against the work's\n",
            "        users, your or third parties' legal rights to forbid circumvention of\n",
            "        technological measures.\n",
            "        \n",
            "          4. Conveying Verbatim Copies.\n",
            "        \n",
            "          You may convey verbatim copies of the Program's source code as you\n",
            "        receive it, in any medium, provided that you conspicuously and\n",
            "        appropriately publish on each copy an appropriate copyright notice;\n",
            "        keep intact all notices stating that this License and any\n",
            "        non-permissive terms added in accord with section 7 apply to the code;\n",
            "        keep intact all notices of the absence of any warranty; and give all\n",
            "        recipients a copy of this License along with the Program.\n",
            "        \n",
            "          You may charge any price or no price for each copy that you convey,\n",
            "        and you may offer support or warranty protection for a fee.\n",
            "        \n",
            "          5. Conveying Modified Source Versions.\n",
            "        \n",
            "          You may convey a work based on the Program, or the modifications to\n",
            "        produce it from the Program, in the form of source code under the\n",
            "        terms of section 4, provided that you also meet all of these conditions:\n",
            "        \n",
            "            a) The work must carry prominent notices stating that you modified\n",
            "            it, and giving a relevant date.\n",
            "        \n",
            "            b) The work must carry prominent notices stating that it is\n",
            "            released under this License and any conditions added under section\n",
            "            7.  This requirement modifies the requirement in section 4 to\n",
            "            \"keep intact all notices\".\n",
            "        \n",
            "            c) You must license the entire work, as a whole, under this\n",
            "            License to anyone who comes into possession of a copy.  This\n",
            "            License will therefore apply, along with any applicable section 7\n",
            "            additional terms, to the whole of the work, and all its parts,\n",
            "            regardless of how they are packaged.  This License gives no\n",
            "            permission to license the work in any other way, but it does not\n",
            "            invalidate such permission if you have separately received it.\n",
            "        \n",
            "            d) If the work has interactive user interfaces, each must display\n",
            "            Appropriate Legal Notices; however, if the Program has interactive\n",
            "            interfaces that do not display Appropriate Legal Notices, your\n",
            "            work need not make them do so.\n",
            "        \n",
            "          A compilation of a covered work with other separate and independent\n",
            "        works, which are not by their nature extensions of the covered work,\n",
            "        and which are not combined with it such as to form a larger program,\n",
            "        in or on a volume of a storage or distribution medium, is called an\n",
            "        \"aggregate\" if the compilation and its resulting copyright are not\n",
            "        used to limit the access or legal rights of the compilation's users\n",
            "        beyond what the individual works permit.  Inclusion of a covered work\n",
            "        in an aggregate does not cause this License to apply to the other\n",
            "        parts of the aggregate.\n",
            "        \n",
            "          6. Conveying Non-Source Forms.\n",
            "        \n",
            "          You may convey a covered work in object code form under the terms\n",
            "        of sections 4 and 5, provided that you also convey the\n",
            "        machine-readable Corresponding Source under the terms of this License,\n",
            "        in one of these ways:\n",
            "        \n",
            "            a) Convey the object code in, or embodied in, a physical product\n",
            "            (including a physical distribution medium), accompanied by the\n",
            "            Corresponding Source fixed on a durable physical medium\n",
            "            customarily used for software interchange.\n",
            "        \n",
            "            b) Convey the object code in, or embodied in, a physical product\n",
            "            (including a physical distribution medium), accompanied by a\n",
            "            written offer, valid for at least three years and valid for as\n",
            "            long as you offer spare parts or customer support for that product\n",
            "            model, to give anyone who possesses the object code either (1) a\n",
            "            copy of the Corresponding Source for all the software in the\n",
            "            product that is covered by this License, on a durable physical\n",
            "            medium customarily used for software interchange, for a price no\n",
            "            more than your reasonable cost of physically performing this\n",
            "            conveying of source, or (2) access to copy the\n",
            "            Corresponding Source from a network server at no charge.\n",
            "        \n",
            "            c) Convey individual copies of the object code with a copy of the\n",
            "            written offer to provide the Corresponding Source.  This\n",
            "            alternative is allowed only occasionally and noncommercially, and\n",
            "            only if you received the object code with such an offer, in accord\n",
            "            with subsection 6b.\n",
            "        \n",
            "            d) Convey the object code by offering access from a designated\n",
            "            place (gratis or for a charge), and offer equivalent access to the\n",
            "            Corresponding Source in the same way through the same place at no\n",
            "            further charge.  You need not require recipients to copy the\n",
            "            Corresponding Source along with the object code.  If the place to\n",
            "            copy the object code is a network server, the Corresponding Source\n",
            "            may be on a different server (operated by you or a third party)\n",
            "            that supports equivalent copying facilities, provided you maintain\n",
            "            clear directions next to the object code saying where to find the\n",
            "            Corresponding Source.  Regardless of what server hosts the\n",
            "            Corresponding Source, you remain obligated to ensure that it is\n",
            "            available for as long as needed to satisfy these requirements.\n",
            "        \n",
            "            e) Convey the object code using peer-to-peer transmission, provided\n",
            "            you inform other peers where the object code and Corresponding\n",
            "            Source of the work are being offered to the general public at no\n",
            "            charge under subsection 6d.\n",
            "        \n",
            "          A separable portion of the object code, whose source code is excluded\n",
            "        from the Corresponding Source as a System Library, need not be\n",
            "        included in conveying the object code work.\n",
            "        \n",
            "          A \"User Product\" is either (1) a \"consumer product\", which means any\n",
            "        tangible personal property which is normally used for personal, family,\n",
            "        or household purposes, or (2) anything designed or sold for incorporation\n",
            "        into a dwelling.  In determining whether a product is a consumer product,\n",
            "        doubtful cases shall be resolved in favor of coverage.  For a particular\n",
            "        product received by a particular user, \"normally used\" refers to a\n",
            "        typical or common use of that class of product, regardless of the status\n",
            "        of the particular user or of the way in which the particular user\n",
            "        actually uses, or expects or is expected to use, the product.  A product\n",
            "        is a consumer product regardless of whether the product has substantial\n",
            "        commercial, industrial or non-consumer uses, unless such uses represent\n",
            "        the only significant mode of use of the product.\n",
            "        \n",
            "          \"Installation Information\" for a User Product means any methods,\n",
            "        procedures, authorization keys, or other information required to install\n",
            "        and execute modified versions of a covered work in that User Product from\n",
            "        a modified version of its Corresponding Source.  The information must\n",
            "        suffice to ensure that the continued functioning of the modified object\n",
            "        code is in no case prevented or interfered with solely because\n",
            "        modification has been made.\n",
            "        \n",
            "          If you convey an object code work under this section in, or with, or\n",
            "        specifically for use in, a User Product, and the conveying occurs as\n",
            "        part of a transaction in which the right of possession and use of the\n",
            "        User Product is transferred to the recipient in perpetuity or for a\n",
            "        fixed term (regardless of how the transaction is characterized), the\n",
            "        Corresponding Source conveyed under this section must be accompanied\n",
            "        by the Installation Information.  But this requirement does not apply\n",
            "        if neither you nor any third party retains the ability to install\n",
            "        modified object code on the User Product (for example, the work has\n",
            "        been installed in ROM).\n",
            "        \n",
            "          The requirement to provide Installation Information does not include a\n",
            "        requirement to continue to provide support service, warranty, or updates\n",
            "        for a work that has been modified or installed by the recipient, or for\n",
            "        the User Product in which it has been modified or installed.  Access to a\n",
            "        network may be denied when the modification itself materially and\n",
            "        adversely affects the operation of the network or violates the rules and\n",
            "        protocols for communication across the network.\n",
            "        \n",
            "          Corresponding Source conveyed, and Installation Information provided,\n",
            "        in accord with this section must be in a format that is publicly\n",
            "        documented (and with an implementation available to the public in\n",
            "        source code form), and must require no special password or key for\n",
            "        unpacking, reading or copying.\n",
            "        \n",
            "          7. Additional Terms.\n",
            "        \n",
            "          \"Additional permissions\" are terms that supplement the terms of this\n",
            "        License by making exceptions from one or more of its conditions.\n",
            "        Additional permissions that are applicable to the entire Program shall\n",
            "        be treated as though they were included in this License, to the extent\n",
            "        that they are valid under applicable law.  If additional permissions\n",
            "        apply only to part of the Program, that part may be used separately\n",
            "        under those permissions, but the entire Program remains governed by\n",
            "        this License without regard to the additional permissions.\n",
            "        \n",
            "          When you convey a copy of a covered work, you may at your option\n",
            "        remove any additional permissions from that copy, or from any part of\n",
            "        it.  (Additional permissions may be written to require their own\n",
            "        removal in certain cases when you modify the work.)  You may place\n",
            "        additional permissions on material, added by you to a covered work,\n",
            "        for which you have or can give appropriate copyright permission.\n",
            "        \n",
            "          Notwithstanding any other provision of this License, for material you\n",
            "        add to a covered work, you may (if authorized by the copyright holders of\n",
            "        that material) supplement the terms of this License with terms:\n",
            "        \n",
            "            a) Disclaiming warranty or limiting liability differently from the\n",
            "            terms of sections 15 and 16 of this License; or\n",
            "        \n",
            "            b) Requiring preservation of specified reasonable legal notices or\n",
            "            author attributions in that material or in the Appropriate Legal\n",
            "            Notices displayed by works containing it; or\n",
            "        \n",
            "            c) Prohibiting misrepresentation of the origin of that material, or\n",
            "            requiring that modified versions of such material be marked in\n",
            "            reasonable ways as different from the original version; or\n",
            "        \n",
            "            d) Limiting the use for publicity purposes of names of licensors or\n",
            "            authors of the material; or\n",
            "        \n",
            "            e) Declining to grant rights under trademark law for use of some\n",
            "            trade names, trademarks, or service marks; or\n",
            "        \n",
            "            f) Requiring indemnification of licensors and authors of that\n",
            "            material by anyone who conveys the material (or modified versions of\n",
            "            it) with contractual assumptions of liability to the recipient, for\n",
            "            any liability that these contractual assumptions directly impose on\n",
            "            those licensors and authors.\n",
            "        \n",
            "          All other non-permissive additional terms are considered \"further\n",
            "        restrictions\" within the meaning of section 10.  If the Program as you\n",
            "        received it, or any part of it, contains a notice stating that it is\n",
            "        governed by this License along with a term that is a further\n",
            "        restriction, you may remove that term.  If a license document contains\n",
            "        a further restriction but permits relicensing or conveying under this\n",
            "        License, you may add to a covered work material governed by the terms\n",
            "        of that license document, provided that the further restriction does\n",
            "        not survive such relicensing or conveying.\n",
            "        \n",
            "          If you add terms to a covered work in accord with this section, you\n",
            "        must place, in the relevant source files, a statement of the\n",
            "        additional terms that apply to those files, or a notice indicating\n",
            "        where to find the applicable terms.\n",
            "        \n",
            "          Additional terms, permissive or non-permissive, may be stated in the\n",
            "        form of a separately written license, or stated as exceptions;\n",
            "        the above requirements apply either way.\n",
            "        \n",
            "          8. Termination.\n",
            "        \n",
            "          You may not propagate or modify a covered work except as expressly\n",
            "        provided under this License.  Any attempt otherwise to propagate or\n",
            "        modify it is void, and will automatically terminate your rights under\n",
            "        this License (including any patent licenses granted under the third\n",
            "        paragraph of section 11).\n",
            "        \n",
            "          However, if you cease all violation of this License, then your\n",
            "        license from a particular copyright holder is reinstated (a)\n",
            "        provisionally, unless and until the copyright holder explicitly and\n",
            "        finally terminates your license, and (b) permanently, if the copyright\n",
            "        holder fails to notify you of the violation by some reasonable means\n",
            "        prior to 60 days after the cessation.\n",
            "        \n",
            "          Moreover, your license from a particular copyright holder is\n",
            "        reinstated permanently if the copyright holder notifies you of the\n",
            "        violation by some reasonable means, this is the first time you have\n",
            "        received notice of violation of this License (for any work) from that\n",
            "        copyright holder, and you cure the violation prior to 30 days after\n",
            "        your receipt of the notice.\n",
            "        \n",
            "          Termination of your rights under this section does not terminate the\n",
            "        licenses of parties who have received copies or rights from you under\n",
            "        this License.  If your rights have been terminated and not permanently\n",
            "        reinstated, you do not qualify to receive new licenses for the same\n",
            "        material under section 10.\n",
            "        \n",
            "          9. Acceptance Not Required for Having Copies.\n",
            "        \n",
            "          You are not required to accept this License in order to receive or\n",
            "        run a copy of the Program.  Ancillary propagation of a covered work\n",
            "        occurring solely as a consequence of using peer-to-peer transmission\n",
            "        to receive a copy likewise does not require acceptance.  However,\n",
            "        nothing other than this License grants you permission to propagate or\n",
            "        modify any covered work.  These actions infringe copyright if you do\n",
            "        not accept this License.  Therefore, by modifying or propagating a\n",
            "        covered work, you indicate your acceptance of this License to do so.\n",
            "        \n",
            "          10. Automatic Licensing of Downstream Recipients.\n",
            "        \n",
            "          Each time you convey a covered work, the recipient automatically\n",
            "        receives a license from the original licensors, to run, modify and\n",
            "        propagate that work, subject to this License.  You are not responsible\n",
            "        for enforcing compliance by third parties with this License.\n",
            "        \n",
            "          An \"entity transaction\" is a transaction transferring control of an\n",
            "        organization, or substantially all assets of one, or subdividing an\n",
            "        organization, or merging organizations.  If propagation of a covered\n",
            "        work results from an entity transaction, each party to that\n",
            "        transaction who receives a copy of the work also receives whatever\n",
            "        licenses to the work the party's predecessor in interest had or could\n",
            "        give under the previous paragraph, plus a right to possession of the\n",
            "        Corresponding Source of the work from the predecessor in interest, if\n",
            "        the predecessor has it or can get it with reasonable efforts.\n",
            "        \n",
            "          You may not impose any further restrictions on the exercise of the\n",
            "        rights granted or affirmed under this License.  For example, you may\n",
            "        not impose a license fee, royalty, or other charge for exercise of\n",
            "        rights granted under this License, and you may not initiate litigation\n",
            "        (including a cross-claim or counterclaim in a lawsuit) alleging that\n",
            "        any patent claim is infringed by making, using, selling, offering for\n",
            "        sale, or importing the Program or any portion of it.\n",
            "        \n",
            "          11. Patents.\n",
            "        \n",
            "          A \"contributor\" is a copyright holder who authorizes use under this\n",
            "        License of the Program or a work on which the Program is based.  The\n",
            "        work thus licensed is called the contributor's \"contributor version\".\n",
            "        \n",
            "          A contributor's \"essential patent claims\" are all patent claims\n",
            "        owned or controlled by the contributor, whether already acquired or\n",
            "        hereafter acquired, that would be infringed by some manner, permitted\n",
            "        by this License, of making, using, or selling its contributor version,\n",
            "        but do not include claims that would be infringed only as a\n",
            "        consequence of further modification of the contributor version.  For\n",
            "        purposes of this definition, \"control\" includes the right to grant\n",
            "        patent sublicenses in a manner consistent with the requirements of\n",
            "        this License.\n",
            "        \n",
            "          Each contributor grants you a non-exclusive, worldwide, royalty-free\n",
            "        patent license under the contributor's essential patent claims, to\n",
            "        make, use, sell, offer for sale, import and otherwise run, modify and\n",
            "        propagate the contents of its contributor version.\n",
            "        \n",
            "          In the following three paragraphs, a \"patent license\" is any express\n",
            "        agreement or commitment, however denominated, not to enforce a patent\n",
            "        (such as an express permission to practice a patent or covenant not to\n",
            "        sue for patent infringement).  To \"grant\" such a patent license to a\n",
            "        party means to make such an agreement or commitment not to enforce a\n",
            "        patent against the party.\n",
            "        \n",
            "          If you convey a covered work, knowingly relying on a patent license,\n",
            "        and the Corresponding Source of the work is not available for anyone\n",
            "        to copy, free of charge and under the terms of this License, through a\n",
            "        publicly available network server or other readily accessible means,\n",
            "        then you must either (1) cause the Corresponding Source to be so\n",
            "        available, or (2) arrange to deprive yourself of the benefit of the\n",
            "        patent license for this particular work, or (3) arrange, in a manner\n",
            "        consistent with the requirements of this License, to extend the patent\n",
            "        license to downstream recipients.  \"Knowingly relying\" means you have\n",
            "        actual knowledge that, but for the patent license, your conveying the\n",
            "        covered work in a country, or your recipient's use of the covered work\n",
            "        in a country, would infringe one or more identifiable patents in that\n",
            "        country that you have reason to believe are valid.\n",
            "        \n",
            "          If, pursuant to or in connection with a single transaction or\n",
            "        arrangement, you convey, or propagate by procuring conveyance of, a\n",
            "        covered work, and grant a patent license to some of the parties\n",
            "        receiving the covered work authorizing them to use, propagate, modify\n",
            "        or convey a specific copy of the covered work, then the patent license\n",
            "        you grant is automatically extended to all recipients of the covered\n",
            "        work and works based on it.\n",
            "        \n",
            "          A patent license is \"discriminatory\" if it does not include within\n",
            "        the scope of its coverage, prohibits the exercise of, or is\n",
            "        conditioned on the non-exercise of one or more of the rights that are\n",
            "        specifically granted under this License.  You may not convey a covered\n",
            "        work if you are a party to an arrangement with a third party that is\n",
            "        in the business of distributing software, under which you make payment\n",
            "        to the third party based on the extent of your activity of conveying\n",
            "        the work, and under which the third party grants, to any of the\n",
            "        parties who would receive the covered work from you, a discriminatory\n",
            "        patent license (a) in connection with copies of the covered work\n",
            "        conveyed by you (or copies made from those copies), or (b) primarily\n",
            "        for and in connection with specific products or compilations that\n",
            "        contain the covered work, unless you entered into that arrangement,\n",
            "        or that patent license was granted, prior to 28 March 2007.\n",
            "        \n",
            "          Nothing in this License shall be construed as excluding or limiting\n",
            "        any implied license or other defenses to infringement that may\n",
            "        otherwise be available to you under applicable patent law.\n",
            "        \n",
            "          12. No Surrender of Others' Freedom.\n",
            "        \n",
            "          If conditions are imposed on you (whether by court order, agreement or\n",
            "        otherwise) that contradict the conditions of this License, they do not\n",
            "        excuse you from the conditions of this License.  If you cannot convey a\n",
            "        covered work so as to satisfy simultaneously your obligations under this\n",
            "        License and any other pertinent obligations, then as a consequence you may\n",
            "        not convey it at all.  For example, if you agree to terms that obligate you\n",
            "        to collect a royalty for further conveying from those to whom you convey\n",
            "        the Program, the only way you could satisfy both those terms and this\n",
            "        License would be to refrain entirely from conveying the Program.\n",
            "        \n",
            "          13. Use with the GNU Affero General Public License.\n",
            "        \n",
            "          Notwithstanding any other provision of this License, you have\n",
            "        permission to link or combine any covered work with a work licensed\n",
            "        under version 3 of the GNU Affero General Public License into a single\n",
            "        combined work, and to convey the resulting work.  The terms of this\n",
            "        License will continue to apply to the part which is the covered work,\n",
            "        but the special requirements of the GNU Affero General Public License,\n",
            "        section 13, concerning interaction through a network will apply to the\n",
            "        combination as such.\n",
            "        \n",
            "          14. Revised Versions of this License.\n",
            "        \n",
            "          The Free Software Foundation may publish revised and/or new versions of\n",
            "        the GNU General Public License from time to time.  Such new versions will\n",
            "        be similar in spirit to the present version, but may differ in detail to\n",
            "        address new problems or concerns.\n",
            "        \n",
            "          Each version is given a distinguishing version number.  If the\n",
            "        Program specifies that a certain numbered version of the GNU General\n",
            "        Public License \"or any later version\" applies to it, you have the\n",
            "        option of following the terms and conditions either of that numbered\n",
            "        version or of any later version published by the Free Software\n",
            "        Foundation.  If the Program does not specify a version number of the\n",
            "        GNU General Public License, you may choose any version ever published\n",
            "        by the Free Software Foundation.\n",
            "        \n",
            "          If the Program specifies that a proxy can decide which future\n",
            "        versions of the GNU General Public License can be used, that proxy's\n",
            "        public statement of acceptance of a version permanently authorizes you\n",
            "        to choose that version for the Program.\n",
            "        \n",
            "          Later license versions may give you additional or different\n",
            "        permissions.  However, no additional obligations are imposed on any\n",
            "        author or copyright holder as a result of your choosing to follow a\n",
            "        later version.\n",
            "        \n",
            "          15. Disclaimer of Warranty.\n",
            "        \n",
            "          THERE IS NO WARRANTY FOR THE PROGRAM, TO THE EXTENT PERMITTED BY\n",
            "        APPLICABLE LAW.  EXCEPT WHEN OTHERWISE STATED IN WRITING THE COPYRIGHT\n",
            "        HOLDERS AND/OR OTHER PARTIES PROVIDE THE PROGRAM \"AS IS\" WITHOUT WARRANTY\n",
            "        OF ANY KIND, EITHER EXPRESSED OR IMPLIED, INCLUDING, BUT NOT LIMITED TO,\n",
            "        THE IMPLIED WARRANTIES OF MERCHANTABILITY AND FITNESS FOR A PARTICULAR\n",
            "        PURPOSE.  THE ENTIRE RISK AS TO THE QUALITY AND PERFORMANCE OF THE PROGRAM\n",
            "        IS WITH YOU.  SHOULD THE PROGRAM PROVE DEFECTIVE, YOU ASSUME THE COST OF\n",
            "        ALL NECESSARY SERVICING, REPAIR OR CORRECTION.\n",
            "        \n",
            "          16. Limitation of Liability.\n",
            "        \n",
            "          IN NO EVENT UNLESS REQUIRED BY APPLICABLE LAW OR AGREED TO IN WRITING\n",
            "        WILL ANY COPYRIGHT HOLDER, OR ANY OTHER PARTY WHO MODIFIES AND/OR CONVEYS\n",
            "        THE PROGRAM AS PERMITTED ABOVE, BE LIABLE TO YOU FOR DAMAGES, INCLUDING ANY\n",
            "        GENERAL, SPECIAL, INCIDENTAL OR CONSEQUENTIAL DAMAGES ARISING OUT OF THE\n",
            "        USE OR INABILITY TO USE THE PROGRAM (INCLUDING BUT NOT LIMITED TO LOSS OF\n",
            "        DATA OR DATA BEING RENDERED INACCURATE OR LOSSES SUSTAINED BY YOU OR THIRD\n",
            "        PARTIES OR A FAILURE OF THE PROGRAM TO OPERATE WITH ANY OTHER PROGRAMS),\n",
            "        EVEN IF SUCH HOLDER OR OTHER PARTY HAS BEEN ADVISED OF THE POSSIBILITY OF\n",
            "        SUCH DAMAGES.\n",
            "        \n",
            "          17. Interpretation of Sections 15 and 16.\n",
            "        \n",
            "          If the disclaimer of warranty and limitation of liability provided\n",
            "        above cannot be given local legal effect according to their terms,\n",
            "        reviewing courts shall apply local law that most closely approximates\n",
            "        an absolute waiver of all civil liability in connection with the\n",
            "        Program, unless a warranty or assumption of liability accompanies a\n",
            "        copy of the Program in return for a fee.\n",
            "        \n",
            "                             END OF TERMS AND CONDITIONS\n",
            "        \n",
            "                    How to Apply These Terms to Your New Programs\n",
            "        \n",
            "          If you develop a new program, and you want it to be of the greatest\n",
            "        possible use to the public, the best way to achieve this is to make it\n",
            "        free software which everyone can redistribute and change under these terms.\n",
            "        \n",
            "          To do so, attach the following notices to the program.  It is safest\n",
            "        to attach them to the start of each source file to most effectively\n",
            "        state the exclusion of warranty; and each file should have at least\n",
            "        the \"copyright\" line and a pointer to where the full notice is found.\n",
            "        \n",
            "            <one line to give the program's name and a brief idea of what it does.>\n",
            "            Copyright (C) <year>  <name of author>\n",
            "        \n",
            "            This program is free software: you can redistribute it and/or modify\n",
            "            it under the terms of the GNU General Public License as published by\n",
            "            the Free Software Foundation, either version 3 of the License, or\n",
            "            (at your option) any later version.\n",
            "        \n",
            "            This program is distributed in the hope that it will be useful,\n",
            "            but WITHOUT ANY WARRANTY; without even the implied warranty of\n",
            "            MERCHANTABILITY or FITNESS FOR A PARTICULAR PURPOSE.  See the\n",
            "            GNU General Public License for more details.\n",
            "        \n",
            "            You should have received a copy of the GNU General Public License\n",
            "            along with this program.  If not, see <http://www.gnu.org/licenses/>.\n",
            "        \n",
            "        Also add information on how to contact you by electronic and paper mail.\n",
            "        \n",
            "          If the program does terminal interaction, make it output a short\n",
            "        notice like this when it starts in an interactive mode:\n",
            "        \n",
            "            <program>  Copyright (C) <year>  <name of author>\n",
            "            This program comes with ABSOLUTELY NO WARRANTY; for details type `show w'.\n",
            "            This is free software, and you are welcome to redistribute it\n",
            "            under certain conditions; type `show c' for details.\n",
            "        \n",
            "        The hypothetical commands `show w' and `show c' should show the appropriate\n",
            "        parts of the General Public License.  Of course, your program's commands\n",
            "        might be different; for a GUI interface, you would use an \"about box\".\n",
            "        \n",
            "          You should also get your employer (if you work as a programmer) or school,\n",
            "        if any, to sign a \"copyright disclaimer\" for the program, if necessary.\n",
            "        For more information on this, and how to apply and follow the GNU GPL, see\n",
            "        <http://www.gnu.org/licenses/>.\n",
            "        \n",
            "          The GNU General Public License does not permit incorporating your program\n",
            "        into proprietary programs.  If your program is a subroutine library, you\n",
            "        may consider it more useful to permit linking proprietary applications with\n",
            "        the library.  If this is what you want to do, use the GNU Lesser General\n",
            "        Public License instead of this License.  But first, please read\n",
            "        <http://www.gnu.org/philosophy/why-not-lgpl.html>.\n",
            "        \n",
            "        Name: libquadmath\n",
            "        Files: numpy.libs/libquadmath*.so\n",
            "        Description: dynamically linked to files compiled with gcc\n",
            "        Availability: https://gcc.gnu.org/git/?p=gcc.git;a=tree;f=libquadmath\n",
            "        License: LGPL-2.1-or-later\n",
            "        \n",
            "            GCC Quad-Precision Math Library\n",
            "            Copyright (C) 2010-2019 Free Software Foundation, Inc.\n",
            "            Written by Francois-Xavier Coudert  <fxcoudert@gcc.gnu.org>\n",
            "        \n",
            "            This file is part of the libquadmath library.\n",
            "            Libquadmath is free software; you can redistribute it and/or\n",
            "            modify it under the terms of the GNU Library General Public\n",
            "            License as published by the Free Software Foundation; either\n",
            "            version 2.1 of the License, or (at your option) any later version.\n",
            "        \n",
            "            Libquadmath is distributed in the hope that it will be useful,\n",
            "            but WITHOUT ANY WARRANTY; without even the implied warranty of\n",
            "            MERCHANTABILITY or FITNESS FOR A PARTICULAR PURPOSE.  See the GNU\n",
            "            Lesser General Public License for more details.\n",
            "            https://www.gnu.org/licenses/old-licenses/lgpl-2.1.html\n",
            "Location: /usr/local/lib/python3.10/dist-packages\n",
            "Requires: \n",
            "Required-by: accelerate, albucore, albumentations, altair, arviz, astropy, autograd, bigframes, blis, bokeh, Bottleneck, bqplot, chex, clarabel, cmdstanpy, contourpy, cudf-cu12, cufflinks, cupy-cuda12x, cvxpy, datascience, db-dtypes, dopamine_rl, ecos, flax, folium, geemap, gensim, geopandas, gym, h5py, holoviews, hyperopt, ibis-framework, imageio, imbalanced-learn, imgaug, jax, jaxlib, keras, librosa, lightgbm, matplotlib, matplotlib-venn, mizani, ml-dtypes, mlxtend, moviepy, music21, nibabel, numba, numexpr, opencv-contrib-python, opencv-python, opencv-python-headless, optax, orbax-checkpoint, osqp, pandas, pandas-gbq, pandas-stubs, patsy, plotnine, prophet, pyarrow, pycocotools, pyerfa, pymc, pyogrio, pytensor, python-louvain, qdldl, rmm-cu12, scikit-image, scikit-learn, scipy, scs, seaborn, shapely, sklearn-pandas, soxr, spacy, stanio, statsmodels, tables, tensorboard, tensorflow, tensorflow-datasets, tensorflow-hub, tensorflow-probability, tensorstore, thinc, tifffile, torchvision, transformers, wordcloud, xarray, xarray-einstats, xgboost, yellowbrick, yfinance\n"
          ]
        }
      ],
      "source": [
        "pip show numpy"
      ]
    },
    {
      "cell_type": "markdown",
      "metadata": {
        "id": "KSNOrnoMHEjD"
      },
      "source": [
        "### 파이썬 오류 확인"
      ]
    },
    {
      "cell_type": "code",
      "execution_count": null,
      "metadata": {
        "id": "B8pmiTi5G8JX",
        "colab": {
          "base_uri": "https://localhost:8080/",
          "height": 110
        },
        "outputId": "b74c15bc-0f2e-44e5-e635-134e4231e4d6"
      },
      "outputs": [
        {
          "output_type": "error",
          "ename": "SyntaxError",
          "evalue": "expected ':' (<ipython-input-15-9f6aef7645e2>, line 3)",
          "traceback": [
            "\u001b[0;36m  File \u001b[0;32m\"<ipython-input-15-9f6aef7645e2>\"\u001b[0;36m, line \u001b[0;32m3\u001b[0m\n\u001b[0;31m    if a < 9\u001b[0m\n\u001b[0m            ^\u001b[0m\n\u001b[0;31mSyntaxError\u001b[0m\u001b[0;31m:\u001b[0m expected ':'\n"
          ]
        }
      ],
      "source": [
        "# Syntax 오류 발생 예\n",
        "a = 1\n",
        "if a < 9\n",
        "    print('a < 9')"
      ]
    },
    {
      "cell_type": "markdown",
      "source": [
        "### 파이썬 예외처리 방법"
      ],
      "metadata": {
        "id": "DJQhC7btE_L5"
      }
    },
    {
      "cell_type": "code",
      "execution_count": null,
      "metadata": {
        "id": "GJ1Y-0wMHXJd"
      },
      "outputs": [],
      "source": [
        "# 오류 예외처리\n",
        "while True:\n",
        "    try:\n",
        "        x = int(input('Please enter a number: '))\n",
        "        break\n",
        "\n",
        "    except ValueError:\n",
        "        print('Oops! That was no valid number. Try again...')\n",
        "\n",
        "print('-----')"
      ]
    },
    {
      "cell_type": "markdown",
      "metadata": {
        "id": "6Ef7gKpD8GGP"
      },
      "source": [
        "### [PC에서만 실행] 수업에 사용할 라이브러리 설치하기\n",
        "- PC 윈도우 명령프롬프트에서 실행한다. 코랩에서는 실행 안함\n",
        "- PC에서는 명령어 맨 앞 '!'를 제거하고 실행한다."
      ]
    },
    {
      "cell_type": "code",
      "source": [
        "!python -m pip install --upgrade pip"
      ],
      "metadata": {
        "id": "ViukrDAGDuPc"
      },
      "execution_count": null,
      "outputs": []
    },
    {
      "cell_type": "code",
      "execution_count": null,
      "metadata": {
        "id": "WnEwfA_x8GGQ"
      },
      "outputs": [],
      "source": [
        "!pip install numpy"
      ]
    },
    {
      "cell_type": "code",
      "execution_count": null,
      "metadata": {
        "id": "ZqJSQDet8GGQ"
      },
      "outputs": [],
      "source": [
        "!pip install pandas"
      ]
    },
    {
      "cell_type": "code",
      "execution_count": null,
      "metadata": {
        "id": "JtYjHD2D8GGQ"
      },
      "outputs": [],
      "source": [
        "!pip install matplotlib"
      ]
    },
    {
      "cell_type": "code",
      "execution_count": null,
      "metadata": {
        "id": "BRSzhspAC6J8"
      },
      "outputs": [],
      "source": [
        "!pip install seaborn"
      ]
    },
    {
      "cell_type": "code",
      "execution_count": null,
      "metadata": {
        "id": "8spH-HIwC6Sz"
      },
      "outputs": [],
      "source": [
        "!pip install ploty"
      ]
    },
    {
      "cell_type": "markdown",
      "metadata": {
        "id": "wl2PYxtB8GGR"
      },
      "source": [
        "----------"
      ]
    },
    {
      "cell_type": "markdown",
      "metadata": {
        "id": "T20_kqnwDKe2"
      },
      "source": [
        "## 2.파이썬 자료형과 연산자"
      ]
    },
    {
      "cell_type": "markdown",
      "source": [
        "### **[자료형]**"
      ],
      "metadata": {
        "id": "rxo68HToTgT0"
      }
    },
    {
      "cell_type": "markdown",
      "metadata": {
        "id": "GPQdotYg8GGR"
      },
      "source": [
        "### 파이썬 자료형 확인"
      ]
    },
    {
      "cell_type": "code",
      "execution_count": null,
      "metadata": {
        "id": "re9ioSIM8GGR",
        "colab": {
          "base_uri": "https://localhost:8080/"
        },
        "outputId": "1f6bcf44-6b3d-4575-fe73-1eb6116b783d"
      },
      "outputs": [
        {
          "output_type": "stream",
          "name": "stdout",
          "text": [
            "123의 자료형: <class 'int'>\n",
            "123의 자료형: <class 'str'>\n",
            "[123]의 자료형: <class 'list'>\n",
            "(123,)의 자료형: <class 'tuple'>\n",
            "{'key': 123}의 자료형: <class 'dict'>\n",
            "{123}의 자료형: <class 'set'>\n",
            "True의 자료형: <class 'bool'>\n"
          ]
        }
      ],
      "source": [
        "d1 = 123\n",
        "d2 = '123'\n",
        "d3 = [123]\n",
        "d4 = (123,)\n",
        "d5 = {'key':123}\n",
        "d6 = {123}\n",
        "d7 = True\n",
        "\n",
        "print(f'{d1}의 자료형: {type(d1)}') # f는 format이고 print('문자열') 안에 {}을 사용하면 변수 가능\n",
        "print(f'{d2}의 자료형: {type(d2)}')\n",
        "print(f'{d3}의 자료형: {type(d3)}')\n",
        "print(f'{d4}의 자료형: {type(d4)}')\n",
        "print(f'{d5}의 자료형: {type(d5)}')\n",
        "print(f'{d6}의 자료형: {type(d6)}')\n",
        "print(f'{d7}의 자료형: {type(d7)}')"
      ]
    },
    {
      "cell_type": "markdown",
      "source": [
        "### [실습문제] 반복문을 이용하여 자료형 출력하기\n",
        "위 자료형을 아래 미션에 맞게 출력해 보세요."
      ],
      "metadata": {
        "id": "H7bSljnRIERc"
      }
    },
    {
      "cell_type": "code",
      "execution_count": null,
      "metadata": {
        "id": "gbzIvlUi8GGR",
        "scrolled": true,
        "colab": {
          "base_uri": "https://localhost:8080/"
        },
        "outputId": "2a63a28c-b802-4f97-8612-7d94e964f37e"
      },
      "outputs": [
        {
          "output_type": "stream",
          "name": "stdout",
          "text": [
            "데이터: 123의 자료형: <class 'int'>\n",
            "데이터: 123의 자료형: <class 'str'>\n",
            "데이터: [123]의 자료형: <class 'list'>\n",
            "데이터: (123,)의 자료형: <class 'tuple'>\n",
            "데이터: {'key': 123}의 자료형: <class 'dict'>\n",
            "데이터: {123}의 자료형: <class 'set'>\n",
            "데이터: True의 자료형: <class 'bool'>\n"
          ]
        }
      ],
      "source": [
        "# [미션] 리스트와 반복문을 이용하여 간단하게 나타내기\n",
        "datas = [123,'123',[123],(123,),{'key':123},{123},True]\n",
        "\n",
        "for data in datas:\n",
        "    print(f'데이터: {data}의 자료형: {type(data)}')\n"
      ]
    },
    {
      "cell_type": "code",
      "source": [
        "# [미션] isinstance()함수를 이용하여 데이터 타입 확인, 내장함수(두 인수를 넣어 참, 거짓 판별)\n",
        "def get_datatype(data):\n",
        "    instance= {int:'정수', float:'실수', str:'문자열', bool:'불린',\n",
        "           list:'리스트', tuple:'튜플', dict:'딕셔너리', set:'집합' }  # 딕셔너리 {}임\n",
        "    for key, value in instance.items():\n",
        "        if isinstance(data, key):\n",
        "            print(f'{data}는 {value} 형입니다.')\n",
        "\n",
        "for data in datas:\n",
        "    get_datatype(data)"
      ],
      "metadata": {
        "id": "PMDfoepfF7K4",
        "colab": {
          "base_uri": "https://localhost:8080/"
        },
        "outputId": "1696e1f5-2aab-417b-f792-3c45fc9286fd"
      },
      "execution_count": null,
      "outputs": [
        {
          "output_type": "stream",
          "name": "stdout",
          "text": [
            "123는 정수 형입니다.\n",
            "123는 문자열 형입니다.\n",
            "[123]는 리스트 형입니다.\n",
            "(123,)는 튜플 형입니다.\n",
            "{'key': 123}는 딕셔너리 형입니다.\n",
            "{123}는 집합 형입니다.\n",
            "True는 정수 형입니다.\n",
            "True는 불린 형입니다.\n"
          ]
        }
      ]
    },
    {
      "cell_type": "markdown",
      "source": [
        "### [표준입출력]"
      ],
      "metadata": {
        "id": "Qv7p8JOYJdMf"
      }
    },
    {
      "cell_type": "markdown",
      "metadata": {
        "id": "EDFiaZyv8GGR"
      },
      "source": [
        "### 실습문제\n",
        "두 수를 입력 받아 덧셈, 뺄셈, 곱셈, 몫, 나머지를 출력하는 프로그램을 작성하세요\n"
      ]
    },
    {
      "cell_type": "code",
      "execution_count": null,
      "metadata": {
        "id": "a9sG7Q738GGS",
        "scrolled": true,
        "colab": {
          "base_uri": "https://localhost:8080/"
        },
        "outputId": "450a6e7e-53ec-4caf-dffc-a9b0b3a75c5c"
      },
      "outputs": [
        {
          "output_type": "stream",
          "name": "stdout",
          "text": [
            "첫번째 숫자: 10\n",
            "두번째 숫자: 5\n",
            "--------------------\n",
            "덧셈: 10 + 5 = 15\n",
            "뺄셈: 10 - 5 = 5\n",
            "곱셈: 10 * 5 = 50\n",
            "몫: 10 // 5 = 2\n",
            "나머지: 10 % 5 = 0\n"
          ]
        }
      ],
      "source": [
        "num1 = int(input('첫번째 숫자: '))\n",
        "num2 = int(input('두번째 숫자: '))\n",
        "\n",
        "print('-'*20)\n",
        "print(f'덧셈: {num1} + {num2} = {num1 + num2}')\n",
        "print(f'뺄셈: {num1} - {num2} = {num1 - num2}')\n",
        "print(f'곱셈: {num1} * {num2} = {num1 * num2}')\n",
        "print(f'몫: {num1} // {num2} = {num1 // num2}')\n",
        "print(f'나머지: {num1} % {num2} = {num1 % num2}')"
      ]
    },
    {
      "cell_type": "markdown",
      "metadata": {
        "id": "LqAbyRHs8GGS"
      },
      "source": [
        "### 실습문제: 시간 계산 프로그램\n",
        "속력과 거리를 입력 받아 시간을 계산하여 출력하는 프로그램을 만드세요!\n",
        "- 시간 = 거리 / 속력\n",
        "\n"
      ]
    },
    {
      "cell_type": "code",
      "execution_count": null,
      "metadata": {
        "id": "YwepfYt98GGS",
        "colab": {
          "base_uri": "https://localhost:8080/"
        },
        "outputId": "49f9a8b8-a072-4889-e15e-20e61bb30a9f"
      },
      "outputs": [
        {
          "output_type": "stream",
          "name": "stdout",
          "text": [
            "속력를 입력해 주세요(km/h) : 60\n",
            "거리를 입력해 주세요(km) : 100\n",
            "1.6666666666666667\n"
          ]
        }
      ],
      "source": [
        "velocity = int(input('속력를 입력해 주세요(km/h) : '))\n",
        "distance = int(input('거리를 입력해 주세요(km) : '))\n",
        "\n",
        "time = float(distance / velocity)\n",
        "print(time)"
      ]
    },
    {
      "cell_type": "markdown",
      "metadata": {
        "id": "sHIxGA0xLj0C"
      },
      "source": [
        "- eval()함수 사용하여 문자열을 계산할 수 있다"
      ]
    },
    {
      "cell_type": "code",
      "execution_count": null,
      "metadata": {
        "id": "gvVxuLjX8GGS",
        "colab": {
          "base_uri": "https://localhost:8080/"
        },
        "outputId": "4b273144-1961-460f-d503-8bdb6493b0c3"
      },
      "outputs": [
        {
          "output_type": "stream",
          "name": "stdout",
          "text": [
            "1.6666666666666667\n"
          ]
        }
      ],
      "source": [
        "# eval()함수 사용\n",
        "time = eval(f'{distance} / {velocity}')\n",
        "print(time)"
      ]
    },
    {
      "cell_type": "markdown",
      "metadata": {
        "id": "tECEWKan8GGS"
      },
      "source": [
        "### 실습문제 : 정수 합 구하기\n",
        "아래와 같이 정수 n을 입력 받아, a + aa + aaa의 결과 값을 구하는 프로그램을 작성하세요"
      ]
    },
    {
      "cell_type": "code",
      "execution_count": null,
      "metadata": {
        "id": "a04GPnn98GGS",
        "scrolled": true,
        "colab": {
          "base_uri": "https://localhost:8080/"
        },
        "outputId": "b891943e-c76c-4694-c166-9be1c38f3619"
      },
      "outputs": [
        {
          "output_type": "stream",
          "name": "stdout",
          "text": [
            "정수를 입력하세요: 7\n",
            "7 + 77 + 777 = 861\n",
            "7 + 77 + 777 = 861\n"
          ]
        }
      ],
      "source": [
        "a = input('정수를 입력하세요: ')\n",
        "sum = 0\n",
        "\n",
        "for i in range(1, 4):\n",
        "    sum += eval(a*i)\n",
        "\n",
        "print(f'{a} + {a*2} + {a*3} = {sum}')\n",
        "\n",
        "\n",
        "k = f'{a} + {a*2} + {a*3}'\n",
        "\n",
        "print(f'{k} = {eval(k)}') #eval(): 괄호 안의 문자를 모두 숫자로 바꿔줌"
      ]
    },
    {
      "cell_type": "markdown",
      "source": [
        "### [문자와 문자열]"
      ],
      "metadata": {
        "id": "SHkqIiXbJXrR"
      }
    },
    {
      "cell_type": "markdown",
      "source": [
        "### 실습문제 : 문자열 거꾸로 출력하기"
      ],
      "metadata": {
        "id": "kc4LrgAHJw4f"
      }
    },
    {
      "cell_type": "code",
      "source": [
        "s = input('문자열 입력: ')\n",
        "\n",
        "\n",
        "print(s[::-1])\n"
      ],
      "metadata": {
        "id": "_QpSs-GCJvyH",
        "colab": {
          "base_uri": "https://localhost:8080/"
        },
        "outputId": "57aed851-c10c-4fe0-9c68-fbe852bf0e91"
      },
      "execution_count": null,
      "outputs": [
        {
          "output_type": "stream",
          "name": "stdout",
          "text": [
            "문자열 입력: Hello, world!\n",
            "!dlrow ,olleH\n"
          ]
        }
      ]
    },
    {
      "cell_type": "markdown",
      "source": [
        "### 실습문제: 간단 챗봇 만들기\n"
      ],
      "metadata": {
        "id": "t1KHQyvnJrj3"
      }
    },
    {
      "cell_type": "code",
      "source": [
        "# 간단한 챗봇 만들기\n",
        "print('안녕하세요~')\n",
        "name = input('당신의 이름은 뭐예요? ')\n",
        "print(f'만나서 반갑습니다. {name}님!')\n",
        "print(f'{name}님 이름의 길이는 다음과 같군요. {len(name)}')\n",
        "age = int(input('{name}님 나이가 어떻게 되나요?'))\n",
        "print(f'내년에는 {age+1}세가 되시는군요?')\n"
      ],
      "metadata": {
        "id": "Fg-QYkDPJr14",
        "colab": {
          "base_uri": "https://localhost:8080/"
        },
        "outputId": "ea04b066-34e5-4c08-afe5-d1677f5f6415"
      },
      "execution_count": null,
      "outputs": [
        {
          "output_type": "stream",
          "name": "stdout",
          "text": [
            "안녕하세요~\n",
            "당신의 이름은 뭐예요? 아이유\n",
            "만나서 반갑습니다. 아이유님!\n",
            "아이유님 이름의 길이는 다음과 같군요. 3\n",
            "{name}님 나이가 어떻게 되나요?31\n",
            "내년에는 32세가 되시는군요?\n"
          ]
        }
      ]
    },
    {
      "cell_type": "markdown",
      "metadata": {
        "id": "Hb6l5EjLQB2m"
      },
      "source": [
        "### 실습문제 :  구글TTS(gTTS) 사용하여 음성 출력하기\n",
        "TTS : Text to Speech"
      ]
    },
    {
      "cell_type": "markdown",
      "source": [],
      "metadata": {
        "id": "MKZzJ2iCMu9b"
      }
    },
    {
      "cell_type": "code",
      "execution_count": null,
      "metadata": {
        "id": "-eY--f6MPwTf",
        "colab": {
          "base_uri": "https://localhost:8080/"
        },
        "outputId": "74a0f4bd-c585-48c7-aa4a-176c9a71ead1"
      },
      "outputs": [
        {
          "output_type": "stream",
          "name": "stdout",
          "text": [
            "Collecting gTTS\n",
            "  Downloading gTTS-2.5.3-py3-none-any.whl.metadata (4.1 kB)\n",
            "Requirement already satisfied: requests<3,>=2.27 in /usr/local/lib/python3.10/dist-packages (from gTTS) (2.32.3)\n",
            "Requirement already satisfied: click<8.2,>=7.1 in /usr/local/lib/python3.10/dist-packages (from gTTS) (8.1.7)\n",
            "Requirement already satisfied: charset-normalizer<4,>=2 in /usr/local/lib/python3.10/dist-packages (from requests<3,>=2.27->gTTS) (3.3.2)\n",
            "Requirement already satisfied: idna<4,>=2.5 in /usr/local/lib/python3.10/dist-packages (from requests<3,>=2.27->gTTS) (3.10)\n",
            "Requirement already satisfied: urllib3<3,>=1.21.1 in /usr/local/lib/python3.10/dist-packages (from requests<3,>=2.27->gTTS) (2.2.3)\n",
            "Requirement already satisfied: certifi>=2017.4.17 in /usr/local/lib/python3.10/dist-packages (from requests<3,>=2.27->gTTS) (2024.8.30)\n",
            "Downloading gTTS-2.5.3-py3-none-any.whl (29 kB)\n",
            "Installing collected packages: gTTS\n",
            "Successfully installed gTTS-2.5.3\n"
          ]
        }
      ],
      "source": [
        "# 구글 tts 프로그램\n",
        "!pip install gTTS"
      ]
    },
    {
      "cell_type": "code",
      "execution_count": null,
      "metadata": {
        "id": "O_xqpl0pPx6k",
        "colab": {
          "base_uri": "https://localhost:8080/",
          "height": 74
        },
        "outputId": "7eeab1b1-09d4-4f7e-8437-60e211c7a8d0"
      },
      "outputs": [
        {
          "output_type": "display_data",
          "data": {
            "text/plain": [
              "<IPython.lib.display.Audio object>"
            ],
            "text/html": [
              "\n",
              "                <audio  controls=\"controls\" autoplay=\"autoplay\">\n",
              "                    <source src=\"data:audio/x-wav;base64,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\" type=\"audio/x-wav\" />\n",
              "                    Your browser does not support the audio element.\n",
              "                </audio>\n",
              "              "
            ]
          },
          "metadata": {}
        }
      ],
      "source": [
        "# 영어 출력\n",
        "from gtts import gTTS\n",
        "from IPython.display import Audio\n",
        "\n",
        "eng_wav = gTTS('Hello World!')\n",
        "eng_wav.save('eng.wav')\n",
        "\n",
        "display(Audio('eng.wav', autoplay=True))"
      ]
    },
    {
      "cell_type": "code",
      "execution_count": null,
      "metadata": {
        "id": "inyZATWlP3Cp",
        "colab": {
          "base_uri": "https://localhost:8080/",
          "height": 74
        },
        "outputId": "cb1d1d67-7838-4d6b-956d-5be35e3508b5"
      },
      "outputs": [
        {
          "output_type": "display_data",
          "data": {
            "text/plain": [
              "<IPython.lib.display.Audio object>"
            ],
            "text/html": [
              "\n",
              "                <audio  controls=\"controls\" autoplay=\"autoplay\">\n",
              "                    <source src=\"data:audio/x-wav;base64,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\" type=\"audio/x-wav\" />\n",
              "                    Your browser does not support the audio element.\n",
              "                </audio>\n",
              "              "
            ]
          },
          "metadata": {}
        }
      ],
      "source": [
        "# 한글 출력\n",
        "from gtts import gTTS\n",
        "from IPython.display import Audio\n",
        "\n",
        "kor_wav = gTTS('안녕하세요! ', lang = 'ko')\n",
        "kor_wav.save('kor.wav')\n",
        "\n",
        "display(Audio('kor.wav', autoplay=True))"
      ]
    },
    {
      "cell_type": "code",
      "source": [
        "from gtts import gTTS\n",
        "from IPython.display import Audio, display\n",
        "import os\n",
        "import time\n",
        "\n",
        "def text_to_speech_from_file(filename):\n",
        "    with open(filename, 'r', encoding='utf-8') as file:\n",
        "        for index, line in enumerate(file):\n",
        "            line = line.strip()\n",
        "            if line:  # 빈 줄은 건너뜀\n",
        "                # 텍스트를 음성으로 변환\n",
        "                tts = gTTS(text=line, lang='ko')\n",
        "                audio_file = f\"temp_audio_{index}.mp3\"\n",
        "\n",
        "                # 음성 파일 저장\n",
        "                tts.save(audio_file)\n",
        "\n",
        "                # 음성 파일을 재생 (IPython.display.Audio 사용)\n",
        "                display(Audio(audio_file, autoplay=True))\n",
        "\n",
        "                # 음성이 끝날 때까지 잠시 대기\n",
        "                time.sleep(2)  # 음성 길이에 따라 조절 가능\n",
        "\n",
        "                # 파일 삭제\n",
        "                os.remove(audio_file)\n",
        "\n",
        "                if index > 10 :\n",
        "                    break\n",
        "\n",
        "# 텍스트 파일 경로를 지정하세요.\n",
        "text_to_speech_from_file('사건의지평선.txt')\n"
      ],
      "metadata": {
        "id": "VdNYWRldOWow",
        "colab": {
          "base_uri": "https://localhost:8080/",
          "height": 705
        },
        "outputId": "a26cfda0-8adb-4706-c725-667591637051"
      },
      "execution_count": null,
      "outputs": [
        {
          "output_type": "display_data",
          "data": {
            "text/plain": [
              "<IPython.lib.display.Audio object>"
            ],
            "text/html": [
              "\n",
              "                <audio  controls=\"controls\" autoplay=\"autoplay\">\n",
              "                    <source src=\"data:audio/mpeg;base64,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\" type=\"audio/mpeg\" />\n",
              "                    Your browser does not support the audio element.\n",
              "                </audio>\n",
              "              "
            ]
          },
          "metadata": {}
        },
        {
          "output_type": "display_data",
          "data": {
            "text/plain": [
              "<IPython.lib.display.Audio object>"
            ],
            "text/html": [
              "\n",
              "                <audio  controls=\"controls\" autoplay=\"autoplay\">\n",
              "                    <source src=\"data:audio/mpeg;base64,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\" type=\"audio/mpeg\" />\n",
              "                    Your browser does not support the audio element.\n",
              "                </audio>\n",
              "              "
            ]
          },
          "metadata": {}
        },
        {
          "output_type": "display_data",
          "data": {
            "text/plain": [
              "<IPython.lib.display.Audio object>"
            ],
            "text/html": [
              "\n",
              "                <audio  controls=\"controls\" autoplay=\"autoplay\">\n",
              "                    <source src=\"data:audio/mpeg;base64,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\" type=\"audio/mpeg\" />\n",
              "                    Your browser does not support the audio element.\n",
              "                </audio>\n",
              "              "
            ]
          },
          "metadata": {}
        },
        {
          "output_type": "display_data",
          "data": {
            "text/plain": [
              "<IPython.lib.display.Audio object>"
            ],
            "text/html": [
              "\n",
              "                <audio  controls=\"controls\" autoplay=\"autoplay\">\n",
              "                    <source src=\"data:audio/mpeg;base64,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\" type=\"audio/mpeg\" />\n",
              "                    Your browser does not support the audio element.\n",
              "                </audio>\n",
              "              "
            ]
          },
          "metadata": {}
        },
        {
          "output_type": "display_data",
          "data": {
            "text/plain": [
              "<IPython.lib.display.Audio object>"
            ],
            "text/html": [
              "\n",
              "                <audio  controls=\"controls\" autoplay=\"autoplay\">\n",
              "                    <source src=\"data:audio/mpeg;base64,//OExAAAAAAAAAAAAAAAAAAAAAAAAAAAAAAAAAAAAAAAAAAAAAAAAAAAAAAAAAAAAAAAAAAAAAAAAAAAAAAAAAAAAAAAAAAAAAAAAAAAAAAAAAAAAAAAAAAAAAAAAAAAAAAAAAAAAAAAAAAAAAAAAAAAAAAAAAAAAAAAAAAAAAAAAAAAAAAAAAAAAAAAAAAAAAAAAAAAAAAAAAAAAAAAAAAAAAAAAAAAAAAAAAAAAAAAAAAAAAAAAAAAAAAAAAAA//OExAAnYbYUAMMKlUPDYxIBaaAdk/vu19dipFiOJGH8BoJAkAfEcSxLEsSxLEsSwaCIJAkCQJAkCQTBLEszMzMzMz9eYGBgAAAAQOBwOAGHw+Hw+ev/n1OfQ7//qc5xQhA4QhCEFw8PDw8yAAACMf8c/gA7/93BHx2w8MAAAAAA8PD3hgAAe7/+AjDw8PjgHADgnMPDw8AAAAAAw8PDw8RAdAMv/5gAAACFAioyMEeMGeDocUK2ko8rlVkak40O//OExBUm+3IcANJGvUBO8/WTjAuqJSUcBklQilZIoWagl4wki61yrdXtddOlbREzS1EyKS0Y2whnd/VrnSku/MxBuLMd0IGYVSxyFnlBGzhiPaYUb11UHw2hBsdCKiQZUmYzjNMlVCpWofn/58PbhFVciVWaMzQ5UW30LeR5x64PUdUZbYiwwyXERjHgvObGdwNxigsKjr5JJg0gqCAwvd0W7zTQoEjcof955NSxPk9blQd+sK8SL10PMMwv4U8V//OExCwmQ+IgAOMG3UVaMs1vWlL7dn71b78O6NzbrPvQTR2zP12s5Ff9pS9+v8L82sxQk+spCUU6iHCIyNnQIwL86EJkcQqunS5GORmzKb5nzL85ib+aEW/2lCNYzu3YS5XrXVn/id59rbwjNXtUvSYy4SxIcTtEHaAYMnxYDSAQgRkEy1PuKPG0x8X7ZW3JgjYFeLHJQMwes3CBkuIYAXjGADZTsCsU7OxquGWxCHjI/jKdC7vVHZsLYlEPZlAz//OExEYqQko8ANPMucJDKz0h2iUzjEOlJxtEEMxyaz03KUTKzWBEUzEbz97MVex4dP9iB6RMzGUen/uX/vMwhL3dpn0T3XR4HmeP13V8BJEIkgFx+CuBEfAEMf4jnT//+GeAW8zRgjsD9e04Qf///RQSa7MZ4WwZoabcuU3R4WcjaikkSDQAwLCASloyBHlhpYZqyJjQYVFg5GmGAhg4MNGXGi5bhfKt5ZdWsEAEfEu3pdpdDLFyNdb+1M3XfYev//OExFA5w3pgANaYvPf3U1T2l4PlMtbe5Lwtg1Frj+NVWvBrbyu5G6WXy/cTcuH7ksQyELBLEcwJ7hXBoKwHsGcMG3cWLIFMr1752S0cxDmP4iEh5/oIZjJBYTKFl2DgkHjuRP01u94zjJseMzZiPWX73+jaylJhaMK2fP723Opemsbf+y9NmnXnOpPZ1umZmkzs7+3+dXiASBtjgx7t6CDLi+tGU7hwIQaABcgCAIKJCLUgRkcaSPbO25f9ezOg//OExBwt2rZ4AM4YuHgIIq3MEAUkBCwJVIoclAv5P9LxONlULScn3DirfO7Mu6/kDdnsrkrzqv7DUTjVI/VK/Mbb53ndiNMzWISpamJqxKWD9K6vXMI6MJiEfEkeD8WgqHIJKxNeLrJo6Z5CnPXXOdZPv2UyNbDFDtcSnNFv9DT3bZk0Op2ZtSbX44dg/5/en536zTWNrkPDiZEgEQk2j/wEVXlkFUtDtZ4xRE77wuyuQAlX5VQJilQwQxUg6VAx//OExBcs0mqIANZYuPKBZliAIHFg6cwxwDG7GasJkqGwcaRAFTMMkeoMsEzWwaUFDANInWXDjTS2+jD+XZZGJy27lV25+PQjC3empRGIvD8uiD+XGGM4bCutwxwA4VS2WDNfGoWXSza0T7aZY4gmBiXTNSPClgd160t0WRbe17509Mz8z8zM/P5k9PbkzMzSvsNxvlQ8bbfuBL+AbJc249//sB8hOJ//+pWsjqbLqjWhzCazzwaRObxjzLipkmcO//OExBYs4oaMANaeuEEAi8LaFMD5l1NRG9AhB/BmYJIGYgsCGASAmc5Q95DQAXSJGiANMR1VZFknKmCnfwSxyzGZFXXv2hhHGl/NwZ1nje0SG78rzVNF1cREAei7ehnMBwkQ2eETShfHzAYc6+PDSEMzYSva5W9LG4Efwd+v9v9fGvT4/zvGsU3R/v71DtXetvITexxXzY9ZIus4tjE3IFLsfSZ//5NJIPE1lLYABSbkm6bAo2sZGlmYIGiQegME//OExBUtYnKYANaYuG1/ir4DcAQGOIjJkZKLNEPTXCoIHBVzGDULeXmY5mHC0HjIJSI2AgQYUXOianWy5sb9tKfeG4DmJI89mdgeUwzRRmDJA7L6Ow6L4JSp6KtRpiwsAaZEAlKR5OFi8qEA3OxLUKheSExGEgf0BBDIsEIGawudG/z0fTMzMzMzPTkznfn5tmJqhXyGi6GKC9L15/nVVWHavhMPp/w7d//eZJGVydk14gmwLwMmbEhAgFGIDoIA//OExBIrMg6QANZemBEDOgguZNjQAwML5BOYYSY7xxkQeMmHCE9gFWHg3wNhdYxbMyAC2RIkfakrEYi8FrO6y6Xv460icqrDLy1XhhGbk6oHmsncdatURbSwhtHmbgvzRRBmoSpzijG87gIVVdM7Mwp5VNiFK5RXgsiilUyiYr0g3zq3xbH+f//////6+FGxGedBoGmG0AIkeETjH+ttT54zZ0////+hYEYQGlW3MxHTFQIQoxM2BwwYeOmoDwgB//OExBgnkaKAAN4YlAwcvNNSwcHmDDRyQk6h/AjBUi0D3KLoK4lJZ9LROUVG6aXQohcrFVhC7cugCBIZrwPXnYvemqYVWpwzKp5haK8B4F17CYiKpmbwHqqpMWJUNDOII6oRiwfw1SNxKJ155c5P5HghBdgjCgjFWVWrPPKHHI7R0JIZYwQvIIxUkPtSjRHTdIxyVaZ5SG7MtAmPlhQTdYYSIIhB2ZCiKFkgv0ASgBuVeL7N0KWahNKG0aUGCHEH//OExCwnciqMAN6amDWSZh2EkSeYZeBrj8onGILDwRnRct73ZRMeyLKYPJLmdyOIrkikaXY/EeBTwq40iMBeDgzDCEkTRzoj8PQyKi4o6bl0yMEjJA2LpvJxcmxcRPF82c0Nc6kymV///qT+tA6sHCDZM4CYOI8HP/19XT//raV0hBtNcIf0Qjjfh2/EAUe/uOyE4S1ryHQ4oAMILJOJUgHbACxJb7Alg0yiELlISYQHYBgBdCEbJmHF4WhwSzxx//OExEElsnaYANYOuCSMrl8ANflERgVp79P00yBl1KwSBzFY4vD7TM5HIbdkRhIFQhFgqKmDUgNxcLwdi8NA4FgcE5cNBOSDxYpAbueck1WT///+ljdl/VaKQYujEz////+tswMYANnVCSWDjmBlzXXqJiFM9dgFSoPYyYMZmeCEmCxJ7BMtlRKwpB/kUgcwnYYMAY46IMbMwpIQx0BaOebkX+ahUlbLIy5L+xN2XEymmHOpcjjvs6Zcy1ubesOS//OExF0mMnaYAN5UuLI7AGcNS4KQ0VRUGziyF2LIwPHw+ApmiCIQVC8LwGkQgNIMkgihGEMPWJF//z+v/p2q2Z9FZzDWd1KNoZphYgiHMwsglZkpcIdMUkMGiQMvMTUdkJ1k6sECGXCKwtNEIAmKRQUFAbyr8wTQMxwKCAZgi48F6hxc/OIP39l04ri3Z5tpIvV4iFzWUjuETIdSvNwXVDrkqvMc2YMjNCursZL9ZSl9cmlOF6hnwl21PIdd7JYk//OExHcj+YKQANaelHfchLFub1yU9BRBEDCcGTpoyAW/2IQfWxZxk1TDYiPgisHGoAAc0GSDBICBILMUiFl5YAQkEguAkv0VAcNkmk7TlFzYdBp1BX4HRnw6txhAAjTbtMNdWJKOtez461qbnb1p3pFVgiXfKYVnHpFanVrQPEVDmvShu7+4T4hTB8qyEemC8L0sMwCwUxCIIWjyg+dSV8553alaf//6fc9UnETHHupLx6NCi68lSpIQsFIKZR2B//OExJokKlZ8AOYUuYQB5ADTTzBHjWNCEFAkySBWdJUvdOu+FAs7kyQ8iEsBi1kUrIS8rLHTRBlmnSYfLoyueH5c8E3m1l2IQ/sMRSaicoxdKXxRrzvv+3VpEhqrtciVya3oOZVtIz6g0G4aMDsasMc8vpE3xNQjqWnUd//9f//xwpJIciPuig1gU+l/4e7oc54Fb/+mwav/3JG///6FWoYVEJgwcH1mqYsCBMEjHisHjeiykUYiNwYTVAxwGAoU//OExLwmooJsAOYQuEBjIGCAwme/BPpK1LsEDAhkBmQXGARlv030w1f06/5XIHFeePPoseNyxu8OUkEQDXhxrrT4ad9YRxIDVQYhOOu/FHP0/K544QcfB+TCMB4vPHyYwMZB3SY/zdqJp7///Weo6apps4ocHhAN8r6nbLlvTnAt/6Nf/7v9Ck3ggFxEKRz+ywsfLmmFZuGa4UkwCgAHTE9tzDMD1vpiAY2YcYAYHgQJDW64ABMxABBXqmLEQcQa//OExNQm2jp4AOYOuPCAGEJDJmgxcYQ2YbUZQ3KjBAzaFlSNsZcmiXPpuPPdZUFxafbKguESAehYYIDCQfBN0zAhjjcTAAwgf8Mr2fJ6YFRTd+GVYLsAp/BcC/cMJ1K8nZl3K2V2GPtXb3Mb+s8LvqYmo2V1PMN7j9k/x3tzjT7O9VAbCWfHgjFSpLP2aF6aRI4s9C7KY1dFZdMkIl518G9IlbpQIFJ7BPOHxatf5r/+vn4r2bev////4m+KZef3//OExOs8q+5sAO6W3KDXzMIgAu1NlK+h0QmosSYxBqAgwOAxafIroCzEiPNHgOYbsTEeioYBKdU8whKSAp9sxv6ZE49+MlUr8S+nEN3ZpRhY1ufgwusySYcFWKzEi3SXGLwoDpDVjSUFivDq96WGVmTGBiG+bj8FVE7JwVwHmX0zo8Eiop1olBtq2/TzqTWfdtm26fddM4eRv63ueOrMzc+UE0TM3TN0kUDA+mm6KjQsU8uzx5JlMo1UZLSPmJoX//OExKstAwqAAOYauKUFtb/sLjv/6GVIggELjJyDjEsHF0igQmVA6JASYwMAc0ZAlly+TA4LUa5xRoyhn5ja+SLSdlDGKOvksazaFA1IR2ZQCFBbsLAncw8jvxQWofpyxEer/CmBo7z2VbQ4DCsqsnxjPigTL8EjkH77adItcZTCPJTRPRNGSVfR94KpnviXea//fz//B3irXH/p/iJ8Qd+1/8x8eSuNwI7yr+nruJmfDE2RHGNHeuMaPfGnt8vc//OExKoxcwZ4AO5euFYMStfXOYOa/eMWrn2ta+sQcQLH2f5UVUv/9CV+WbBARJxcTPQvmFBsY4OqCjCJWbfCDjvgCBEpKoysubS0rPBpWkquNcrXF+zt1Pdfs5KhkxTKVMhCV4Dg4qAJAxphQkJA0eTnYRD01DykYrAaY7+1WUNzi0NOajVDzwVwsUIuhKVltQodKteHexRm9mtaI+tiuvvP9M6xWst9SZx9ffzT+2d+2v5r4g0rOy0gwPEy5ruE//OExJcvErZ8AOZeuPqqeNWE/cIMKPS2MwH2c1gWxm2bQ+JBZrjyAMJCRIN/5ZYYAwCVruwBQKbgrJg0FsFHgMHd8eDSKxjhYGaQc2FfQJBMYyRfSCtXQatpuFSHauFqdvzCasZ+mRFpWfGYglZe4yYIi9jsJTN7DzGAcF3ZuwJFnXYTohVuDG+prDAFYoPrByyxIcZCLxSBJw3Ryi6I0SSysvTpeUko/WmzVWpJaKLIt97IO92pvuhWXE1LOIIz//OExI0scv58AOYauFRJY8iOxAkiSdGXkE7UzlaK0U63ZS3fruki9a0EUTos//rQaFXKWzho2vA4LKKgUwmhRou9GczuLHobedDgVb6SAGRYszYhboYfsU8Qb2xXX1cm25rDQ5cHCLWauDVnnDrMQUmXZpVby3z3NIU1BQnNqLPgWUSx3pd8apqabiRONCBJskssSNReIGh0FR7TOnDiZqye//n/bfHH2yKm5tkb2x06YWPaR+VDh5Eeh4eeOHXO//OExI4pCvJ8AOYWuIv29/93vf8S3fd8znJcxVuyURLFf/Wqayq8wQKjnEfDGyYDEpiQZAUCgIImFiWZOIYKFrGk4n9mM3KWV8ekuMitiw1IyuDOcqNa1CrTtR4Q0pBFR6QWIBSUQ6hyklUzOdLAToC8VxOi5I6V7rcGvxaNtBIWK7GEgCFhEcaYSAyoPFQ6LVbo6GL69HyorrLb0dkFlKVyxIxlZXQWq33VkMqNtmllbN4s8RFTJWCrNf+bYsPC//OExJwmQu5wAOPKuBMOwQ52qDJYcMWEcygHQEABkCrvUUL5QrOlmJdDcq3q7S4ZUkweNh+JJeF4Kgqj4qJIDQRhRBfAVheKoiRHURRQF4LsG0Rx6SzTzFV02YgeachjKz1srPZ1q52q3moe57n1+iHq59qJVrbs+030o2s9USY5/RPve9C8+aGJSaESns6Xiz6Zo7LEnjbF4vOanLxBIDhWXBhILDgCYETikugIgYY4Z8ccZu7bzm0UGaPGvKGl//OExLYlOtZQAVxQABqYa54PMYUKqsi9mRMDo4wRFH90n4RID25j3523Jpx6YpiFo5uClN351vI3TkRwyokQARAAU0AACD0fUDH5p7GOWHsCX287fKrsvhhRRrTUHkhyxn3O/+dKqRrjuu9SOswfVKwKxK2eVIpGL2f597xBOWBYGNvRanXXnllMTddAeXAZC+MxD//3//8+//w5L5ibytR+mt0+EYh+POU1iBWwudUnqs+6v/vuu8sb/8///qy+//OExNRJBDpkAZrQABluSljU5yOujL+2M8+/H4EWCYg7juI/KFJeRSfnM9W8f///////////n///+ubz7hzuVJYh+3UuXtd3+edy9eq9xqYW2pQ5FpZuknqenlElYCZl6HkhK+pmZXNgZxFFvVMJXaYWa79QsbCwKGVDDmXLEFGNxbJWEqHaSFDdIxTF5RykePY8utvL0n3NDftf+n+I+7w80pq00995vf5tWSafdd03hjjVeuN2FWwHrz71E9aS//OExGMlKtqMAc94AGMZ9vfP/rvHx9fGvPNA1ua9753//LTFp851Te7xfWL6QtU3/TfjWxFqAUGm3+O///9KTQR0EREwJiai9ygjMqnpTyU28Y2w+OW39hKn6B3XZgj8C/AfZBA4oRjRmAla4Ja+YI0ylb1SwxmZVK/TxrZ4LmnUPOTTI5YXWHloOq41d5d7mJeSiuYmJTpxjg5bnTcsM8SI3Zhwcw4F9/Op8bhRsX3bG//CtXX38bl9ZtsE761s//OExIEm+m6EAVh4AMLF4VvaSPEygWNH2QCbLSwjx3Z+2tHV//3/0TDi2N0AYxSnjkwvMkr86wYzHYVS7MbhQRF8z6cAIJjAYJDgmYQFgNGhn0ZGCk+aFKhPMQKCkI0oYz6E1m81RE264WACx1rwQEBYoFFAclHipybxv1okwABmAm5QO87OHNdpdcPOMQglRMuZU2GHy6bYaz4y9QRI9TVhrqSyBAcRdlQxt52kdm5JaSejUVtdo5ZBWMHS2FP9//OExJhJE/5wAZzQAQ02GGVcOvIpbAcW13VuilNq9udz+Oqnc6W2ZfhXuXKvZjUGR7HcCxXDV7CZm5HH5iBWtxSJ3rH508uruXE20p30yxxj0i19ytXr54d12VZ2qG1dp79mcv5Vef++4Xbkpsz2V3uOGev/eG8fz7vLL/3//vv//6z3nZudy7//jzXN5f3v753Xbzl/vWJCVRDybyRU7AsggfAaYQGgGBwJhHnAIQKGMGRLmGkeARkEgc88mMgR//OExCYvYrqgAZnAAJAYjFRYgEPhCDgIAJMMLWksMCTFwQdOAy/xmQpeixBb+UUujL6Q3EY9XdOVPc/EPzL0Pu4s1Xhl9mGRiJ1H1ddTpp8Q5nZtU12pGqahyh6KP/JZ2N0j9vpLJRQ1KbHX//zU5Y7r/59FR87//////+W9ZQ3hz+f3DCrWnpNG6+vwz7fv7sVrX//P/+f+////7nmQydP9+DCFeFTU2VAFCmeFLVYQlSEwESHmpYl5DQSgVrHA//OExBsusyaQAdqgAOYB0EMpEW/TFUpQqdokD3mRF0xSQpYCQUcAApwTsGQwMmoEbBEUBYCOSH4FIjxOCiSGkRYWaiPxEzEcBJF0Zo2E2mxwL0i4RjA/Iiwx5LGBEzUujiRI5zEghsbjtYZU+ZCgS6M8TqIzyJHF9EpGyzRTP//0ep/frRZkUy6eSTNDhuzqSNknSrSTQm7Mb3Zb1+/1PXRpaVWz0U1qNBYI9q3ONC+8DATAvDTCgKCBQUEijAHD//OExBMm0n58ANYQuFp40rI4bA1ZBW8qAAcKZSvlqMultq3lATlUT6tq2MuC5JkqfFqULNZVDbObz6tN20memnKnn2frKHpdQv7epYzyeiLZGu4wzDtkVFVJH0U9HEjhodMHQCwjFB0LgtsoPrZm4//////29v/+ovtYhjrgo5p//uFJNyTSI3Qu/pzxIqs6CygK46RVMrGYxgMz5gbIA6EK0+IGwEQwSBjFI6MEFYymMgERxIYoAJWAgSVgRAND//OExComaYJEAVx4AC7MQdqA2cvy8SpkOCREKHaDBPFFIS8HKdB1IU1sL2ErmqNmtH0LL2GrYrE5WjIkyYzCrcxo0fWteE+vE+/BmOZVQWX+DPusGbCI4seQ1Y1hN72mzjYBYJsu1TlmHkm2ijHM7ziCgeyCqPFv109dnGIxGGMEUzDx8BbhjhgbohBAKxJe74mcCw0ZQ3GatdA0uWaIMFwNTcA2wAkBuHCWe6zc1CmA0gFuAZ/WX5TLhoBMgALg//OExEM3vDpsAZtoABLgCgRpWy4iblMwYeYmAWwEkBTy/9U8boJHkzMDLCAGQNQV4VAN//pGhcTNz7JphMBPRnIowwEkF9MAjff9TNZBab3TAky+S4WgT8TEFbFuIIJApiY//+7Gi3dBjyd0NxOiMJWMAWl0N8sJ4mAmahziYCZjg///+pnTSNDRbp9d7NjDkwfxLDgmgxRtMSYPYeh0gE82IRIF0ZBPP2FAkRMIMDu4FAMYQem2jhjwiFB01CBO//OExBcnSg6IAduAAIQ1PAGCYQdw8qcxAMqO6LAcAx0GBSIkSMSIEHA9IBOGECLjnCcJkOkqOXDFEipE0zpZTYgbrIcQRybMDpuK0Ig5FDh0mjAzMkJ4h5UkENCgaGZksuGqkzdRfM226jJLsiij12//6aKjciVJDg2CIsIg6g+WNAqCrXBht75jz3Qd/66v//7VKo4yICl566cXrTRNSfzCQlHcKux24XKBwFMDBIjOmAEq35WSliRcjJEgOAkI//OExCwlspqQAN5UuA1I0V1WSdQ156N0oTh8O39RqWY0sXr1pH9Wct40MsrxF3L1IwmL08uYnD+b+UhQRbkYjkBEBSDUiFwhzEIzGIh+TmkxOh5nev+qGMvb/7opyVZzjVoubOO2ec8w5T6yay0ih8qzf/////+usPMFA09IoKwBL4ROwYHLtEhITml1uoY4RqMwUk4LZwWqmFiocQFHSUB4F5KDBlDiVWGUmnSnOXJHnqb/Oln+VZzDUS5yrR7r//OExEgk6g6UAN5amA9zQzEtG4xGKGgZBgQx4GoxSozJETghDiEyKKI7R7nVjhLS+NRPOmRugyP/6mUgtFv/7qRMQcIBkDtNIGBF5cyIBoIWkTdczfonVUWtGUnjpYVqbuA1yGnQICRg7MkbFys6EZMREWTlgJC0/JKevWDS3J2SrsgYRkHUcjQ8Ufx4/fLkzl3cgy7M3uXJHjhEr3NxTVV6Z+/BLuRGWwHe3gwo4BxgwBwLxcoFwing6xw0Ggxh//OExGckSlKQAN5QuYZUr8///ym1x9fH9/8SQY9nicZn6WkJmKOPZ0TO53cvwIxxddHn/e/H/iqOwQKA5x1MAidJcytEM4C2vo+nZNbUJ8RhAkJTyUpiwK/MVQZaBKXiBwl1MOQmCh0fV9glEAz7cWzUXHdqZQRPXtxbfx2xnckVjj/S3tWHsJl2Z7cRh3dC1lQyRIy8HQtgpE0jB9HKsR/x/xSUl3M/d8RE6+ysEgJGlil8CMSpu0PKKLOqmY0d//OExIgmyqaIAN4QuH3PV/cWo0NxFssAKm//////UOVVWyi4F2o8rHM/QAK+mzA4ycGenA8amWoBnIRAMtfqbhwu8lVU9OlqQ5MpQL42keMEBZBgnI7YYDDMxT1hXYVbGtGzSE+fZyywmbdaPrVrXVSjaqpWHhQJmaHAwEsY9VExf4KDCqZTVVEqzNSZj6JDOAgJHW8moCoLA0LQaDRUFQ0WBocHfBo94ahr4lLA0DT//8RP9T8kMLxvNLC7MWDo//OExJ8lej5sANvGuD0+RjUcPBoiDCQmQcQAOB4wJDwxDComCpUBb5lb2wM3Wjh2lu2co12qaR5E5CqF8XlJM8R94Fd71NnMTWdPo/pRiftqppGboUDeKRq6xi2WHELbC9xXG6/fznWpLfVcfGr+0ObcldQvX2+/7fVt5pN6V1vF64lxvGLbzrVcwblHC9yxhFrHXHLbhTT7rjI637U3VPSaXZ9NMYEPLFlztfF1VNHWjAK3NQRHQRG49AAwKMW0//OExLwoKlo0AV14ALq7/nMKx23GDuKtzndXki3/U3CCAoSsSK7Ye4XvwRUiJaeJMrFkIrF33zL22O/h/sRd9iZfBIRkjwuum0+KuEve8///tNKJZJVTvOhooMhSjKwZmCiwQX/7rn/z8H4a/B8gZqmHF1NGkk2oDL6iQVsqUJpJff/9w/v4f32UM0f+XUTO3Hf9nCgDqLHiKGCF6dqtpZ5QBFsDUijuQT/P////////4/cvhuG37diBL7/PlF5H//OExM5H7DpoAZnAAB+jhiklkTT0qtOhillSxEyUREMIxLoJX1//////////////8OOvWhyq7+uRvsYpJZL79jGnt2MLEYWCaw2VE1f1+ll7/WpBjBcnaXK5+ahMSuKmBxzXMWurZBa62eM0dyJu/QWca9v+5Rjdu7Zld0VBYGwEwGCOIosSLjocRVMo6Ra5HFiKLyrWzNDS10VduNqlqWsbRSDDj66mmvkmh2ONO84q5W1qcZdpRJtNTsHRIqjT//OExGEnc3aQAdhAAFKksww84YLNZQ9faYdu6iYtq4fqG2tp2+IvKaGY4ab/HirD9YGD9ZXhnWtWuBoIoFToNB1SErOgY0WHfkqlMHBTOGUT3kijRYE1MIGgc1FnBRSiSBBS5AaPdNTOUw5saYcgp2YN3L2GaTxLXiMAyB+K8YvVbljUUs6t260Yq7p56bYnbfBrl6ksfu3hzHWeRjYfdRhjgBcXURUsq81c11aVrr+/a+vq4o7sRyJWUWKpzBM4//OExHYj2rKEAN4KuKDGOcxHvVd0ETEOIEBoIOsK2neqCsrkf/01VyYDAhm6YHBRMMAQithkkEEASNcEVPVDuHHtriS6YEy74kFWtJkuNYL/q5XiLGMAS3SFjW3gZDIYcgetJHlmXg7k7kalT9WnDj0ua+/MymutaOJWO9BECUFBjruPaw0lLk4kSoNA0Ukh271fj/4/+5/////6//jk9CpQyD/5JT2YnglXaHhT/qerKg46SZODizU///+iv6FL//OExJkmorp8AOYQuDiVXKFwmMGaIMSBABgHGgp4AYUACDxliG5gsAgFAMwBBBJlmKWEHDhStESKhnYrKVWaF/IabAk2/TKnbjTIpdKGQx/bSafN3ZdXg+7Sw/K39ft91ewI2BY43jqBRTYxPG6zdE1dM9c2mJkShomkyqkmqZNaVVakE09GtqCbO6lLRX/1ppF1Z08IhEDoRiJS5QEweCIdmQse////2IVfZgEDBkHBxwoHwJDUYfEwaB1ZxkAA//OExLEmohp0AO4amGYhAOwEwOFFUVIWADd+QhwWxlI4yhgeAG81QPZWaqveaLBnXmmRPlOr8heC8L1pm16IrU5AMQsN1YtQIyrogFQFTlsSlUCUH2r1TbMlM5QjooQeOaPsxS1g4hg/GFE0wvFtpH9X3dfvEb367CQ4aeLRN13XEf13vamGk4is5z2f///qU1X/WmnCQOmNohg8LAUGZkUYpliCZgEAhhyXwKE+CguFUgliq2bVCIH5y8JSnnSc//OExMknKopsAO4QuHrVpNUliv9K3RC/AcCVGBXM3jnIi2tPp8aOhb26+sBN6zFkjewYuuXSKWZ3LNTLJrva4OgeFaJ+6aUmaHqMpQ7OY/hbfpzNrTv7+//+OUGhwIA0iDGm0mI5/4VLs9gbcEQfFHDv//5jgMq5CTCkGzEEvzQfGTtoayqGRig0RpaAhMEZhCXYKOswJAQwiDsoDFS9p9V4ysDoEFViRXTdBg0Guc5cNtwV86jjyXJ/ZDaiMHW4//OExN8mAn5wAO4QuMymQOVDVLTX6BnUFO+mCz1CWjTGWiJhLqgudq1q1/e0VHl66wkTgUd9Ks0qGd2JKIlgMLFSeZZKk4xs3Xan3J2PvzP3fNwKgSWChMgJK/sb3nca0vmHgvAi4EW+jO6AjMOMuGptTO/96VICRs3Oe8gMLPJdfQodB5gAYmKp6a/OooCAMSDTBiFimYSPBqEpiR2MBgYOMFIvsOE6jwKAKLKegWa55dsdYBwI8oNMedVljnVJ//OExPovQq5gAO4MuEPHLoflcq3Zp6lJDUzSVq8fxiVjVWW1c7ljDPP965venJmNF4ga8C4/IHW7DUFjQ7EUPiLGXaNVc999aRX1w86Qhn6IiQlVy7uLli8IVTkGEsikOamJRwROJrTfPUGWLYCdn/7BAoHA8IhZIxzhPPtIb1QcGB6LRepLVwAAnTZZSQ7vsYSepm0CmCyUZaK5xVLhwzMBAExQJkwEERikUoHu0lmmwuVVp43gIMtqhE8TyKmY//OExPAtUsJsAOYQuIWHZafIqaXdvzMb7KoxYpse1ZVGKkRh+HHBXu5bE30hykh+nrSuYlhMJMlyTH8+P4zEoVCiF7PjkJNI7Mz6ZgU00lbrX////d6JfW6FS2opMkUDJbHjEljQ2NHSYpuxcczJNNaZ8vIMi6bmSKRond///1N//d4XVYdbOCgCcCEREAUijGRsGjMUA0wCTTao4RLhkwWTWrwGIhCRCeG2mBlBvWfGchJhPAOnxIvFKBZOVd/Y//OExO0sasZ8AOZauF8mYE5jEOaiUg1k9/+8f/BNFnHUWKPFmSvM5Q6/bkdN3HqU2GkSgkCYCNDwJgkpAWXwuBAiSFw0QGWt0df/rf//ZSnn0a1OZoH1mxwuFZiWMeKDTZSKRstFFklOjoJqOF0iJAfDpc/aETRqcU9s+p2h63///+iGmeiE4OxmR4GTQMrtBZEGhgxnXMyLkiRkDID5FqmTMFjZ9REOEIlSsRiTwhSIC7QIeizaD8S+WXWNQvlV//OExO4sQqqIAOaauOXHUf5l2DuXaD+yGewmcd0isWWTS0mdYs63VgItkwhJLC8mhPBTRknhxiKSLwP5xx5C8tATo2Yy1f66N0e3/VRZKmcSNzMxNSWJExHMSqDn0SmgyzVFM2U6RxSFlsy2Wmxg6RkmZColGgEQicMvN3X+n62///Kqf9QAwOZTtr6DkEY3ERqBNmjjGYkShuKImyjaJCwQC0xIC1IKDGGRMYJBBhDgyA+zg4o3HQBOGKmGQkWX//OExPAs2sKEAN6auClPua9Kguo85WesscpmxXhmlyu0t6mhqLa7+Vp9ZRH1KVI2t1b0zGWOJRnbCc65Ha0do/Gg1A5BFOgVByaweRj919/Hz//////zzFtpyt068pHSsjebHzsNa22007EOSa1sOSPQbQe7t1JMsDRUyIi3/+z//9MwaCsxfMgxwU0HzyY7EOYHEWZyB+AhDFgyEhCMmQ8AQHMCEAIozIZlAAyBTowTAGcwAxXF4HXAkmpFyn1f//OExO8serpoAOZWuNaVCnhd2WRqi+zcy/l/PuWfOX/vWrnZqnnaNlM5fiNmc5S2dVs9cy7vGzRS4kDEAKBCgtHIPiAfMaaZNzjTa85Vbd6InTux05Pu6vOZqfOvvRFZz2dnXbZrN6fbVu37pNer1ZkJqSQ1cg1QleUWwoX1+lUwGCUw3IgyivgykV8xyD4w8E4ID1I4ICUwFBgFAGgFBoHA4FsoMqTDMl7QOrgzkBwhGBM9dMGtKk8RpHdr9zrd//OExPAr03Y4AO5UvO3tUn19WpVau6yrVq+reMt5axqxnKza+3q/hVy+vjlTXNz3e4VpVq1u7qv3X90molF7SSpmT/Y6ZRubP7XCaBeRKpjhrQQojTdSQqpuSN3ZO/zuVy4UnetmpkNmzWA0Acg0c9SS1nTOVRBhRKxSDAV6aBhx3taktQNCHbqXiRVWkzCKPBOBo+M/DDRixAsdBGpNpBDtQzKYjIqXLdeKcyksGPvKRMEiTLwbAK4EgHIXysly//OExPMvlBooAO4G3fszn2ZKgs1skoyZkHrdKhWz6Sa9Kgkjn1rd0klMzKXupdM3ukaKs6SKa0FU9Jk0FLPqQU9boIpoGykErLdqkE6CKSKZkeTWpBlpsmmggxcWbppqSOl92Vraq60LNRRWpNnXZ916Tet1upNB1100lq1JqMGN4ZOIHVjZlaogEAJ+YYkMAw8GahXD5pjhmYI1sABExpwygwMEGRUjB8wwUWGmIh5hoSGBYMBjGyQxILT0HBl9//OExOcry+IwAVtoAM2ZOASgmGBhg0NlOcdQsQooGgDYwBmOBYOF3VddrC7IEIg1lREBM7UgTDgKAA4OZsh1jbtwPqphUYKs6Uq/awXQaiqtNNedWL59l+fKFn0MvMs+Ho4oHBTxOM5sgZcyRrcDsHrTjv2/9JgaAneBwu2ztQuFzC/h4ETWeyPydyKdrP//9//w/85Nuhm9TD+TkRib939yyW7kDtUcWisMv0w+vbpLOd7lJjXz5//8+uRfdC3q//OExOpNJDpgAZrYAHkXshCdMB7wta/cddnboO66b/uxQRazPct3b///4f//+GGFPn///f7vv/vPPGvjT2ufIrGdJbzr2N3q/93jhjlNx6rWv27eOuYSqgKRTRJNMQB04enzByWM+pcxWDzAZBEYhNKm8zWbTSQlMRjUxKESJfGYAwaGOJiYhuGWrVIAo8yo0FigyQiNELAARAonVIKAA8BmSEgOMRGZhCoADoyqEMOOjOxXFQiozh4FUUU1bS7a//OExGhAcw54AZzYAKgPATBAEDpXqYl7EKPmLEiMRE2DtIVraRFDAxsCkIYFpAOq68Zp5U1ty6OVtcgFd61U51B35a47bSwICJGKEK1vHfr4UmPMvYnA938MtfhJ4dhuN587/f3z60NyyiZu9+Ub/uediRxhvGtxKQxfX/hOTEYiUHQFZl/zl/t7Oxz/3ve8+zNmkqz87n////jb1Zy32hsYMdCIz6IUgCjIVRKSMCNNQpVhDG7fJuiAAZJGbcUa//OExBksynKcAZrAABCGDMGbJGCVAI2mmjEXiXuNBL4lrlLy/ocQwAFmvoOAZcFOsSsAwpi0NMe11XDdNsLKo5Vg6MILMzcKG2csEgqLu5EMHsQSyGH8rDwqEMWcKHo7L5fP0leXQjCxHnJcnk3GqGHWYv5FnakOOHP//+K0vP///69mzz//////KvZxqb1z//WHKtnmO9/+u73ZqY2bmYa/cn9b+3TVgFeByicvMUgErQVDEgVcoOXAoSSwS5Aj//OExBgtknKQAdrAAQhFOEgIMGyh9Q4K86eiumRMhhlS13XpXC5KqTWlAlqq2iEaEku6HWVWHQvuny57RX4mWRVIHatALgVWcwMz5a/Vqve2KMTj3WJXRRm1cs5yru5TVpLUpoJVJ5bDMouQfRw1nXnc6bte/rHn9///////////////+/jz7WWVq5jjZrVt7y33lXLHLVz4NDR00+2Nutf/GaQ65sWpQ4y21aUYIDi0BQAy9AMjCDAwoHBwhIjI//OExBQostKAANvGuAdMQDxIJYjQLZRRaa4JlE+EycoSeOpDkOenK4SxI7o6j9MEgSCnIEABgYwNodRfTha1DAhq2Kwvo1mpVXOZVMU2YPyRU48OGsc1DOhq1cmpRjOrLDs2XfKXL9DKH/RmpXqlQqmrCj2gEOJyNhQYMwEqqpc9V3IYHQzQE8kGy14cUeDow0dCqWltHGN2OpYlGRo2+eN7Agg0NDJzBSFYEIBQqJJcMvdRxo1XjOF+r27euvc1//OExCQnw6pUANrM3Bb+VDvH0URtBKIc1RNUCUsbHzVrpa11tg2hzjb+a45iq4uW8bW1y3a2uf7vOf9889nIo+tOJbLVVP5lHNn/78nOaRJbONX9ZSW9qp3z/vjV600iUSLAJZHKrf6n+qp5acqu+VXrc/9f/+ZltatecpKisJuUPDWJVHrDyDEhw3thOAQjdhkxtDNdCDGCcFBKOyRMYhulmI1UjNPPW5blPW92cz+6VzhWNoHBAOMThx3dSw45//OExDgmQkYsAVtYAdB2OfejTkk5bbVWzU3dVoTdbK2b3ObToSPbWsp7IZDHQypnuWxXqvfdXMuh1y2rfb4cylABUHPzbUSDKA2I0TF1/2p4izZbBiuFWBaE1FFqsVHuNt2No/trN//kdSu9//tS9YIKUS0yBU1IXage7QZ/zPOrR0Ki4eNibIv5ggpApIun+mxm5XKBsUzH83Ugb3NkDEqORf9zEgZPmaRcI4jx3k4LMHaXx86vxcBfHMPE+LII//OExFI59DZcAZmQANGTLIhGL4FDJ8g4FoEJAEIOZVZ+/EJxkw1eNMcApcjBkByBcg4CKCbwWYC7hiYDFQtAGVD8QuDDIg+zJXts/qnS+Yk+mOAmyDjeHPL5qT6RXMACEE6BkcLTwAnHkCBApoaoFFD9w9scsmAtAEAP///NC4aLLjOhZRcml201IFMQUHyVxc5A1jQTMh7ImVWI0i5TNDRE2SgTt////////8dcfz3X//z/1fUV3Pwtb3UhLJem//OExB0mm1KgAcdYAH01TODRMlroEsvXsdDDQPBMG8dY8HAPgNjvNxsH4RzxAtJh8iLEohCQkRQQDgfyGNDI3YCYVjvQOD3BUSC0/oMMzcqOmJLTc0tLiAMnlahu0+i8udBMJCyhqTy5JarurcfTNjXLLJ6yv1LkGvTtIDQXWw4gKNwIKsEZ/sB9Sr//3///+NpPz/ds2BbwGEbuIj/PaZ7VVUiKYioeEgrq22KCM6YlZaHzg4AtcygFY6Lw5Six//OExDUki4qoAAhYvXCEqIDt4DV4sj0+tZOW/hNjJHGtsevobsT0Lz13oTljJZ5DSutsmES5dF9mHW0IgwL1CyNDs6y0iWL3ecXPodrpm8nPllbkPXtWc2e/qXck3zfNp6Y+jvrGu7dinlWqnVQtiMPxGK/d7Vgev1hqVZHvpJqfVEOOHR9UfT7DA4EAwPWbeqGcqsYS+3xN1SrVp/TRBPDInLo7u2ZjXBKidiSGUdLMvTfqPYytKxavK6XsTHz1//OExFUkkyacAHlYvHMWnvVrbK8zE7mrXmZ61WrTXutruNLmVpye9U6LS2vRP9Xplpq0z3s9Zmh4akkkiGsikSh0k1OWnsk303JVuBdiamMpIyhUO/hRGFCCE4ebGmFAQk1F34ceiCamiFCVSfAWGDuhm+hKIfllypPPyEIVRGXx1pr7DiG+U0GMWEIqnq0cjGks2Kqzrsch4gjjQ9NBoGzgbSpYKRHNEkjAXCCYcpi0SYJVB40YdeUdJLyO4eZW//OExHUm8uKEANMQuOeJX++IHtdQsevU8xI5f5//Wr564bipge0iISShTT6jQVeRo9SvrWJGEB+dYDgwaTnZAMIig08BDAgRMdmwycMzDYaCgHBATBQJXwAgUtJE24wUaFwXpPEhAzm4AFsJwCHRgkLogyeNwdTOaKhO46j9RLWhrgq1U6esC4UC0kTJZW6eWLBZbRsmqdLNOoFIigop1bplLn/SMz7gDCttFls/+TP+1+zU3fP+33M/ZCD9k6MY//OExIwn6k50AOPMuKgF0FWL345O/Xd6g4+z/yxUseDaVjMIDaOKAtMGlrM0B+JCYHBlUpMlAJCAuMdAbaSAAEdReUQQBMqLATXnKagudK0cVKMxhwpPQcYusMnTK2gRmCo/FJS/0ahvGHY+8czDsXbhLoGTxVVSBXy3aHV3yd/LGF3DtzGTbgdfLnwpwvF1JdILmT3zdtbXEzPx8z9z/8+3/3aktqIIclgkJhKePUasSlYiMFRhb94ifVfs/00F//OExJ8oOlZkAO5QuL/XMXBgw1NjehlMAsU90LjMRWNoiYRCwxmOTEAmFjMXUIQaoOW7V2tF12BxNPdwyECgoBiIDO+PA8D5BFwtmI2NxZZaI0qDNk2OWePGRFCeIYWyVIMkRIfh0kEG8NwQuPIZZFlhsx8ZMkCwmbGpfPGboopmh1JBNKjRRUZqRSM1rU04YKTVfutVm///e+jrTOonDY1QMCBy1bP9fZ/+omUVNxtY1VdTEfpNhx43AnDdRhEj//OExLEnkkpoAVyIAAmjluaaC5qIKGfDALQNFIwaKDfcNDEUahMZlNDiMJMQATHTQ10+N0Ejk4c6hUN0gjOjECgCulY0vjxBs0EPMWFlVjmSIBJQ8aAInWGf9dygSmaLrpJrL9LvrHaWgYuSKrqVRgaGZy0jeMAAKBGdQDEk00CJb4wQKQUdShpbE58qtO8zVY6kXmgSUMPZ20WFP/bhx/pXX3ruOP2K9fLe9b5GIOp6fPDDXcccsq1XnLERu1f///OExMVHzB5oAZzYAfmd2YryF7o8+f//d8vYStabD2ufd1lTb5vuX//Mfll7Cva/eP9//z32DqTCpHZfev39/r97vf+sf/8v33usf7///8/8Pvd53/5/465//v/5nb7vL///1+d17Kp4gugDO4NBHVGqxBh97hYFLxAHVOFCam4gNpdDBEefJ6IDWNIJVhgqLa0IRMUBJgEjAPoAdsCqAtWFrwhOK8ISE6LILQ8F8ipEyKkEIcVCHGZNEXLxPmpa//OExFgmwmKQAdqYADMuk2TJNkyT5KCoHxSiA7JaNy8Thw0LCJSOk0XCdIYVSGFQgBUIoWybNjpks4jVa1X/////9SaZ1Nlnj4qBVmvlBAqULrG55c8w1AeAowqbhYfDlgORrLHRwGGjzkGhRKCdjwXeThMMAuW640cjQpoMhJjFzACgracoRkggoZEtQ9aLbTjgQ979P/M0LzYPBTYT03jjCtwB9FJ2evKwpjbvM7FsCsF4Hg8cTBGEcbB+IgLo//OExHAncmKMANZUuJg9BsHgHQ2CSGwTxEng3j0nJRgPTdZ8xka1f////+qOPXJRABl9VMDh0sNSZFqVJanZwnCCYQ1Bpw8m3cLjDQCIKezykrYskZdyVYWFOYMWuAJyFLSUdFwMxT9ZiBCBCMYI4oYCQiQdhbVY1MNzuzD3y97cpbF51a/T1G1+/mhx1ZIhSyZSGHwPI2joNND1Q4ppbWnqvcnFWok72Lp89ioNFhUqKRCGwYUrGzel4Z4+xP////OExIUksZ6QAM5elOOSfWXexNrsXLjmB9hClUOmlprTEAs7QJjiNo0DjhATL5hYSYgEXVMkGEjxl3RpQBQYyUi64OGIi0fH9TNWwgGWEAxQETHXwMCLFLEaTBLe1H9oJfNRaP4z8Yj3JPTz1+noK1Javz8tqteo2JqRKAlBukJTHC5iP0ZiOiMAmbCmYCXBwDtC/D0JIWhiJ6PNEvG5io1MEFJv3/////9ddlU9BbWXZV9bey6FI7puWphc5mqI//OExKUn4tqQANZauUi2WGvVqemxAOZMQAQxVEVOwdELVGdsBAReAX7NVwqperARaD4JGo+NaCpJkKFMgki0xV3NdaSyyYhp95l/YOjNFF6abt42p/k/vdJqaltNI3dYa6QtRwjgJw7R3E4tG0lSQIQ5hPiY5GJMfg/jWPQPJBEcbnyAPM+MVUuonE3v//1f//qZ001LMC6LBEGTT24u5qQGQGDQSq+ijLLjLYg+M0c0D8MVxkEqXYkAZsjLGAFd//OExLgn8l6MANYauIZKg4HFX0JWzU62MoBGFAnM4qjLXwQOfJfR5NGq6ls+8UB0dxv83Sk3vFu7Jp+vEsJmMc3INRqtxpOrIJKxgZn1R22bG7ki6zZM8NwgyeaAbHgQQaCEBMCYUDqNHTaR+//////////+q+GXK7KtpqaCZKnoyVB4i0p1vJlDLjzdvXVwUOQEqBi8QOoYMWhgcDBcDmFhkXZEIwWO9ghBQYIouOgoFBaQEBwgshTtTVwZi02m//OExMsmWlqIANYWuGc2bRiCxVDqbhr1vJ1P1NMGtch7UavZvtLqd2pdTym9U/5i1lHIzOMZcWyO0m0STa0l5bTzVzDY8w886N0EOTVA9hqUECTXxzXx////////f33xcJHtE61E7KNTDoSuEtyet2xfuRCoiSYCDBIHjPHHDfoQAABJpewZoAChgoA4ISsAAaJAUZGgkDgIcswPAJMFCcND+zQqxNAGliIJMLSy36iSh0HNKOZk4IqofLXWSedR//OExOQmcoZ4AOYWuNdf1NCk+5UxlXkGoexyMoCWzzq1m8gJOu04Swb7IeCVmcBcDO40pEjhKZC5dlaKkDVnunKM0YOnE0INgMAIluLadL5ULvc84Zf3M/q7uHz9J95d5d/xv7HPlRYKIzZswZbOKDT0Z5h6usuWqT6Fr1uzFf7gQcorAMxuHs3Vm80WF8wrQo7EI8yqGcwIG8y5BwkBQw0F8aA8wCCmJMpCoTg4EgqAorEzHCuQEAHCGmRtn8Wc//OExP0wAoZUAO4SuBdt7W0ABYcBKVLm4JFqlbIrTeZmuqLrEhmMMdlCWsQY+7DAmDsFUoXLMF21Km5IBEMWbrQj1FdiMJJyBYfclSxQyhauhQkOw9DYPCEBAkRnc9mpO0umTqaueOKip9IWN5r27/vj59kkRSRBKCqmnbq7LnjiHv//6/uxKkqUdDkQWTEEETFBoDCMnzAIKDEonDDsHjBsPTJ0GAwDgoBsHhUBxkGEixUHRYxZw0JTUBBldpGF//OExPAt6opUAO4QuACTvu12PqmZs27FIvGoAfR25ymZ1EHTc2PrCw26C9q6Jrd14NBqrDQYvtljgPujC2ycrgxqXySbcaPZupWPtSOjRJxceFMg4GZsTRBDyP7y9Zr4fHzdR8f9///3H3/x/9Wozk7SZ1p060LjH+///ucjiw3sQsXpAADmAoKniIiGJ4nGM2OGbIwAQkjEgTRECZlkIBieBhgcARhqASgxgYC4OAkVBOQhABrSYYKM3QLEZ28q//OExOsrwoZYAO4WuNfFU7KZ93XMarALx0zwsSh6IOlDLUnngN0Z52YEoWst3WBfN51rMwWlov8hLhpvH3sxeuaKJn7e5KqOr2n9JVrlDYEAPAIg7hvAmHeBU1BLPONdN331bam+Pj//////+PdbotRzZY1em9uzZItUrR6k3ceeXfd0ULowGIjAlnPgVYCDU+W2TQwIM9v4SOhjNSgADlAuM3iwvM6EvSIDAcDQacJhedGyPqXwcqoHDQE5TtJ0//OExO8tIn5QAO4WuMfv+8dI+j7QQwFyYalztww+kBQBAbuwJFnOcWQyCUu89rXVjLGdVvVINObeMyhNImG5kfJE1JI3c8yDJmB8zYwU5kSpOCRF4oDyIoTozHobGR0sJJMyWYqdbMitGlb9//+tB0zVEpOipzJI4fSN/2mXuFet4r/6DQo1lo9rt9EFAcY1B0f3AqY6DmYkAwYIBwaFGGYUBSAgQMAADFQSKATk7FWUKicowEAMZACadJyHqrFw//OExO0uOoJIAOZauLa++VsBbj2SERjWjCMk3UMweSIleObe9ZYUjU+XluIpVfAkVyqJ8rk6zxTCEQIOPVoP8PJwRRklaSB2pSCrSLAKUlyi/dO9d4rdfZ/b9//279/v////7d/kvauLHmGXa0rsCq216rlO421oDeiAPdbnWGv1KjAYGTByeDnBrQYBpkqIZgCdxqKSQQAKy30BQJM+RlVyo80KCV0hdSBqS/RVShx0vESrnJYZ5YB7ML9gQpNp//OExOcqCnJEAOvMuNPphgp5vVGmJHtzU5Mb5nYnzkpeu1LSMzvFCIw8WFRweuXAFHiwfGIpAsYaHKi6jQ8OYKwDwezLCw2EG2o1P5qImalox7f898f3X3HN31sXVMa0icmi1QGvsU8VcBRSDCXDJoSFoapcgsVMMtqlFz4Mk9ExCDEz/kI45DgzrFIMEAwBBALAuoKQgkXhRFT4qPH2GYYZSPIsBsQ0A8ewvtjjQSh+MSSQAbAxTklSysQZ8qiS//OExPEsOn44AOvQuLEE5MUyr2bwL+v7FXz9AWKtqseOl0s1du7VLksnDuax7FDjWBj0A5KSGosXqZKm0l3mHROpmmsxvTMU2eNyPlOuHr7nTzXKqO7uz5O+9/7Nu6+bvz//9Jtdfn+Pnef73PjVhcZWw11xhsovuulz1+xa0FgW9uowaAMxGLY5fPQWPYIBgwFAUIBWAEhrzwtAkD+TT6tYXBRPhTxEnjqEFCVuYBU2USIREgirSqtJyc1LeYWW//OExPMta3IkAOsMvYkRChxJDSyyVdFJmvRecF0LlYLMZv5lh7tvJpLIqJgweVnnbG1cpTJnb6/TBNaVaapHa2CpvFNpy3uZ5ZTI2yJekb2y1TqRzGvD5ulHoUuZSl0fm+WjfVacajbwy5psydfHso5p2m7Q7pnu711Jtdvm5DPh+HIRLNe/2iIJcjBAw0dKOHIjAglLRmKgLKXVvxqkfZ6oevyGDJNHJFBCLTRDGMMTIgcDRwAwZhc00DVoZqwF//OExPAutCIYAOpM3UnKcEdokFyWn14xc3GEMMsvUm+WeW15JsZ2EknrS8Gptdned9FbWed7naudMFMsdlXZeV20k9Ny08QmIzcnK1OVBlvRKnmm12ShlwuEXQVFUxnOqmRfNmIb+pw9/7lOvsPGtse3Sz42dFW+cn7dthR11Ew1aUx32OpqBbI4MXHWIwmITzlWYjRSmilM1GpTas2I/DJKErUUU18SHBtgVErCZCcI3bZ/zFKrBDBM0clNKtBU//OExOgrlA4UANpM3cSumSZE2w9LVXItyTW2kk3WrRemhhK8bYlyLdLO0m1LZBfx4JHEtnSRKwmCReazJbgEmiBJHLMapltWDEuarqRWnupUJJD2D/pJzVtjclFkqreckl+zxnNxJ2JybBL+eScAo16dPz8Na5tXtGCTrFTWM8qfEBxeGTRVVspVHztJR1e3f3MX7Wcmq5/SxrlrsYQoBJMnSaVym4oFCrRLTJDqiI8CG1EwZ1Qo/DBAiJy5MT2u//OExOwtXC4EAMpM3JeL1FYj6aC5SnGbCCK67yCS1u1sSTzVoJ2nBry1p0/8otdqXRD1OuRVTonGHPX7LsweqXtjM70SKPqEp/Lxs13OhjzGQ2pogx+2d3xkE0a9tr5hneZXNGue0OWimi8dhzM6Oe9qXLK3ZTZC0zK3FEceHqzqbQ+BoIopMZc7l9Nat81l2n1aj0zTW8p8sFlEaJGwhb1gsmKrYl4GpLzTon+sUaBVHBJFBNcyy8yogcujUIzy//OExOkrnCn4ANJM3Wwuymos5e6ikjZtQn1my7b00bXVGW0ECU3b2gUmRqTLQLJUDYTYspWHbhRxZkQ2yn7r5b3mykTqa7JXnZMt+gVtqTKR01PoObhxC8NK+IuWYyG3ytNSTeYTgpFBF63LNpaiCbwPnfSsg00m81Va3bTD43Gu6eT8RwZMdFz9JB1JoqcnED6ZPpF5UJsr6wmhP4y3yojGEaKLIIGRxKrYbNiAjabP3FRqbenShaRAozcQ4WRS//OExO0sfDH4ANJM3ZRXXJYkeDUMTjKL0R7xWiBAKNbXWrNhNaRM9c0+vh3LzHMIwuJV4IbDGEYRp3lPGh+raGOX0pk+w/mnA8jnxZRKiaZ++TXP4t+zJGgaizVzkKQvRnPdhrM290lot2Y8pzStpMfDv8ddennGQlt+q16+erTLKXNTdPctTF3cd7N8sUde7vWNi8IxBGZPqtEQgEqhw0jKhYhabIycvGMHmHtNyxCJjqaCwihGGDekJ5pgngUS//OExO4rxDn4AKJM3CxdVc66ZUt2lYLzXe8swhVGRLMZA91iAhjaLmV6MOqzNMVKydAVhzNQW+GE4Yo6Ti1OZBzxiRIvWQZj6Ox2uLCRwuNmLVqWPSLH9NajSeWYWSiPVnpEKe0t/cg3v6DEXTLK3llobXej/vIUhv0v94npyuA1F0xmFkAZKTmfN3957v1LVzmNavT5TXcJWwsotiotKbC84i9VSr5/Z9bHeJY2fnBSvyt1dqxe9lV0Z956xU9q//OExPIuNDH0ANJM3TX7EMMay8aVlNZpyFltt5IpQn1TBMsR3wxbmrStyrSMKRKe0DDdRdNBE89BxNzge3r557aVd39fTmaVaebfLjW51fU55FpLtwy7nc1t3ls9lTJjd8n7ZM+neUJMzLKKYt7wprxnhnOvZ5WPcLyn287Qn0cidbcRKXOdTC1V1y/blOFfUUlcMy6a324wUIl6QGkRdM5htiZgJolGyMwLEZJMDIecDpC9CXFOMomFXYxaAqyw//OExOwsBDn4ANMM3H1VQmQIDxvodihCxUjI7fIsY1QeOIIHRQ/GKYTWWSI2s92leYbrHyjGCjakImU9tPZbHNpy2LOFoMY3qeNMqNpseLTtStZY02w22mhjCo0qyYQwcpCMItvagm6NpSYlONGf6lavm3OTKULRQZ0zNPylOaT40pE4orq8kDMfplX/XU0ticPFhQZAZFIxOXQQNFosnZJA3ekvLSNdGWNNGMldiseUWiUiiDSPV7KTRTTYWzTq//OExO8wpDn0ANJS3IWVbM5cjU1kDLPxL6zUMxnEpsrXOyLUUtmLsUT1NE/G8eSUYc+oNU/W1CO+bjIGa/i819a35PJvW06CptnxPPeKNnGwvow8Lf5zb3MnttXmPrvylTve/LVeZ3vtGpe4QadmK6N9HXLqNYrC359M4XV6Qgopu1aTKVSu9fpMqStljDudbGtakddIjE6kVypcSwwZURCpGdFhGfI03oD4iPCshUaEKEjLrQCy428s0CpPSoiA//OExN8nnAH8AKJM3cBcGg+H2ZHCBkiJkAxYqEw+8gHgU0mD9wm+BKELJEbSplE/JxZQOTRjRWSHEKZ2FU2ynBZh7K01EZUudley9MxLXDD+U2ss12EC1N9WMxX5UzNJlN8kem6ai1JETLyOz+2yXkk1B2IrkwomiIYwYoVtIjuqyMSZ1ZBiOdqZpIcgkupD6peVOsZVIG5ZK4ahUZopMVP1bvaw3Wz5TZSPCYxq0trGNn1j2nGFW5ozLomCNpvC//OExPM0JDnwANJS3CNLyYI1mnqpacVGrPlq1REVmoRpoIOCTTCMuRUiissmhkUTj1UZKiUWjots4VIEQXX2EA4WYj8JUc7SRrYey01wnerNum03ap5uog9OmeJdsZ2PnymkcnyMPKesUjqkKk0uTzfNO6X64i83aklulIPGUZKJtf6zCm0vZv45bJuEIqecvP6wxRo0rsiXJQZArpsYJpHaBsapsbTRFZzX1OmY9HhsNAzWASsAYkMHWIZVFlUE//OExNUrxBn4ANJM3QDJoyHymOTwRyVdMF1SZhRhxSByWlhUhEOuzaOEMUILOEJGZ3aISdshqkouA1JJP20wtAjGd7vGzCz68o6+x328Thbw65xHC/a81c/SucRftTWo74n9wvf9acOZ5mV9FiqlOL+PKTGfU4pKS47V5b7NSfE+N//1pNqnNj01JxgJO1sjSXSgF9n1iMqhl9qHVLTRnHKl6wfDJEqrGJCLAk1JEoGm0OELE2ZIVF0prFSAgE1T//OExNkobBn8AKGM3XTQ0dayUfkkR00y1H5JZ50SrEQmZ2NtU/JnB5HUm0ocjU1oKjLXmybDnFqdE6cOPR0jJGt7wl9n62y+UxS5LQSnTTrUSJWj2KCnNyt5JrYtGY2CLbiUtNeapI3PRW4dVOYkaiajOFwmSqq2j1XVPhqi0X2Zb8Sqvy1V/X9EYSGklTG4qHRMU3a47bdGfr4bg/85utKYlBMGRyV1NpKlioeOI4Tq6TSSXhPN/ksnU89RWWTU//OExOot1CnwAMpM3Z5sZXdXVyVWKpqTq6VLFTqk4XSqxU6pOrpUSCIWIHIqKMGjSOzsZUT/7SmKMRdFMIjBhyKimERIYJkOioIjBhyLVFGDFI7P0VP0VnYxUVW//lMIiKKiookIjRhyaoIiIw5NUERsNX+1DlitH/kSTEFNRTMuMTAwVVVVVVVVVVVVVVVVVVVVVVVVVVVVVVVVVVVVVVVVVVVVVVVVVVVVVVVVVVVVVVVVVVVVVVVVVVVVVVVV//OExOUoA9GgAMJK3VVVVVVVVVVVVVVVVVVVVVVVVVVVVVVVVVVVVVVVVVVVVVVVVVVVVVVVVVVVVVVVVVVVVVVVVVVVVVVVVVVVVVVVVVVVVVVVVVVVVVVVVVVVVVVVVVVVVVVVVVVVVVVVVVVVVVVVVVVVVVVVVVVVVVVVVVVVVVVVVVVVVVVVVVVVVVVVVVVVVVVVVVVVVVVVVVVVVVVVVVVVVVVVVVVVVVVVVVVVVVVVVVVVVVVVVVVVVVVV\" type=\"audio/mpeg\" />\n",
              "                    Your browser does not support the audio element.\n",
              "                </audio>\n",
              "              "
            ]
          },
          "metadata": {}
        },
        {
          "output_type": "display_data",
          "data": {
            "text/plain": [
              "<IPython.lib.display.Audio object>"
            ],
            "text/html": [
              "\n",
              "                <audio  controls=\"controls\" autoplay=\"autoplay\">\n",
              "                    <source src=\"data:audio/mpeg;base64,//OExAAAAAAAAAAAAAAAAAAAAAAAAAAAAAAAAAAAAAAAAAAAAAAAAAAAAAAAAAAAAAAAAAAAAAAAAAAAAAAAAAAAAAAAAAAAAAAAAAAAAAAAAAAAAAAAAAAAAAAAAAAAAAAAAAAAAAAAAAAAAAAAAAAAAAAAAAAAAAAAAAAAAAAAAAAAAAAAAAAAAAAAAAAAAAAAAAAAAAAAAAAAAAAAAAAAAAAAAAAAAAAAAAAAAAAAAAAAAAAAAAAAAAAAAAAA//OExAAluRokAMJGcUhFhTOsIOseTxixnSWNoxWKxWKw2GBQKBQKBQKBQSE6MVk6NGBgYGAAAAiIiI7u7u7uIEBAAAEIiC3d3DgYeAAAAAAYeHh4eAAAAAAfXxw8AAAAAAw8PDw8AAAAAAw8PD3gAAAAAGHh4eHgAAAAAGHh4eHgAAAAAGHh4eH+AAAArmHh48Ad////5n/+w8uHngDgAA8/N84wp0DSQyASBwcW+BQcsNPNeYKw1cqwriuK2NxY//OExBwnC3IkANpGvXR4CiwJIiYmRNskpVhAKZuTgpCpvSSUKrxj3IXOPvLS3a60fFO1ajWbjaS6zbluSqtSGhgq2z0GiiSEq44bMzQruQyWAyhnFZRYQpSu5MG2u0XxkuXSco85z88/tTvaUaC2bjKi3upZmhtIdoMsCUSz2pEJjrRBB2YR3FvFVN9t1THCmORn8wuDS/7Em/gVtGytYtS2IXKeXy2Zs0lJcp6G9hVJiPCFPbHxCPyMNKYyD4gp//OExDIm4+IsAVwwAQl7N2Vyk/Iu7p5CvNVDF3Nrzvqd1bdj9dnvPf1NNWff4gqpe9bcbWvvdxn/Qyb/+WxlOVjN2iGttuKZsf/fPjPr34bMfeZES3e2b1meJ77bvr7GbH+tPx9iIzNLvvjPuMyD8IXMm7zW3dUL6dUMo+XX9Hjarv3lZoDbkUYaZBS55Bzh08WyWWZ/MDMiBcOlIdw55MDLfmqjQmyJm46yBkCL5ODHrs2sY8XGLLIiRhqOMkRz//OExEk37Dp0AY+YAMdwWgAZcgFiCAG/41BcBQMCcqcuCuixjBI4PTIOQBMUJq/5ZK4+BwLFlm5cJ8i5PlwxFaE6LjF0Vxgk0HyC/KxY6dtv5UL5NnDo55kYl8wMy4TiZcIoRYcRGFEcoahLDgJRAZstGZdHPHn///1mbummbpsXy/L8xN0i6Vzc6bmBoTpeJwgZYIIXSwUBzCfMDM8ozIgggbIsLTUOrlD67pa5njuO5mZm803K9k0n5+9upTtn//OExBwqc8qUAchgAfJv+U29qS9hhc8AiTjFcP5gcYnPThMqPSYPZEKIDLAXWqTNmtLVipWchamjNN2zbVS+d8saOF/rIW247pzwwOD+AS21z7R4ZOOMO0tzGXvzDEut7ejET69Dm0Tsd63i/6UzHM/5o7bs78vPbP/f6OXynZ+zs7efmjn05u09vfN/mXNZ2H5wICb+j8x9eWo2ncvSzuLRQRs9m9bWYzufNq0xe2c/43vMPcH1vvNb1rWu/aJe//OExCUuPCKQADPS3fLerHHsX9+T5ArCLTiliPn6uZXcKqiyVQBCi4KRJUoVJFYFDddTWoE0cJhU0dTTTgMFBShkSowuQER9s5dnU8EQWQ42DIgJ7XNEriKWpU0ukiW2pYnsYSVjCvJCpG3XasYy2K0OzKL7aXPeHWf5b5pMs+83/Nzz+x9fUP2oJTuSa0sj79e5XOMb6mbu1C2VYJyhAde8sdjBfBfa0jEBNRiCfcYl+VqWduVV9Pdr1LZ1/233//OExB8uswKMAMMeuZ9mfmuaxrJwyhSdPrL6wrWemXRyfnpeOw9T6FpBwWDyRSJTjM1Pn6CTguQkwYxDjIJcts7JdthTRs0xLXG3V4s0J+2w3GBFXD3b6aNFptUwXzuVlmjNbLmsR9Mt3fsM7bbx4+L2j6rreM+PrW60+Ytr1xvF9Zm364hyf219zCjot9DjqA2gYXslGvhY0MJZuRMH0kYZnuRolf50CZSyIwK6MIBmtBaODHxl5lZKkQp0CgiW//OExBctavqIANveuEMRTB9Mdqe+VHWkOLPW89ZXcWV1I2OEM2DUgoccy5Jw2uTJeFNM17+cSRILIz1T5XHCMxmgGWr0NLexOCjTBoKOh6sqevSFj1/9dW9sy0g596SvcQYMTeP8xd0g61LK9hOV4MmJY+o8bT+SK32fQIcjx7urdnckfMSfG87j5u5V3EpGliyf/+usb14VhVj//vF7TEWS4pUyyLWic4TbWqdnBnpcJXAqFm7/ZkgKWBg3CMBR//OExBQsGsaIAN4euJlUCAwrQJ2Pbi7c5cdytK5Varwf2VzucF56lvLj325JfnF4PK3ordfrusjlcxQ4ySEaxppQzibYG0KBHWexuChqfQ9YLBYO8iVcjxPFIc4WTSShaV0SFO1brfG8f7/+//bef9/GP8Zr9Wt84tvdGvU+GDyUxmlqW3jWKxYNc117bt5LYtWuu9y/mQ7CtljzTCVyBe3//sf+uN1t/TWGlVTBZEHHKdYt8EyeFAI3WPQnSYzU//OExBYnqrKQANvauHR4CRsDgSBFE4vRD4OThn0iImi4TLsf6eDMNUesAgEMJwSfQYYtCpArDMP5lL2/LccBbEymRlItDiYnA1qhLH6S1Nq4hQyBYCTjeE2DlnQb4TwoA6kyWJJIlj60W9f////q9lrqOWRQZaa1FxdFTpomBxzNBlu6DIpqZNfl5jIfRS/t/////+5KoG7mAOplYCjIZO+AYUYmZ85x5ZxtU8EAbAAKCxokAW2mEncIun4sSQCM//OExComglqUAN4auKpNYdc8sEbwkaRha9JF9FMYccZaT/UrKbt99a/XalXWI2HwW5OQA78XjtLuazp5rmI4VJj2QJEWxWFeNpqJ9TJZBAun1m6ZcX///+p1v/qWtlGTu6KCCSkGQemgbAmECh0s5F51ajxUWiv/////V+nkXAhSCvd5QCWh1InUSMiQpKAGizhoQEtYENA8CJymGDpMjsDErGmjNZWuQtnCEXIMuYFDlxnmRSpWGp8S99X8pI1V//OExEMmUmaQAN5auM6WL6rQ/jEZRNPtyJO84keSqdGG7z9y2OS3cpKZkWlAkhPzEgi2FETEYg9DxSLiJIMSRNJ50mIOter//7d2Qb629HdmMkkkmWcZzE+oIBUfo/VQp6f6KqWeQdA5UmSYe+hDisQwVUBQ8WBU0dpNOCSELM9KisUR4MQNksQaNMmKUyAgQrfF7wUeP43gtcpcJ7oIQVhLWHvzmn9sSyBrUTvYVaavTxW7JLVPLrN94FBnClLl//OExFwmGmaMAN6UuEfgyXTVk4eC8aisIkaCECuCCIULbiAJRMGg+IDR8TFjjDTv//9G+yo//+xxw/NjyXHBsTKRDIVJH2f2OXVyUJxnFUcOAPma43oIwIJGBK63jB0E4YHLQmFoJtRaCg0HAxlAKOgjBSUDRAmNVXGmKgJomIsQdF+YdpmuzjYHeuSuM5yq/bwt5Rqmm+bp4zVtYYXZ2cypNUEdljY5LKhXJ2Gw9ImUYEwXwmhfAdAvHBChaFoh//OExHYlooKEAN6UuB0fEBqmbP//1N/a3/oinpLzxWJnIS5Ee09HTKPv/PFpJXnAQENQ3gwUCDC4vOQjIxGBAIkjFYoCAQZuKJj4LiMJmGBSYYApgUJmKhCJAwx8j5eHQzj0OM5CQWiKB4aflaj1tJl1C+r/SGFRWITcRjErgnCngb6CXUkQn5uMzEklNPA0UynplurWJS3gREkW0wzMUDYBYPRBARCGQImyKnCRi2jub0bieEmK/////54+Eess//OExJInukp0AOZQuGQzWTnRK48RQl/3f9JmQwCZhNUKUoygJn2GRc8xpH8aDUEioYQgm1swGCUiA8uaAgsbQQg0nHPHEzbuwkg04uzAsFESJ5enZxQqTrzf+ozelXjy++0udGH5U41d9mSSVs03PMkkrKIdblONgWCXovtKGEgO4LoikLRW3YOaQIhkiZ3IUcYcz9MmK8PIexzHX//3f83LituhIiDUEad1lB7LQ/AYsseP/////+NqZSQhEZlS//OExKYn0lZkAO4QuAGIYGGCqZmRgbBALmPxOjQTmAYCjSXDIAGEAQEwDJoGBAEq8TqX88AIDCEji9Jfctc0QdEma4KXV1LdiTwL9rLzZdDEJtwQxGA4Fi0ka68bhQy9apmZvM1lo6ul2IoKSUHZ66s5DNCSyyV1dxfRUz8JDHhMW0qa11Sb3W3Dbss2///5////3Ztv9zg4hAUa+YF+f+npcUkQBgAAs23sTAQHMr3k0cAgcHzSKSR3MIjUzGDl//OExLknOjpkAO4MuUocQ2KIfIDk/yUCt+hgtdeZc9NVVNWEhEFQkwZfIWiNmeZt22cikk7/wM8eUJfiLOnKJY0x+X8d+RqwOqtCB1a0Jau1H3/wf2V53xV2IooyEQ0+6GFBUOI0rMpkdXoisypJfX//QuYQBEIHhguXOLbNhliLXfR/0gSHRgOOJjRJxiaIJhPepgGIYYEJpwJoOFkyUK4xLAIwBEmWtxBwBJVBwGA4CmWg8SAoSC9wYMDZckGi//OExM8k+jpoAOYKuBBEJWB+mgS4mwJcEQg56fSn1yKVJjsUToWDT9bG5K7GBppo2IdEG37Cw0GgagEJL1FNi/BcxDNjDW5dEqtzil/qsy/UfSq+dP3h0QgPqkNXj8CzW+9ZEvlJc/g9qde/cm19zeyZnqTdkyLRWIcRAoZDL8aeR2SU/+cpBLMfOjV2SPFFdymsOpp13PkQWBwiz+ra9FVPoweLA40RUwqEw2QV4xPBAxXKsyWAUwDFcOI1eBgo//OExO4zioJcAO4YuAhBLSYoFASQuSkD1LqU3dAhOsVNRB5chflHVAM2da7DWqyF01cuK7jBmvOjE4dbu6LmtQd5rEuY0wlVFV6UJfFD4dMieuVWFtodlFLcwklOkWL1HM24fHwnBCPRLW3n1W4wqs6lu3KhkM9e/Xr/+4pq2iRMljbTiUyyiRSNSv5LU2pYyWAgDNJleos8Wl//9c83/+owMCEwfYQ4JL0w/GQ4vVswkDIzoPNRgKluCiFeUxSA//OExNIswnZgAO4SuHHACJgEgomCYs+YQgmtYRIEIDIQFCQwLtOgmE0xQVajar6WoyBvW5Ow7MQa63jqvxFYw+D6vpKWcSVZkdWq2BVynSW4kBO1kjcXzrbtY4TwjSg0kj1uB9qNK1ceSqhsSjKBeRdi7QTcnG7itW/5dx2VS37/8hbSh9WCz08akiuVRQIXEqqt1GV7b5bJQWFhZdPtbrXf/6f1qi7ph0zH7ygZRiJ4FDGJQUbnFRi0SmCCUJAg//OExNItypJYAO4SuFUCASCZbGphEQmFwOY1KoGN4YH0WWCpfIviQy85EN13PUDgdFd1wy6RZxSX7U0cGJ2o7Ttfh99qRlchfePy6B2QQwsIz1r7MazWWWLRZpLFN6CT4xsNtkx5hGjXE+FBIQD59UeFIiEoOBEuJ0QrRhcnOj9IHbBKdL4xV1devXq/sP/X8pS9507nPMuuQQQQ7GTpubva+jH5mOPACzr4O5fAAfHvh/8ESD3jDv////IEAN+G//OExM0zgoJgAOYSuaSdQ5nlxOAJGDzmGAMxeVgEMTPAyAIYMykgwMJDKKMMNAsx8uDGxpMkOYzsBwxAZ48ZNQcgAYNIDpqkzBlVATWGCIECApjypseJmRJv/ppxAhJhgBUo0PHQ48PVRZk4AKGOOHD08EyFIgQQttbqG6fxMRS0Lqv8FRKR5hQ7BQEURiVYhWrOl2XPacsGytgaSasq1nVUwfQMASFbybDCE8AoJTECEEAV5jgmuF3FMFmTzTYP//OExLJG42ZkAOawvIU/HK/Ibl9unxl9ebd+3fvXLee+8w/n///////zv9q4XZZRReQ+0B2nxjz8x2nn6S3dywqcv81fpbVyYeCTVNTu6CkzmJiHJ3O5u3v+Z3e44ZYfljrHme/yq27uW7ncLxWGU/5YXOhocYqDAqagNaGE84RgBw6ZcAtMMPG08TAjUOFxGPg40MRZgcYGCtRk5eYQueKAWsMUfMaGBVNkhgTBQQGj5jBAVPCyUyBwz69RYz40//OExEk4WtJ8AN6euLSjgNCJb7FGNMRYqsdmbMZS5a5WyRh3FYmvxOKsGdd8GlQmVJ3siTkSChlOIKtcPxaS/kyXiGxzPbSvUAf7c3lIH4Xknwl2YF7yMxSx0IE2JLLVE3HzO9mhPptSxd11vdfr7/////////xmBSRhWi5uozi/brRcZzuu9/WNxp/t/dweY8e6BODRANq+aEIZNAi5riagx/+1FYaFC5imRfkKdwMvMGGaqnqOjQMPEIwtqYgm//OExBor4maMANZauCNIF1gGQnbSH5AaoZpsjiQwMKFl6RgJeIIMATqMpvgNyAjQcstlODNgEZaTSO07dPBEnhqOxGORClnpVEo9Gbtqri41ZvrySjft3GCTC8lISUYMvDILwwQ6DJEzJQRsSUTAbw5YYhBBMRLBkDcPMgrJMuDscwTpInXvZ7e37d//9aknTUaLN3DDTmojmyrhyS5B3/o+taZkJLlDi5AJMMuR8QyLZtWWgDiZgQAcTFihhipk//OExB0oQmaUANZWuJEIyBjQmKwBDC+0WJkgsLStNVtRzCxL+mYQY4yZCqLawBSxSPxm3MU0osVJifu272NFzCduymmrSqxOw1BT9MdBJNANjuNB3lRPSKR8NTQdg7SFHsPQgw+AijsHUaqBAeFhOqVmzDM6YmkMfst0/////3/////1Ck0fNICwkFLdVi12E6V2gBvEzS826FGGJP8CiK/mZBioOAhQeLTAciM2wC1xE6EIhEIsUmMHLFDgCFAR//OExC8ownqMANZauWNMBjqCBPUqgtqXGXlZb6CvhMdykc1al9zlzeV3DK7hjTV78Zwp35wdB7ol4K8SZICVHR/GSkTiFMh5oONBmSogo9hwheROhjBayQHsI0PU2LxdMTxToqXV/q129v/9GkfTLpgsxNnY868z4Gqj87BGlXvovSMCDp4SgNAjxGBjgcQPqIwADH7D0MTDhkWBy6xiJ0YqGooGuwX+NLZWWVFhqbFmgqQII3JBlW6SQ01+doI1//OExD8qOs6IAN4auCH86SrjWt1alu1fpa+O+Y8prmt3r9ulr0IxiEPMOpuOpNHiVqHsfNzI2MESVlwYxTRHEOpUJaF9TJhkko2P0W/6kNvsn//rqRQTNkzcf00jp40UXjBExZzU8yRkgtF01stI2ndP/eUlNVDBp5cw59lGlR/0OBgwnGpkQAY8XySHhkQd1DIw86OkEeJr6fKQcbCwEMAKTcmGxYCwdlKYsFS1wZHAlymm8qamosaW5b3Zrcq9//OExEkoEpqAAN6SuLGWW9Zd5zG5T7SFSiQIkQcJUiNWMkSVoHzQnKCxOcKEyRtXI//P///6+/xWSnK99X///////v1W2RkkOtGH5JDbKHIponyRAyRJtPCIGmrd93AAiQxpWmpnq2gqAzmF3MPhlMAGhoyWLEB8NrsMKgJgtOzGo8hdMOWUagdZCYVeMA0gBJPK4RkzA67TRQwGdxglgtn/7vUu3+qbX953VrL92e/Wx/+Z7rRrKq+z+0fcf/gg//OExFsmU0JkAOZUvEcISQL45x85QWgkiFHpYRT5rU/0S2QlBsYTZvX/ocaeSqaaRCKGxUesdNNZEc0iOIxZLKYPl////0841FJTamnmBguYtVh5n3G/RkYsAph0MGBBCHBmiVREgCgKV9DqPSFQoA0hzgdyYS4Swq2I8uqq+qhhnApdEmVNOr1aC1c7f1lu1zuNXHmW9bx5l3fPyyv/rL7Viepnai28Md8Gh0rRI0PFYsSdjG/Q3lZH+pDG6s62//OExHQm60JAAOYKvNLvQPPM7IAzsrL1RENqXu5bff//1qQyuilHbISGUCibb73a3HvftLUxQXMNEgojnOTZRsjwU0hH6U2n95N0EPUkEQ3DbFApwpSaAsh1P0ScN4LK9hXg4apKxawfiNnTzWYUfU97WraXVq2zNI7KsASAlgp1uxhmjNggIUtkwT58NNfL/VxPm235Z6l8Y1ymeRPs1cKWVQ6wUF4FY3Nmf7/0+LOFJbhWHlQIpUdYlzdeze7C//OExIslwpIgANvGua8JKxZ/hX726/phvTNAROACApgRJE9eBiLHYEvRu3jLotNRCDa9WafYTQpcQmWI3nU6E0+fY5CtfSXdZo2yv6GF967bx0v98/Q8igZhrfb+mpVxG/7C+dgT0gtet7T/25giuHthC+k6EikgouxlZGdD2sg4admuYVSOlcMrmWwvQoDOBge5P1ZlfpJTI8m1i9QmN5B7efw8SUz2PJr61rAx5Lxv5ClWZGC26toNFNZ1KGIq//OExKcn7BoMANMG3QsIf+HZjCeh6gtUuf2JBI6WWDY4oRkSUkkUERHHujJAbTinOZa2ahBqD7WvPU5pkqaDGnNL6qlNtnIdhqMnKZdbkpWxAKoGb9GcwyowJpbnexTS5xR5UhK9PmRNUZWMlhhc0Cg3kFLhhT5mbIqLDdzUdqhkpo/J09fJ9ieEz0RWMva2laWWQ834Zj+kPnQtDUNqkxcEK4ENXce5a/WGP6prV2W37Ev3aVRrFiTZr8Ln7H3M//OExLonBAIIAMpG3azBYUxuaNh6xCiTjOc0TVxEy7slqE5SbLknq76SZWa3CKKBvMuaTWIMTpoe4wsMrmYLcPCYyQyJ5gkcWHQEakfEedOh+FaGcdsQJXZydlo6fQowgqooRmfaolwcQ4z+U8G6iIlI2yOoKNYJcNgsiD8iuTAujQQm4MjafWmxEm7HbBopAY73zXL+d/Oz+dnVNhjP1twjBfTM0xkuzjEB98WmbwkkySrFUT1jzdM41r5ylNmo//OExNEn9Dn8ANJG3J1RpxUfdk0Bkq2a3WGI7IjpTMqF8pXUY/wlcPtZVbQS/yrjEbaWEN+tCY2te3J/sp3Z9kzcld071mR3ibJmIbrNu0+nZ8irdG/njdZC0TUovy+xFU3U914ue/fuzaae9vu6zRva/kTz7qE/7q9KwgZaZBBVR80PvOF06WigeNFl3NRi0YrFhwt1UVmLy84kPTI3Yuduy+xZaVE7wlnlOWMmVDy7cFzkrxF1tX77sFKM0s1x//OExOQn9C38ANJM3UjyyNEuxp+zKJhyJjrMRNBR3HjiOPuGiFhPg1BqVO3AgnUyDIZjey9oIplEHnerGBL13hrM2pljf8hISQwtiiRkZWFm1ilsMLljok43XpM/6TQIfXx1qwnFo84W5DDj7Q6ckogskhqcx80rGyh0Hwe7JWhVKXGefeY7xtaxsVbtHS51K+7N3UDpE/gjOCVlA8W40kspQUTJxI0ISiFbMaTPFoo0ZXXao0TQDADNvJ0Je6aH//OExPctzDX0AKMM3KLh02uZbYbREs0GrsIUxB5mIzxJ6gNLupOEGOtMGJUmkTnUsCHwomXbk9J0Vz3lZRqSbAssi5ADYLOUvcOOvQ1o4jel0cfTmUUetI+MJMaN7U1306hkCM7stdBMbMcqbLdBGos9PLT2i1RdnrvGOSok91Cus6kqvFUpOYcqXcd6z7uYs0lnU3XtXNcQ4mjVtFCZWJGLlTUBUdiXWIy9JzssPoFFkJIcYH7abchIVjeoEJmZ//OExPIt9Bn0ANJM3fbVeo022fUWxJlmZHGaSqikmCFDyIfUCQ4wHEkj0Jo5SnOicQzLqbWdLNhOv8ZTAfFo4+1j48NIUeTKSQZhMd4QW5BEp+qm3WdIozTytC8xoH2eQw13VyWGu+qOm7NsvI+UUhp31qfe6TSf4Tjsz47U6rLQb8/GnEC1FxLoPxUpb/8r1eXqtyhz5W59ap9nWXWiJiLZIQL2RrpKJ2wJitBcMLrahJiBGocOOTi44Ys+Qom5//OExO0s5Dn4ANJM3KZ50EiPbiiQzqCrDR/ECxp82FFtHxDRu5Zs4ESPXrzu5aq2rbKuQgjhkdx8/5N/YYqjrfCXUjDZXGTEppY+oujG4OW1rZXXrajaAlU9OevKexnOo0ijVYtbLLHRqRu3Mt3OKzOSjCGzY1pet6sZbB2py2M8fm1d4tWx18KcIicjBo4exm8QxzSsph8Cc5MEQiiMEQMVBc6ALJgiAbrhUFhABsi6Xx9lqOAEAXg0HyqTkIWQ//OExOwtfDn4AVpIAC0hzhaznBNAzSI67MtQoUPoQApBJzYOAZAQwhhtQ0TCTkOcYwaAh5gliDUAPcU5icKFyST9SqVcw3hgCevwyxXDpG0EMCNCkJ4hhYkKb3sfEV1TEZnJQuBhoeFeeitOEt7tdmOPdPKlnJfRn09Z4sFhs+ado95RTxzYHAixsmsJgZjIqkKJEfsMkx2tVkuK9AYbwIjXEzZtguNmCSQoSxhKxJDvGaWMlBdi+ljJGumUhDku//OExOlPBDn4AZ14AFQytxfkcdbiikQZJ/mSYDo02ZhurH1HDMbTud/Jht9H0zg4lwVylLGfKKVBeDfu5qxEKhtc1WmCwSONEXFR7KTEx4T5piK081UyKBC1Grz/YFA7EWjMH3AxUERYPgURqAshTRUKQ4y5OZel5kUKZTKnJdqtBjyLziTszZyHq0gDMfRzPXHQPEmt0EnB6Wjc99o7EuSmdSW/Lt052v0pF1LpWYbZPUjETjJbPF9YURi59Hil//OExGA4FCoMAdxgARo3THVCCoV43Lp/RkyVRLlTZNo2vTHbB5vG3rz46UXdxU62lPYlyyKBI9aOu1WF9qks4ofa/YdhOmnFqaCNqBi/mG1W5bOs4pmab7TOqqXeX5bHIL8zVplljHm1TU2ijtBeDGEPbwW9x6t7a45kEqWFu0d/FLK+sTDdPmJ7WZEiKjhhqP2WEAAMw2AzBQDQWUyh2nvlyGaQ4678Nwd9j0SdKGo1G30gRrE+cHB0joLUiQsF//OExDI0fAoQAVxgAWHpOP663OYwyjU0aTnMUK+p5EVjhcYFFpe2VVrsTyuOtWqOKXL1oywyhJk16wY+hUvSKOiZjObuwsg69Wz2tIXcSr7vp24XenUtVd0f1WMKIeow1jq+GvS2rs57deit9KU6s9+1+0GzXptTmP/GFtq9loVizZbvBlaO0Q6fFWlmX9+NZBAfvO0gzKY/8dOy1YW46KpyLIVDleaYEASvkCENbd4qJSEJZJCa/aSHDjRIlbdy//OExBMsLDZMAZmgAIZeYI7zIIpmhdJ8OkFzgGAu5fVLgGLAAapgBJYBmgDexum6ACRoWthugMMAHTulsm71iSE+QQdw7CbVUizaba5BBlCIFd1G3/7u/Y3TKZPlwuF8LqKq9N9663RqQQ3LpgNsqEXNS+XzEv1L/3/a2y7f6ZuXDUvlgghPnXFaDsJ9AWZ9WvVW9//v/X/JAnDBBCgfPGZ1JZ03NDI1PqLiKh6rU44rRpHQ3mKnrB0NKca1SwJ5//OExBUq2zp4Ac94AGox/INrRR+klYYqfFhEUMAVgbAPAGOUq6QxdhqgTJcC3Isu5D20YCNNNpgKysShpz0pDdQW7TbCl1H9Nv5NywK3xSPuJr2+N7rbN/rH+YsTfhXzW8LWL6viPXGZK0zS/8POKxosLGZL4x74+Pnf//xr/X//p/jH3749d4+LWrq1vCz9bzu3x6TzZSVYtDvTJ2dDexuYwrVogoAHihu7ZyVZo3J18J0U5iypwpBwDQOKJCQK//OExBwtutp8ANYWuJpsnm3LeSVrve+SsrgexKHDht92VwC2jaSBUhcNXUrC5VfqcOGiUvRrzzpvrDtXk7Q3milWUwXN2tT9ykhunjr705IJrgSAJzMQwJxm5MvQM7s+mdRbV/Tr/j51ateqOxcXM9RHy3ZGgad1K3b2/xfaZ6U39b57uZfbX7LOMNz7JtkUxOwdOKGNYWJVu1b8jgVJ2RptvPsOIXVWiDrACIE4YUCxBTnYigjDzBIU9wNDBEGD//OExBgt0t6IAN4auEjTdd1Eqqoff3RL2la85y7K2XStYOSTcXZLGEyIgxsLlHoqKgFY9B22ho5O2hzbkpmXvT4XOpupNwIdnn3a3LYbkUuzdOBX/GWFxMxmDnDvCvESFzJ4iRMy8PJArppopqev//rqqq19VJlp1lM8mb01sigiXzhq5lTJh0l0Fmxso6lX3U0wWxqbmJePE0oOYEY+VmxohNH///8hHWOr5aqrJDAqIi701wUqiW/gZMFAr1Yk//OExBMnGtaQAN4UuAoHGgCoOBEufxZlJVUysXnQsUjTeROJavNWfRcjivWIRw5FBx6kXBTvaDLHIYtFWUwNiMHXq8xfaLYvpR0sV3XlXatg00L0seF0Ti8akIqgpH5QTrEyrpt/9/2/T+rKVZFNUw52OHxCxCYdMMdmVDlZH2otLmEpp5ZiZTiZxqf///+m0i8eVe7yFXBFQEYCyBiUEEIEMYzgysEDC4sNLmgwcAwADzHATFgrAsHmUdwOpCQZ//OExCknCUqAAOPelKFyhKfFJaDefqICRZkmLj34cItohRCmFsNJhTsB6XZHORRDGdjKFEfoS8YqKIyxoc42fVmlZYl4tN3rWt06y1evjT3AqZeqpdDxCTilpPFCwOtrFAMWBUFSw5gTGFQSnQwVEx5JUFQaPf//+39yn+68NISqeFnhhPKhlUBhggC5g+Ihq4Hg4BZgoS5jiH4oBRKB2KKCE0BBG8ywgYhloiGrilusspHKTrY/DBaNXayGxwM1//OExD8mMqp0AO4KuMUAhETcCQRGYpYjhLoawo4eiUieZw2AuQzeVr+nL/f5VyqCMpWPnMcTA40ljEaR2ujzSrlkueyulXe33orWiIkktiuRiJdLujZmLRM5sfR///+uhLP9N7d2NqZ0QbaGKkNKXEACSoIkiYgzJ2vGAEAy4Aes0LDWEgUVBn4+4bTJuAkAEJYCjm68AtCi7Y0xlPNISwges6sj05Ljxl9mcNCSQxkXoF1OdCGJMqB6F2qidxla//OExFkjAXaQAN5elGm5tbO/V8sZQJNHoY2qOE1IY9hIY42YJqQ5xr/sX+2xQBEB4WFQtWXaD9xpPrKSBTUcFpU/JgKAcuGq+lJnZFYa8YiOurEguTFDQ8JKfAZlSARBTEh+0JFuXBGmVzbEU4644uJOmQBA6IUh8NfjcqUqhzFjVnKNL8pHCgvUSeTuCicDyhAjA9eSPPalMPGY+iYIGQWodDIG8NpMFkHPWsFgSBgMCbFQno8ESqyn/+rV/3/6//OExIAmMmKYAN4aufXpPVTU1Z5EvGqMKkC0vT7/u/ZtrA6Gq/Ku6AFITmx5NeWGjEsllphQ2NA8EjokPSDyiKYdse3jdjOD2PSoEkGaaFApMHhMpJl7ruiERHcb0VWoaUytqz8oKUIsQYpC9SK3yvSf0s23a9g2Nk1d4wyEIsr4pMWQ58iVLjVYLVpHXsZM+ltl0oTuJNDtZR23hTYf31I+0LDnrIhQYLOALWDxK08hewtbkhRJaaU//6lVhlpQ//OExJolmX6UAN6wlFDs4Y+T5eo0U2jDGTDlRIpjhhYSEWskJS44cKb6MGORDVOSoqtrLAkTW0/RCBEXgNMF7IsRADYMgayHhw21RUs1K005+fcVf95bTeVI4gPebpWVB04nk2lRYKHK0dC+HjgXpFAG8VHxBRksSQrGhcCdObCWm6Ji6Kl//vpa9TWS/Q1oquySbnloqeg6Xqo///+p+1FJajNQjcZ//W+ljEbMCLj5HtpCqhvSygYt42cCFkEa//OExLYoMvqQAN5auBc1CZNCAVpGacaKjPbZjLoiQOjrIKRsKlWTDTOLpLRlDw80gVoO4FvmRmSsutwjJIg2le1k1hnwcKMvUnFDrPU3FxsgM6HPlLxl8a7xMflunphNOwGT4RqrLIZYLSX+WeRmQ5Za72qGAysCVtMPMLbUhLyzxRUsPI/Kpazd/4TrO9WjsQhn/+hVYsqYKlHBkaPQIADO08yktX+DBwyQmMMCC7xf+Vmccpf0MUZpsRBD6eP0//OExMgnQXKEAN5wlD4JgHJANAnZK2cGk1JguIEmIGvi7ibofKz0Nl5mThYYHaABMrljx7iPD8tLTtc6cIB/3WjoohP1RdYML3mlH9yEKCAHzgNh4QDUAQWc+GUmTRht1eycvKE7CfxQbBD/+uvTu93+i+fk1Y0KgAOBpoV4GNAGkeMtUz+PFaTBY0ODrEFARPRVceE7yNxBwYfl9UdSsAvpInJb6DEOKl0EQMrO20sQ+QksiQ2EZaAoYGMVoj5N//OExN4k0XaAANvYlJNGiwEIsOtalSAZHCkx4oy5wS9DI1djgLNmCOg15/Krw34xJKsvyeOSQ5Bklo5xojtOBcZo7dHDdS9vWf7/55kdS9FOU1VnZ2ehFldUABYTDo8g8pyny1SkiKYk52smt66oqMQhRgq5RRDhMVF7iCz///+/S2/53b3pX/9nQZFnxZgw0AUHM2t0u3tMAdU6GwCIVNyRzSQFThkY0N3W7Fwkg+QC5UtyUWg7B9WURX27OXp9//OExP0ytB6AAOZK3ZU8HRl4izbhF7grKTTvu05PCLJEP0JtTnSeSOOUL0DmcxKiFoGIrSbxpHJGSKpAR5GI4JHaNyuWYWhxbSUOorF2kFe4gsgWcp3vGigTeMJEIgxQ5S1wus2tr3qEaRpQ6B3K//oqFr3//tfcpaB2xUJGDrMXMe4wgVzdQcRwBoaMbcwzWEkBrIzGgYhErZ6LEvKDQoD2h4KLIL39y9UFuSAo6E1xwdLm/LwpcoRLgRObWRQi//OExOUnYWqQAN5elKPDtQsRm3UAMM0g0LEm2W1q8BFoNvu6hRLKFRVJOtEU3W/kiRxdSBYugjht81VgUv2VKPgoTFaReOYrMCYZO9r4fp/m/GnwU1Ygj4Yt+SIu0mZaUqSTFMg91Q/ZiKqoKPtoMoo4glTTxjc0QkQ7qaXdD6UasSSJQ0XTSSl1////////dTNSj888XGlx3/////9TxxA61bMaRtNjgxoxaeBCo0gpaQKABhP0ERDW+GFhdJmw//OExPo3FDqAAOZQ3AGis7ilDQuV1Ms8parT26OA2vgEeD3SEpyQNOrKCPW4eksinSWVhk4Z+KA0h24AJQmn0mT/Xu13Yo+EeLEgRwe2N42E4BWjCKolYqR8kRAUqF8ao3jYwL5adjXvo61Jzp6pHWrtr5sucRUiboqWvQT2nTNqkcwTZZ9qZlUgm02etWz3R55jc6eRWdT///7f/WPmlaadaEc0IkRMwUElxzoK66mpsI8NjqrndMKDMekgIt7W//OExNAr0waQAN5iuIudLPpEWaLFlbQdeQAX/ZARDfBIKHX7YCpp7qKbu+IjkkpmoIDZNGkOwlbLOl5s8Ygr2xVette5CbDdMZQUskPkScT6ZCFwPgbZNCWCfjE1GNZJQ7WdL9XX2pK6PbVqV6bonTW6qdbpOo8pSzam7rTMac1SQOKoMhWy6nzZnTn1uZmqIMPd/9n/3/6kTKrnIFN5dGuNlMJOTmwSLF5wZ0gpdjyCAuTOVU0oGpGAF2ZBNu1F//OExNMrSv6MAN5iuHF9FNZy7Gk6ZmJrPlylaAMOasIAFGjrFHfZIl1jARaQeUrsLhBLF2u2761ZBVh6zUi7u0k5GxyoD0I5MEYEHBXRJxGgPUZA9CUHM5fJheMDEnGho//1aTVr//6p43TOnErtQZbrrWtS0V3d0DiT1VKWulseTdZi87danmqlGlf///R3fnp5VUxBTZa8wAJj3jsFDpVIjjmIHKyZZiBGcmhCwGzgoBpdLy96GsAIBtgRBcUo//OExNgq2vKQAN4auGglAvxDyPNUfoX6dDaDNAfJeShJYWInwF4u5cYyFF9FxRyBI0SeM7uhsjNJGliahRlNODaSjUeDg2EssA6FKBSIAvhADorD4epu5v/7b///0Z6P/p9rps53mrN+lz/lC6v0f/+z/lGaZGY62RjEXmFwQas1Bq8hmCg8YqLR9F5AZjDobMnhgaAQjBoXBQsBzBoRFQCYcBRhoJA0Epkm4UPTBmIBqRUMsweKGRDRKEjpxdyV//OExNwj8tKMANvUuNTTLLcoy5Nyq0mV8bE/cIUaYstaPyKW61Vs6xvc1fxppdnhKqmcZilNNxWXSJ96LUR3yZxxta/n68iVVK1ql9dP9TKosS01bI12udWcdBSOMjxhS9pVkFBgI0cqAS+uun/////26t7O11dphjBjTxrG7066UXAATGF9pGCgiAEaze2rjEkJhw4jNqBxpTjDcjTIUZAgDhUCwgFklAIFIqApg0DBi+AZgAAbCgBFEhWxLdWl//OExP8v++ZwAOZE3bm/EIfWOaiPLtqitZ2PtWsZTetzMVo2QyBxatnGtrPC1nhz+0usquPblHYpt2pV2Uw7b5eo/pM+4/+H7YjIpjMbsyttTnsrVBDuY5hjs4sMxjEUhwFEZznYgdkATHdmOQkRHAQQIxLadrznSqf///2npSmjM2qnsqwwGPJlbmjKS+AgcmxrEg5TTDgPjyZRTHAODKiijPkbigiTIoUBYV4cMFwEQlmA4XBUCV0nZXGPGIQy//OExPIvo9pkAO4E3GceRRV/lhaeGMvm5bZpZv+18b2O8KSrlZuVcsYxWv3LXzXLuPz/MPzmKhJaaCTaRQkQWFhY6WiGi4en5+Pn/v/+OJ+o167uInhFuPu5Qkdws7ETiPVXIhQNfMW1mqdK9qu74iTTx4Z/6XODdsIIF5QVv2xRhWpZpgmEZ0YMZimEJgRDxpIM5gkKByC3BpwRBhcOxkcCa/gSITvgACQcapg0ApgOBphmBZcNY7fj0htivGyg//OExOYqEv5gAO6QuNjTlU8yKnMn1usHfh6241ar3i6anrmuXVpNwYNN2lxXFpayUa6xYbzEqjkeWzrMa81bat/s0TKzj7uPn3irb4i9pe7yaMMUUMGDLpeWu3595KQkpSE2Z4NPgJ3Ug4XUZDjyZmuPbXrrf//+viOqmeqS/X5mLuv///q4yyPe7f3VSdMFBgNDZ8M4AYMXxwOc0ZMYQJMmHPN7B0MHxeJByQsSyDgeSLMKQIMHRbf0qEMaR6ci//OExPAvK+pYAOvQ3WntJfR55U2sYnYOtSu9ldqbywy1hbufes7p+VM7u7VqYyr7s4dv4a7lhnX3vuN78NaElUL1K1U/xKuTEXCdsic3/fKx11OlvduZY13exQwatnIOd2RUcyhhgubJ0kMIzCcPBECxYwZZo1JHzXPKNVzr6/f/8fvFc9NCPJBN553Pn10+rb2tO6rxLVGBQUmZMCmIgjmDIMmei0ExCgYARbiR4pjAkEjDIGgYAZgkCKm8pAoN//OExOYu83pgAO4QvQMBUAGTqhjCFFajCEFeMzbI9sFw83OHIzSWql/DeedNEL17eVLD9epNyLLlS/SY58wvfhq/zQrGmcFYSFk6PViPez66dLtt/+iyKscIKlnORxOg1kURF1AQQEGHjB6IsqusCjhYODxUekHDDyBUsYeZf+wdqqpMtKZRB9APi6LGrsWqZ4BQuaK3px0NjgXNjx02ACIeNzpsMUynQAFLOoDSSgaOIiuyYZKcBGLEC7xgkIoI//OExN0rCq5sAO6KuBwODk7M90yAsChUN13vPKHHgaKROmfRWxfjwAEHFn9Tjp3JlFFSZ5YXu/nuvyretbCZiGQAgHHjDMK3Q5hRGkS99+SXp+73XosykZxQqvW7sS52OOGigqQXH0EUiTCbMNcjCpQHFYmWEJJn/9f7Eemu7aWvQqoCAcwmKjZEaOihgcHpGRDSRpMWEc18jzMo8RrCDVQEADYM9rFmnRNsrquQgGV0zlrQ4MssaSApSgRpQArK//OExOMpUrZwAOaKuB7SGqFzEKkMxpqxFdFkRIoNA0qNlqViPw8cOLolOUQuQugrWpunu0kxP0iqCQCRFgQYDtSMgonDu/Kcrd99A9Z5UE+r37Ki9yfT1X/7VMHWjM+nptdHGJGyV7xve84VMGwCMNWLQsY7nfiDNVtSA21MeUsVMJ+NRUgwAAsCCMDNqNLjUMBAWMC2oNyjsMAgtMgTFMzhUMBAFMGhUJhMGAQCAjCwGjIHMCgWKp1K5RNXsyMv//OExPAtgnJkAOYMuOus1lpD1U7ysckUQa41R513vUQgoAyZcWUNNM4HhQ0MLGgFjIzkzCm7hotEhSOJasaSM5g1gCyhcBV8LdVg8GRFp7SF6LoRnL9J0hcVJtU6VcNrgpIlSQzMZU85TPxD8bfzKRkNMZaYC/rDS5PYCqYnzeqU92GzA+XblF3AT8isYGSDajAqMSRr1ePIyGNDSf5/G0AlmwVY/4eC4RG40FafyMT7Uq5Ks8BTuUCY+RD4Sncl//OExO1OnCpcAO5e3ZQ923vHF+pFyrlk64neUiQKxnU7e1ZfskeNNeDGkh+I50iuLO2NsJUVhMj56zsDXZUM8JyYHHbBLDnn3AzulvSaWkfDbGkY8WdZj3BytYeQdBmoNhDMHAkGOgjtphACCIwmOBi0ghBQJAb9RNGO/Ek1OUSZkxLWSY0r30tNI/yfqcpnJkelstDpQQOX6R6FbX2c5ctPPNlvQ60STsqWCcuCElk92cpTixVPBoQOteGy9bN4//OExGU6c+J0AOZW3C0BjiKPqCMkKoKOz7QEs3fxWx9jn5a5/N87oZXNRd1xT7OPeTz5qSFNy7yZbVCSIF5OslG0k4dxoPwgTAE0dIfQQQRDho+3nbOnViSecbHi4bjA8GQ9jqKUDM6+H9SxtS2Uou4/2/////XxcHraw3WYp8RxcvRoxNGIw+KtCOQfO3lBRykdCwUDpg2aGUwyWrMHNQyyo2SEQUM7glMYtOYRAU7EkfMayu+xlwpbWgKlwbvY//OExC4uq758AOYO3Ox2zhVgXCvLqz1t0rPSWBMjS9J4sTbI1Grx0f1EJPBD6SeYfRoUrRNDgW17s8fZp6tj2tBZm6stQFw6xFyaKmoMprLn8y/W/56dE7fnWechd0OJOY6FzVkzzJAsYjGGMIw8JSBYSCRhpxUmqnz2cpPMUXjQPEgmLmX9f/////0dLbUfOWw+cBwoss93QhkEI1CKEE3faQIV0dZFyB5gwlGTwkvcUAZQJLLPF46jkEamFq3I//OExCYtIrp8AOYauMP7YuTncJbhUmb3KT7D+0VhZLiQOQsAaqUUQnjEmwPc1inf2Txqv71P1Ov+u2ukekCSgswW0cImgNolFAjw8hrBWidHqdMjFFB9mUvrQWo021LevtU+k7dlpumt1ospajZjiLHTM6MckaZkkgZOx1KqcSTY2OFhALo9gdDoVd2LZ/+tIlNir1uzzyzbR9K6lxYAAUhBpMDILmCVkaFDAVD5ksSCQbhoLAVCmghp55ewJQw2//OExCQpCvZ8AOPQuLvCvZ4zRfFriSeFCeQ6vI8J7Q5iiR4SUZh7hHTmsfrWrd6YYsFvWalAXqOfwWdjhCEc04PhgdASKEqm3SzVfCVEaklh07wrqqjN+N7pY+avjfnXuIb+1eLK7rUr7eLZ+zSqQ0aYTQ+nq4W+tEQiGjDCXTn3XGFus5oTNuZtlPWKVX3CgkdunGdkwFRRZ8CAJVxjAqimCgmifV/Yd1MwzGYVa9exYOt//fzmLr23besSSNuk//OExDImmzZoANvKvEngN4hSqvCpZXRq6kYrahR66vWL86xeLWDV6JHItSoZvKg0BRYRFYdxIWq3Tbb1e/5S2o6lNcrFKUpjGMaaYspUMJCxiiIdEQ6KsHQ6LJlRWFpSGcweMbLoLPuUwGciIiWZkvT6jwiiipjQHi4IgaODSxX25SEuRP4+jDHU5T0CHp9Rx1IhC+TtyLeca8QQXA4NSKwg5c0+F+Iejy/oXAdn4aBkTKRgx2S8eGr1fHj7vHga//OExEom4tZoAMPQuLyW+9yWLi5YueQKGGeNtxRIFAaDi73FxCBYDQgUBoKHxy/wKO7yLi7wm7xTzN/PXxSTPc3ylcV8/CVMJWiIWLnukmGFny7GJdRuZr/+pnzPrqpLYyy4xyAwQQRnzXnzXtxYOZKEcFWZ0YY4QlKGI1DQMbRAY0vdPpZyQjJIaU1d6BgQBphfNHtna9AVgsiBQrzf0tm1gDGTqbizhhyNzFEvqdsLO0TWeOYrxvHDZWzSEOvu//OExGE+G8pkANYY3QW2zqfvSiXTlfGktW5JK5+XNpUdiPRKN3XKmnKtZRmOVY3OykdmBYKRMwaUh0pEsf1Byt+EfVxza7SGTVSxtOfoWKnarua98sH1bIaY5ZdVxI0SEdzjNp44hrzVbN9Y5q4q5DLLrjSUknpsXEtywf2dh+ltarelf+udttnev1unb0vmbS8/3fm5fpy222rVcn4c4/FHI791sCMUMylQIDgl7OJKgwfM9FDEiEWEgGRmpJJr//OExBstol58AN5WuLKmjhJl6qTRRgIqRF6Vy1A4sKklCyIKOYYA5RcccFBx7eg6MwGCqaSHBopQ6WTkCgb3rHgxu7WHmXnF2ZvA5IyIx1dwGnY0ISQwNacDxuJWZLC68D/BkoPjTdYwDwkBAdHgEIxJAGCoCAEgB4cBHLiDIdZ7IYeXiGUyPr////9v72NUZn4fL693UTcEgaGCjOMYFLLFKecxQEAAhbK5znnkujXDhp0QFRoyuww55l5gBoCj//OExBcnWYqMANZwlAjMmUTGWgGsKqgBhuIyWq5eQkS7qaaGoqC6DPgUapSa8ZlCsQDPU3i9i6lz36BXsta/PNLsQA4sEwPKVcNZUAVtgQDLflsDiyaWR6hq3JbZv509LSYzNNlSRqWSl/bsphF2O00op6XOzOcrsD3/8qQGi48Y0Coh0MpSwfQypTj5BKz83uUxCqZW0BpErDT3kKCEqUFX6BVF2CBY0IhShmVuYTjiRq0aoQqlQJtyDj9YIE0A//OExCwluZ6MANaelKk3pY0LKxgILdGGgYuVjEZEuZ1olmLwdAcDbcjqucD3Zro+p3NiHm8xhLWUSBnZkHInZkRbpuz3SstI6lYaJyFtKMJ1Rigoi92VdIn+dzoVPuZ/UlBFBySGGQ2li09TaTg4YeOLBZlyVOpXmSqCFT70gm61ksDVmqPlv6YCjXtIDZMUIC5hDVKAxWHggciabqLNS4ISiiGKTae5GWgKPGF2wojD68n9wbjk3fCSyzODffGx//OExEglsmqQANZauB2Wchj4/egF7MXglyfz9QaxfFzpJFBQ6rG5AljQwIzDcohGixaGIWBNCTsJqbGI8lF6mkYpUqTXv///9Wqta12oHVOdN1hgil+mocebNGmwIwJ3SCXRxmhQSJEMVawDm08DmkPlRezVXgn1YqfLSXwAEIkhwd4IFAzsMigyWRVXZVAJuVJdlACZ6jTfy9iXYFzemBa8PbhO3rnZiW/IcYLnZRDu2+oU260ErUJgXEuiNlom//OExGQnynaIANZauOkXBOTow54aDY0DhOiBkYagvo0EwqESSYV54wG1AyldNlLtT//+3/qSqumcMmNkzBLMElNVFc88xSPNKo0iCdIYrw3qIiEFgi09O4FBHsEjzyig8MHkp4yQ9GY6E3OC70OLAiwj+JN7FQGIDg7+NwBCrtCoVA3J55uE5O1ORGxdilSXWIj2tT1L/KW3TU92MZ3nHbqpYFAB8VQbRMESPiggx+YNzhDnCSLYeFgXQKATgKgk//OExHcmymKMANZUuApGhYGsZjhw9JyIfkJhjtm//1///utDpQaiYTMc5nol4qHjdNWZReELNuYA7lrxwCuKLAgTD4MOp1o6jycZABn53wDkgoMiCobnigLE14wuSJ0tzMYctGDUAgta0FuI5ViJVaeMyuU2K16vSyulp9XqG9X+npqeaqV3eibrjlDuSow5dHIMKXCRNkx5F8eJgXB5KFsTxNyVEkNx6BfSYQC8Ph+gZER0DW19v////6SbLWib//OExI4lomKMANZauBTNuMyP9bJmtajIzbxGnmOCkaNgocgcEYMM2IA5UCKPmSIlAYwis0wxI4WkvQQgJtuoDAR9Du4rQwwTMBSgsNM4WM/DlvxHpfcgjOvTUcnwmreNSvVxvy7mFuzYoYldjTjO4FcJ+RyEOpLjgHcPcvD2Ls1HkQhiDuE/KQww2JiWEkO8ZQ8hhB7DvIJdNkSgsxVsyf/6v//6lJOnWfTMTf/ULSQPnBqeLmHqJl2DFegUuaUL//OExKonOmqIANYauBFStp6nQgHowGGDGTCCpI1R8wgcsDREDsGciHBy1uKRhbD1upehUBCpwarmOs7soj09RUuHMrt7tNzdF+u491f7Z1QY539PugAgaCgNiWKhFYaDYKCUTCcsFShYJggAOG4FxgHILgoI4+JZEVmCYkQGqGtO/////0WYYNhYWYeYkbG7NpdbUPNp/9VdgkY+NcsUiJLwAAABVBAAKucRiJ9g0BWMEiGIej2W5ZAAjM8ZE4C4//OExMAmKm6IANYOuJM26r2VLqcJBO/yU8VhmOw1Oaw1Z1vHL6buX63z/y/LuX5YYZUkqIACYEgbyGII+PRckubJyaSH5cPw6h6NTUdzh+EIaiQmTS5dRM8n8xu4r/////////+Li306GSuel1zN8dO3w6GVXKnCoCOv/9AwIATEaCOAgswWljZo8MOCooBghEBhcCGAQKHDUgCZhwDgkGmJAmXNBwRVee5NiV0mAaaJJA0C/gSZcIiGuUQHL0Kl//OExNolutaEAM4WuGxvDLIckFS3eo56VWbMplPKWZlsYmbluX5dy1Y793sZlcRKEZLMlR+E6cpHymcm5rTrCuW1DVKwoaexpKpDkgXJucl06y1tb3wa0zje8Yt86rXf1/////////86taRVJ6FAWmKsr34rm2X3i6s20xl9i1oQfLDXHrPXXeROh0tVJQoMW4KN6SEHibMMQIAAflYOMsWCMAgbMEgBkJf6b5DzFkeQF4AqJMhSYIMN4pyBG4GK//OExPYwisJoAOYeuG4I6WgGYUZwG8eJzJ5aRSWZZXGAzZTsS+H2V0dTWqYKtVr2sFWoTASIOR4Ew7SstzypNk615qPJNBBG0B6TSaaDcPznLkkbQ8konJJ0dRaapO2w7hze9rW//////3PxbCUHpe5O7WpHnAqMDoaEI1wVdvlfSIgaBoc///6lMGhyNr7iOC0eMPQzHgsIA1MPAhny8Lxpqy2BbNC8KCUHAyyahV0YTJdP7aZbMsCbO7sdhLhQ//OExOYr4oJMAOvWuDRWHqWlvY9pbuqmeMt5vcpnZi9llfvVsaWWzWVamrDYkHQAQLhG0hjtckwWlRUo0QQakg1D1CSCSeQ9RQ5FDUMb2ZYiruH2775nG01VG1RbVbDqK+2nmGtVmH6d7pdfYe+X3t7CTkNqSv5dVaM3APxa5pFylXX+6S7r1XrJKjFg8xvgM/LBYbXwj0j8/9d1XZj0Jhhr2aqqbT5M/tu2JwzT+YWguSLJu5czY+cscW1CeWs2//OExOksytYkAO4QuXVLayrTq+uOc2fVtA39l0Mte1kw3r0sbb70mY7TPss4pzTU7tTkbbY+ZsXjMjepnufmR3ezV1uGJHFlVST/K9lECqMxL8016qDCqz59oa1vTlFLOlqnvO66lJLp4OXlsl6jW3lU5nNeL3S7PeUdf4h9xG2S5zdEysmislXZceoKOYkBCpMKuhDvR13YCls1u5cuu67KtsDvDEJkyCQPiUqw1FPSolQoRKqHpw24sp1zjbLT//OExOgtRCIUANsM3ZEv0K25cqpdq3yZy5octDBfNjbXTZl/UvvmzcpVV5f0jOWb6jWlu1ORxqJUdbGElU32qo6Z2mNRmmaWSc5LYw3y7vi6BYvCX1RVXKJGqx63xzYmtPxnq0e1owlea3l0cqvrlXDWBJEqVfRN8eNGpoo9itGhkOhIdYnVK50t7L52ms9u162Ws5iVSiPz3KaNUHBKuNNhhVxIgNJOniAiZJCO1LRoF2mSjOro2lZQSm1pNcZv//OExOYrC/oMAMpM3XsllJq7dY0mbhpdCPLkFOZhqSsDdFITYQYSL91elnM84ks0ac/1tk0+DclaMKR+76Io7qVd3hdpDqIx16vM1zdrTFoQVpCyeJ0hBXT00rHhC+debHI4cfzppX+/1bJKdm6jJZczVT9vUOrea2s95FKnHdEum5tCK52s71bD62Vm7a5Zt5xy7hqpqckVXNoktpQVk4fJllxS2eQo1m0B4gxRBzVIjZdPBtLMDWsG2ag+zpVr//OExOwr7DH4ANJM3XBU8pO4MOVxdXRKwmsxBRidGVkmLOQtcIkbe4ZzPF2VNWCSNMfLKPh/B6jHTvI/g42lIGSSykvOLi5RzltgNPpNHDWlSZhRHT7KhjlemZf7pKeblOkZNVeGqxHlNv6uaUv0c1IMXmPco7cvCzEj5c3cZMtqKXNrOrrK7T5atU1+en9Tc7jjHokfEBKrAOPdJ5GJZVNkkmbIhW0K0Cahzpo20KNfCJBGJnSYuMHl3FTQbCQ6//OExO8r5DX4ANJM3MChpd5ZYyhXJGYCNS28XmgFaJFaMJpIEfiFh2Rcq6Y+ej5zLItKz2IJHKhMlastbN8Nui8tD6y4pakqw/p0m5ChNukhBoYtCKIyVz459UYgfonLQH/zHkG9XiPwrbkiRMyJ1ms8yosjZ5RtgdOOhGFkHvSKTpQShGGupOonM52Mc7u6TO5Wv6zx7nKN1933JpN0RzyxEfWbseFeBcS3IYrs5VCOTlUt17IU7rQ5Qu1jgRof//OExPIupDn0ANJM3NsqL8fYu83SzNIV7l4ZP/jxXPvVgSYXJqZZ3jUAblyezIYKVi9nl70D0eV8f3mpGT+0KOD/mGX6OikLbzHSOXLn9N2Kgpy1HXusmekl6py31Oztq0LTaUoTIwmnUKTnnIpmSd6dZVS27NZCzvl1E8j3VdWchHycNHS2Cl7FGbOK7UdgyURuTT0thqhpLdu9flpEuoTVAmuMfEsjJvpC4qydAydMrTFJw0oGuQnB7JIVplRL//OExOorhBn4ANMM3ahSmzFDaHFpItxbFryXRTchqU0NTI9yKJxKiVUVpGKOtQME5XZ0aunglrPncicvKmWIqqtYk8RTVR1kSNoEnK1qOgBHovLUSznaRxyKkTrzcOue7bNPglI3O375My5GHI5Ob6fKyYJXOeWIqp8UqFTCjkwbiwVqN/iDIAMGLQsU5cyH4Agp4YMhuHJHArvOC8MAQ3FB8WEwVEQPCMkNnjQpCwKg6ICcwfMkxCNB4jMGjJMQ//OExO8sk9nwAMJM3YiGQ+QG2ZXFEVKnF2G4bGUrh/dX//mxRFSxZdA27Y1LxublSzXG5s0WXG5///uVNGnFlxeVLP/TtuUROOPMtBaJI0sxNS0SQKKAiaC8qad82ak40CKPjc/mqeLxZEkJEmHoblScVcbmzRZcbmzUs15ud2d83O7OzblOz//t/s0bTEFNRTMuMTAwVVVVVVVVVVVVVVVVVVVVVVVVVVVVVVVVVVVVVVVVVVVVVVVVVVVVVVVV//OExO8u/Dl4AMJM3FVVVVVVVVVVVVVVVVVVVVVVVVVVVVVVVVVVVVVVVVVVVVVVVVVVVVVVVVVVVVVVVVVVVVVVVVVVVVVVVVVVVVVVVVVVVVVVVVVVVVVVVVVVVVVVVVVVVVVVVVVVVVVVVVVVVVVVVVVVVVVVVVVVVVVVVVVVVVVVVVVVVVVVVVVVVVVVVVVVVVVVVVVVVVVVVVVVVVVVVVVVVVVVVVVVVVVVVVVVVVVVVVVVVVVVVVVVVVVV\" type=\"audio/mpeg\" />\n",
              "                    Your browser does not support the audio element.\n",
              "                </audio>\n",
              "              "
            ]
          },
          "metadata": {}
        },
        {
          "output_type": "display_data",
          "data": {
            "text/plain": [
              "<IPython.lib.display.Audio object>"
            ],
            "text/html": [
              "\n",
              "                <audio  controls=\"controls\" autoplay=\"autoplay\">\n",
              "                    <source src=\"data:audio/mpeg;base64,//OExAAAAAAAAAAAAAAAAAAAAAAAAAAAAAAAAAAAAAAAAAAAAAAAAAAAAAAAAAAAAAAAAAAAAAAAAAAAAAAAAAAAAAAAAAAAAAAAAAAAAAAAAAAAAAAAAAAAAAAAAAAAAAAAAAAAAAAAAAAAAAAAAAAAAAAAAAAAAAAAAAAAAAAAAAAAAAAAAAAAAAAAAAAAAAAAAAAAAAAAAAAAAAAAAAAAAAAAAAAAAAAAAAAAAAAAAAAAAAAAAAAAAAAAAAAA//OExAAoCwIUAMGGuQUBF03vBy3XiDkORFKeVxt/3fh+X08vAAAIQQIEIjf7u7u8vxERniIiM73GeMgwgQJkyZMmLDgboiIiIiO7u7u7gCIERERHP3d3dEREQIiO7uHAwN3RECACIm77u7u6IghEAABHAwNw4GBgYGAAAAiIACEdw4GLd3dEQARERHA3Dz/4ACMEYeHh4/Az////4ABxhweHh4eAAAAAAYeHh4eqM+nD5HYiVAENItCwM059r78v//OExBIkgjIgANpGuevq6Lpw/qKRlgNpECSN5BmMMsumwwzGUmtabSYtdVNVlkUpqUkakaRNHE07jBSUwXDY2oIOHRRiUwuzMh+LPJVBrfYFI0LV8SFVMjyavKxdQTq7QXCh9F6i87r4P820HM0mqOhNBQdoB05R75E319NYu+zxkczVZhi+5x19XolXMlUAwAwVO39TEUktB9F8tndBpjM68vj0Fxh9Yf1lI5S7UdlomoPgwSohnCLIQCaRCDoQ//OExDMuXAokAVxAAb2xdw/UO2GkKK1CR244P9hhZBih2a0H2IxxhAsLXlsMxHsavbQ6FONkt7MUthF/UgyhxEGKcMSkpplat6Vxo9CxcXFzw/PumLHlvEuWiDT7sXH0j4hi7lvCSg5K8YPc/nVnMWoh8stVu+2MHXN2/U087y+7kU1VNy1NSli92Pp0pTs9PCJIFRu4KooXRkXepf1MpS/XdkjW367Vpmi0P3VtUYLNzpF/6aSzRalFxzQnWNyv//OExCwvnDqEAYqIAP9BnLiJaL5B0xzC2UiqQUMSCEodEFhG3T9MsDsLhOLEFxZYuMqjNkUMw6gbeK8ELFlDHhjMMkIcWCeC4BX//GmThGE4QQiZ+YLLgyZfJ88Xwx0VoGRw+UG1w5AaAvgJwMvklEJx3iyBsf//+m7U3zA0ppsm6KalUBc4goMwVSgRQkCJmZVJAzNC+YGY55XNyKGKajAFtLwQAPIgTxlfN/J6ZpM7vzmzSdm/z8zMzMzM3+ep//OExCAsnBqkAcFgAUvM5s/PVv8zfZbX5aKKnGa9xvT5h5h5jpbYOlkJcM1haJ5WL/LA5FYnAxjLAlClQuPy0fVcRFcnOmyVauPfSNr1i6Gx8qfU7W8Ur1hTZHw+8/OT18zOGD4SYRnEcxPKFc2WIU8132nYPiybwuUllrqQyuzGOx/lqpjbX5vrMtM3tNXnLcxF+TPLmtpvP2pdnTVOVfDgmXeL8cSBCIwglqTMwWnYlqqMkslHCc+P13FdHdew//OExCAsw96YAGMQ3GmN3io6vR5G2iq1Ef2Weh9u2meiYTFcmv/akHzd61JzFrP0nW4DY4LfWShC4kBqg8QSSCrHjpEExh5JR5Y4aVIiqTI0kQhGD44k0VayrEUoal7koc1wVEqSOYVJNhoHkocuUHzXh0C4TiocjnZ1Yo6dGhjm1qV/qJVVhmZv9m2lotoKYWbbJWqZlWDrIdWCp0seknXJAQy+VNZBQqHmHg5IEU5iAkiMFQ8BBQkICMCMWEgY//OExCAval6IAVvAAABjg4OBZAEgkOMUFBEAAYAm27mBgqD6DieL+rZFjgpZjOpu3N2V3rvZfI6OMQ5DE9qGJZOfTx2LxHJ25FJdQzF5VhL6Vuc3DsMtmqWqS3KMqCrVu/epaW1nfpa9HJJE+z9QPjQ3Lstp90tJMyCclO8eZa/eP///+u/3+f+//X75qtr9a/mOF6r5MwMGvNHQUD7nscxL2OcSd/////9CVpN1MLVA0Yl2KlBZ9C2VKxDoS0UX//OExBUrGnKoAZnAAEOODggUkDoTyFOiDUhYQ/OC1CCBBAxaYIlMCDBxEB5tuZWsLWYABBRgBEoRlFH7pqSEPK7cTlbNHduTE5P2dxuH5fFIEdVZ7908Xga4yZ0oMsV5+WbtyyYqWLcil1+bnYdk8BQFN2L1vCxn//al05RWc//5DFcNc//////w/W7fe//61T17+E5Y///PuXcu9q+e/m9/hTJVbkhkb82ECRkwZw2nyMhR4a8BhS1ASkiJutI5//OExBsuMnaYAdrQAClA00UHgc8XSMaqRYLmGXIloRQgcAKGEzH1hZwOjjCIyyIoDHikOprM1pHTu0bNYo3GYkjfS90qkofuZpYGn2iO9KF/StMZCpdZd6Cm4P/EYHcWXtalUAQfL3evPo8U06DrSde1WVNNl7pSqCIXdi8hvS7OYz1uz/P1//////////3n/zDW+2693tnu9d1jr61+5f53L63mTrU+KPWlWgkIdB2msCEhvxSNhgCYQUKARki4//OExBUmwi6QAVqgADEZkZxrQxCVNovBSUvipk4YhAKvjRghrVhCcKKYWHAhMgaYGPwEQAYKMwxqLCM6KVY4fkygcNVsmZHz5Ml1MipdH4cRsK1FmizCQPj7E6l0jiJHyAl4zIqXThsbEyYl8iJdHUOcT4uUXKShFTxNEWTNUetFH////RR9JI6yj0rizlFcO+doMn6eNzTCM0UDNrATMRnlM6SmMXCfKgpmMIhGIQbmPwIGAQDmBIdGJIDAUCjA//OExC0x8mZQAZ3IAICFBCHAKNGGkqc26jz9lrXYa1Awl4HOA4ZyU0VYXwjMZpoavM5Vt1BLWZbQWKt7POnwxbsgGAIzLW4vzlBrgYVqOlt1t1LU1PWoAU2f3tNVxgmGYa5u5d3vH6vMK1q7h/1v1jrHL89ZVd7/+/zP+brb/uWub/8N/rXP/X4c3+vu/KxVhnYVIwA7lhEyiKs0ssu8+Sevb34qMeypMICTLQMwAMNaI04z1GtSwIF5wKAYEQDg//OExBgrww58AZuoAJ7ZWrsSK1ZjO0g1cdGZD5xphjMAgFFMDKoAAweUgM6CEv0zQDAQQEZixjngpNQMEAUBgHC50KDSfkHUVBiirFTFLFNBr2NicLg7Dc+KMLKDSAoACQG0/QaV0jxgixiTw7yPGGVRZA3npvTTT70aeXiff1oJu22/SVUyD1MyrJMutTU0v//QqQdPXv9FRi7nx2K//7evqairEiEQN1EFS9prAklVlER1uLKTbIyItGQDuJnC//OExBwmClqcAdqgANYLFK0OiEpHVMjAiAxqoaBhTACFYEgY5IAAIOkFmhgwZAnR2ldEmDdRHGizEidRBzYyKZ5Emi4UhzzhsIxE4EOFCk8USKjvRI4ihqXSkaHC2aGRGFRAnhmDAlThqfGYPGJkThgZuym//rU9b/+nrZFPf0MwYLIEIWCJSvWq1BYpANwZjCqQUO2nJCqp/U3jA2GZM9FjRNlUZEMRFFLknh5+XtgCD2bNyMGoeGogusEE0LYg//OExDYnwo6YANZWueUi88l3b0r+nrN/qrIKPG9I/uPJ9VvNSVpliC093mjq7YvYIJDusaJkhbVH0+kCcTGEsQDQxHQ4giDN5DyZyTOn////3x2yn3vuWVwxlMe81svq0ULcraR1dU6s5c5Es0Xwj+vGZOk9+78RGWx7SqXaVZsS0IYeKJZ0u4CVI8JogQtFmuSjwZaeoUxq0lUog+ZhTqRElFLpMIiICZEqu+Gd1zMtu7jyAr/JiFfuW/QTfMJf//OExEolynaYANYQuEtLDtNcsQMwgnMMPVA+ug6OgQQ9oSgtNkFp2DxzBMH1iQ3mv///lemv/+vWMshiCx1DzVKVpKKcYqEDlFoAhswUOip0tPKeaixnxe/01U71JBeSPFdAEZuQYUTmPDpkiCZmFGDhhj5kZeDQ2FwBDMBBLejCL2WFSmiyj5Rg3jRHyLiCZGaW4oRMAB8YBFhqRwnS2Kp6fyti0ZrJ5mt2KduZnz5viQz+RzcW5HEKXDCl1KrI//OExGUnImp4ANvGuGtAS1nROsawvqrD5qUY6X5xv/2DMDGDIZGFJiDQwEgowZgIgK4RBJYC/LVDwEFRF546Wkcr+36lBEydk7g4XPlQDACMzpNM3TmVmJEIiBgsEjwIWhdGGF5uS7rSnWqS6XZRZ3bMus2YBlLqv+MODhQyl6jjBl2LZdiu5qtb3X+rUvWrhDUTkUHAOh+DyQROyktj2tn7qEoSPW062YuYdsdDuJ+uL///9m/uot/Ftj3H3QQF//OExHslCi48AN4WmC0KnQglx0NZvq2WnVh3Zo1u7lqTVLaxm3WqNBNU06dzmw7PVhE0EKjNYFNFJMw4GDD4IQdkqvk5m+ikatSmZCqJNlaVNiqe6mhqlWl5PYTZxY2txcrxaw3G+55LQIr+X03JDc9ZVuIMVgYq2y2YuzZVsiI1yyEeFYLrSmvtJ2Zsu2Rt6zVf+7s/t97fM3/43ftvkpJYiSak0LMfAxIQpArhExZGWNk1LErT7CtDaqVyirps//OExJknwlYoAOPMuJvgRiSNCDNB4OZ1A7GDiqBlBAceCsENYjTEB4Dso7Dj/WIBzlsxKp2M2IegzZCqwPUHzwJQ6NFGPyqUkjDkaNu7Y9xQWFiiyHqNmEcb1ZJti3eLC1JEHMVCVsPqh7LLluzZUXN9v/WOOqLTtUp2XjuXqmqb6Qm57hdz0Xl2KGWWzPyQM2pzT79qUhcLLt5H6qJd88RpfR9yyvD2N3tvD/5VN9BgEHlbEHIhhiQdxEMUnHbk//OExK0mioooAVxAAcDkwxs8l1SIRg25CMFH+S+s4lFeBXwwIVhmE1yveiebtmpSgoewIziTvMK24fuRt/7QOiGfEnOEK1FzOXNc51x6CipOdN2NLXmJBoOgoWyjev1l+vz3nhycMyFJAAKIKDJegoWXh1re/w3zdef/G/+c/G1hjFAhYO0Bk4sMYGzoyYXP7WfMPyyxzxp9T9yxFMuSa/h6gyABayxC/40gAJEzIUKhUPEcGkZYfjrfcNb/utd3//OExMVGfDpAAZvQAJ8//3X7L7Ws7dTeTksneVh8Hu/Kph33m975fnI3Q+vnhupzP8+9wy/L89a39rl3WW689V5/d481/8x78UsvvI33dJMBm0MuuwS9p+4Asbfdp8CQA4hQwcApbnA/GQKgIaEOjJFAweF4R+KQiOtsZ9OiNBIjEgZOueZV0gZI0j2DMRd8DNIGxkOPANeFLiGEKQ8cRfFnk0TJDxz0C6WjA3IuSaCRfNkDN5mTdE3MzMi5E0md//OExF4l2hKQAdqYADQIoRNS0zcwIoTh83TPlAhhOJrL51BTb+tdJlV9m61KU/3QSNE3wEBQ0pRsJsJF1DvoXccWaqOMuTUhAGXkAca5Jp+LBhZ5QFlrh00MZGQCBLzMSVQcNyglFRJfisCmcjVxHGUL44gjOYWDIDNAKG51nxWDTytzdbqvn322vbiMj5m/V/URt/QzX9eqxgz1t79YUim5SHkpxfPsMEi5gHEbKDnmKQhz6jh7W/+ps/d22d6t//OExHklanKQAN5auQ91KV3s9k0arKNkWc0NDIvygB9X0vw939S0hU2SeKacs6mEbHMAA3Hnus0428CZ++wALiJWlpIFmGEzF5YF5FcSggJHRH8GAzjqCJKIQiF+6O+n9FOvFT9zfCWcfW9huCpzF9Zfnum5t/ZfnuBLd1gFq8GJBNKQJh8o6IOR5Bg3cGQ9kOajcOgxHQaLEpV/Ff//s5Zy3+Om//+2v6//f8tfvYcUtijT7gIfWPEBBrmathh3//OExJYm6nqQAN5WuL7P////RblfM8ytVdRhUtDN/JYAHhsTcIhRiZGhtroUP4VDpVQJoZ96TGTcR2kNT+F63IGLTl5Rpru6Zn17B4IF7xyr3yh7f1AlrmMI+o7lHcbpSZW0rqJImi0Njo1mixpHIoqDaKTkIMxdHaDScMjxGehq/W2j316v//9azBzFEuOTjIkVHEFG6ZqtaBsktT9TIrfW1JBbppKWpBluZ53n4uv4KhU6SwiYbjACMhCoxuIl//OExK0m6wKMAN5auQwCGgiV7EIcMFh4IC1hhZhUOC8UwIMK1ueADSFOYLYYqeCmBZi9V4KIpqJAel03nFfBfC4zQFG42MxXRlInVSpzKlgCOEuiwC2mTFJgNElCJx4+C0WoI4DThSFgmNDIDiY6VIx47O/bu9P//rrZfHi5JBqRcdGpAuVZ/VoucEwVW8JTv/////HU1UiQSBgQOh38GZiUFIYBJlabSE4MAIw0K4xTBRWwlAIujEBQAAEDtefF//OExMQmil6EAOPOuGrLYzSMOh+WsyZbFVbACJLJMIaKyN+2ds0aw12gsu5FqN9YaeK+/UhgSOx6nd6WU6yV4NIVw7cpuxq9jJGj5FUwxHMJOWLEhgqg4epEKi0t2an//o9SKq9r/n3NEzuIDxhhv////7//Sz+KDlgDAUCTGSvjfQ4REGxhQIBxkLoKFUwBEMzvCEwPBQgCYwSB1tYWNB29CxgJo3mh4YVGsUeFNn8SHSJVvLtmAaE0RjbSB00I//OExNwlQoJwAO4KuC2KpaL5WqvBMVgsGttDT7rqlUyllDia66IaAxy9y20LWJyaGpRFtXEiG265ThpY1tOOcQyK6TpO1Ppj6npjzt1/fbv/n/nP/7ySypjdf/7uv3bap89KHLInLMc32q49DDX/5hg0JC5n+uofuVViZX7MBASMHaWMugYMDQxM4SLNFg5CoKmOJ1mLYKA0KTEsLi9Rf9LZg4NKXOWYFlABZclW4uKk6ps0lgCuXoY0gNUGYsmq//OExPotYopgAO4MuKiUgwZfq1GruK0x/3Rh9TBVSPxBOxP1EdLsuWvkvsCdjlAzhLA5Q3DDk8omaKFM0dNabI1sgXlObPL6ZvcvpmCzYwTTpWdBJSKeuzd7+jnTMyMClROqQFRVCo4HDB86hKkNkKYWUr/8ypCTjf//4iUBiKouEYGFJ0OOmvASYFNB+JsmNAqDTiZrCQVAYALr7q2oqUohBbEHkA01ejAgFlH1P18ocdWlbg6bWXeS9aipTNw4//OExPctii5kAO4amM3dmad2HXjhL6ttLWEOirAkb6mbOGIrxeR9rUqrQq7X5zLNiiNDWLOFES1e6Gmi+zhyjDh7iyqdNmln2QKGS7x1cTXxWm90Li4sJRGFghFBUJCQUXWUOQs9q7IguTSqhplkgQ4lxjiimp8CAMis9/6Kmov/9fKNfjppQoDBwgqZg2EZhgrhpWCJg6CBkAMwcSRgwEJkCJxYAgwABdS1gIKAVmJUAxmCegktpjk/L2vSpwF///OExPMuMsJkAOYQuEBOzFaVxoaeN/p6M0tiHpdBLuzyxWcrwTqac01nMkeqXZfS1qamx7/Kv9rLvCqx9LB1VE2q3RqFWNNhaIIhcIjQ+WU2j77rj/mirdYKGCgjUJSg5QloOFTmzpnhXmXQQJVheBWFIBISvDrAon//rWp//+4UeWHhsO0wEB8UaY5FTgzFI4zTPIzBKAxAIUx2DkweFEw5FYwxBIwNAQwJABz4ZSFAgCmAwBibG8M8pBxIWpDq//OExO0sqqpcAO4QuDmcFEopWE5UJZVKumlu0zUvTDjLCYlXEJqo16O4xZseLFg73jdepUoexzM6x8tAsx0E8yTTqsbCCYuIIitDdytVPx/rNawU44WFU6OWcqiRxU70VjGcOVMAWBspIqpJuao8uHbnCNKQs0GHiJbJcWTGJBZy2xNQuiVqrUZPERgxsODQ9aOSuAKiIwaODMY7L8iRDMRjQHClWJFOGX6d+C2xUFuNujq196pbtsFRwpekeShr//OExO0uOq5EAOvQuK1GHSV7aHkmgRDUTT51I+eOsceiWtfc1csjjpa9z0aVa37hzoY24uaa6FFrtqHR2bTj9m1i7D9qrvV3xGcQptnI2oTLXHWTNteueerL7nhybXn+msOO3uY3hVC4ctDKmIpFr1+piI4c7nZ7P4iq4Z27cxm7mX7rh1rOjUrhN4UAFTbgjHBjVQwobBBwzVMiJwpN00wY0uM++/ttlktMXOIXkXrSwykNAw+DgMKmBnBIY0I2//OExOctHAIsAVxYASnucW+s1xzEAg2EQOJIDemYGof53q9OXEQGJ3AYEUsByGJEYOSzFAYmPc9Y918iscnnYdxOh8VOoaa2wfP/3rDN74hFO6sQ3dZWyltX9a2yv/5hzDedeN27rtv3elcP2IbduBWbxZkzO4KLr9z5q93vd59zpNQ5LL3yy9hapo2jlBbO1b17sLUvhTZX3jDUNd32cp69vv7qYZfyjp+wPflkYikCY24YhiKRfN+oEed/1dqV//OExOVIpDpMAZrYAKTS+0jYW/jwPhC5ub1hjru8v/Lmv33////9X62H6sb3h3Pmee+6/vd2p6T3odhdLGcq8Rn712v8Xwqy+bm1X0gLgV3UhYEksEpOpFGtCRzpQ20+NSxgS0WKS96brcoU+jTGRNzSBCATRHAjI1EDIg7wGGCMlHlXCtgOVd5tWsu4qNgT1pHw2yt07criUgdx0H4drlSG7+qWWRSL3L1+m1Ozcvl1LTSqYjFiascxw5q53Ote//OExHU726JsAdjIAca2eqtLegSIWYNsyaL516CcpMKtXOxS9m4rL6nzdnKljmGtSu7ypap8bGNbuF+rS85/4463lzuOuX7OeeqT88M85qpHpqx2dh6zKq+E3ftSi93O1K7dnHHOhsbyyz3ruF7HvM8/5/f5vDdfuFfNJ3l6vv1dtAt96ymaymUgomZCIdaQNMRxAbJQZZMaIMCiAyIa8VQEEw4/82581YXZEJI2KAGjR6VLWdNBsBNRRYukaFjm//OExDg149JwANYM3bwORGRI2mEzCMEAyFjBVAVhVYXJUtc23Goba03WUSOMv1Ka0s3GZDLoxdrYfXuyeP1twbhja7lKr8Z1hhd/KzaptkqgWgAJQgbhYCPLUAcLSYsJs88BHukgR6Q+1JaiUgVuMfy169n+EGz9DXn1GaZs5pNO7h22LCdjaxW5Vy216b/tWu1PDxctv7/Wt9zceN9J3ebkYmnZ4bxftCK/+Vp9W7BbqNKAGimLaR2gsAhwzt3W//OExBMsCs6EAN4WuIUoUGkgJA7E9m/EVrP/B1hr8hlDjz0raZF5WxVxlAwZ4FLZMi+l+7yaLE3mXDMM0XHGWIMDYfPROMUMojFWpSVakbmpW/8qIMEMdQ+D0H0EcA8HAewH7lSRMM4j5/j+P2qWy9tXMezfL3vtObhRaHExc3lNA1tSpSZDdI49BqCx9nug4zfLLtY+O9N5QZOha03r///9yXH1j2ENpQbVoY+FaoaqF2gnEOCC2aisacCZjQEK//OExBUr+9KMAN4O3IQWvvwEn3absiJekqXFI9KkJyGWh5x5b+T4JBQySoOiEcG9BoFNJxIZgjPFNXffdFFh7c20l9PbqVK9jDOphhG6eDH3i7cpLImsxp+UNWTyuAobl9LUpMdYY/zv/3//766eg8ecajKczHSrHlR80aiss3NZLTnNOYshEmhc84uVcmjMfMdVEA0cwgan7///////++2Zo8rOhMfQybiIXoyUjf0wteOzWSYeMQFzkUKC1jGB//OExBgmiraQAN4auINRW3Q7888nvszTbxQjGIv5yItcnXhSgcYlAcQsv0tv8G4yyadp356JK7kThO/RVaL6tnPHGpuawtDij2C7F4giWiSCUg2RxDkNS6mkjUtVJa////rU9+7MjdEyNllqVlLatdSU4ks5dFSSJgXmOI1oozzGZuoXc/////7FLBYMAQzVjTTTCYmOViUIAQyKTT7IZ2FAgaGJ7I1migPaDgtqtXlKUFWPLttxJs/NsJx07TNK//OExDAl8raIAOYWuHLDH7hQgazykbqixbrpizl5sjzyV2U44nMuZhKpHrU9hnv8Ia/D8Q7yKMT5gIqZIAVNJQN9vM1/X/XH+z//+93w+/7/221WubdM29+xA4qfdecW+bt7JVV2pwibLmg6r////6QJKqQl/AKuznpnfEZ04ycOAuyac85z/3rOL7X7c/RfgO42eTWvRnVqgHwAxqTR2mS7zxobVB49Doc1kzcfx//x8ftpqLqhzZTd/+97GQKV//OExEsq/BqYANLQ3FtOgdn/6JKRpWLvu/Mfe5bbPwKW1OIYykBvR5YOBAMDtjD3dzl1OKFzxeEHC58uWLnkECkD0edxcP3SBSrEAPJDsPJeCBRElKcs8iYMgwgyKm6T6sipei7hObh3hKe4Q9CuwBKX0fJLVljVqliO6/Nf/X9k91Z2MJMxTT5alZ+b/p//Su7yakUTO1CZyh5Fa6bcyDCx4QIzZVtikSAq2gVSRTQFHSVpvljBPFsaQEg4YDLe//OExFIsfBqkAHiS3S6RQv9N8nqJKKzkDA0elpJpAdpRAmFLCiByGRQYgkzCaMUNHkJkMFFxw2qLyFJkPlYzomsVjq5ADLwHPmgIREpkjCbQ6TniJkUaIEKhxikJwxrDE0cjfSKfIvqaBOloTdiAeYv///++rdb////7/qrVZUZHqos02vHLMCR1voIvr96+pd2M/+2a962rkcxUaRcfMxxZa94Mdidiy/fVfB9FrbaVElU7Q/MHDX4dNstaGNOt//OExFMmTDqsAAiY3IyyVhzkYvIWRO0uWnNjIJWL8ShSlJYmefqSsX1goE66+OBXCctj6X+N/YOW1ipAlc06hL42m4KI0T99dR01x6kO2tSuszEqkArsnov7b+/V+/69fX///pT1zojfFTFAcPozR8gbMvMnkBRRdRJdA+KmildKkeIjC556UyJ7EPbUDTUU2WPORE22lO/bKnXzaLEUMk2mgS6TSUZL5rBCXRQNimRYfCupJPKLtHrPiM5AfbHm//OExGwl1AqsAClS3UMoQRMwQkqyREiwoSTgKSFU8Fg+gUJ0RKl12EU2IXFKV5PH7qFJMGCGfcKq2DD6dd2UJXffpkzTGoYRnmHmKUXYwyrtsvr/+p/763MMRSYvWNh4VCoKlBPKiEW6lkaddq09TGrQ5FbK0rerV3mbV76vxLX2VNrroWv3FzM6xC1bMSwfa0G2aX80yjWvuuVm7ylBYe97mu7rL1HQHRtVbQ+Z1YtW2XLZoxHi5/O3WYpiseuu//OExIcnpAKoABnY3bjeR+xpy7Xacjo0e41StJ+Zy8D6DpfvysYYUTemGZLGZMEfTiLzswWxsN0bifLSNheVt9ZD9epL9YLQtfSevOV3urNv//p9+h7/63fO9erK45HoKidpjrLMRWMnw5AVHiCJgeCxqrQqjLUMzNcm1sVbW06DR1EqMKtdoTiVQq35/gfm2qWtMoq1ftZA+OW6q4WWuIem28oWO2jJia+2mlVuGkVN4Z+KySaKZn+tr1NgWExM//OExJsnW/KYAGMQ3HqyFaREAwoVOPyTnzExAaMQGjMD40AgMFBisIMRFxoaQoVICARWEIAy/hokByEpQ54gAt1dbX29lrxx+7TWJy5uxYuV69DZ5T3ceVNY0t3PnO673d+nr0/bMRBj5QgAKCZ2cY5vyKrbXc7cz9ar/9f//X87VVRMRKPVRCXMXd2u16rHGWGkMInSCciZB0wswfZ0pCR4RCVy7sWTPKTblj3/qZhnwXATUCc9cPDhWIGjvZEm//OExLAnsoKEAN4QuCtJaU2RnBym1BQIx8FhpnojBG1NqUIrGFVHhUsTh9eLVeXXhgbtaVSD9ZWO/SZ8+CLP8lNrWUUw1p/+1WxwfexklPeHoqkxw9ESJ8qDonOTDhdHH560/p///6vrTO99DEUw4VCCSkxEWIShhCzkS3Q/Rtj9EOqrHmGEE9yQud/916nf/6l9n1UGMQyhvenQSDgy3ASWk+VAAwCoEjqHX/MMG0K6WYNXndgJvjcsbc/jCREx//OExMQlcu6EAN6UuHA79pSH9+A8c5h7P7WdfXwRIf7HHnsZtgk2HrCQPhJXMos9QVeTWUTcwieGjE0Nw4nISlIoVX1/+q3/9T/dkt/U9AvF5A6eHqYspdSmWizf6kndd10qSKUzmyzdKP9b//+Qheyfre1YPmBI8g0FDGqkDIckjC4DzCMBjJofjBENB4JzDIAgEoxgYAJWAKEgwPCoWDZWkYAAwXBVQRk8oM8pBdYQCgiG8+kVgmFBw8OSWHEf//OExOEluu6EAN4auKlm0O0N0s+mguqbnW27cjqymvZ07n3bL+g4ZvocaYvaQWo1FcLUkd632XP7LLUNR2crSWd/HOW91/eY/rHn5RMhNF/e39TB41Hc8oqWJgUcgsHjzNZuNdkUqHyav9Srm1GGOh2o//UvN+nRNlaZa75Sl6S2iLV0ipWIgeBmViqAAYBBhAJRkD/hsYFAOKMGhgZQl0EKoYMA0m+YSAIWiV4neBgfUhJnQMrJq0ALVZ9Nv2qq//OExP0x9B50AO5K3Bg7xuU/wZ/PSF5lY4boL7ELvI1GNzbXe5XWUyiVTDUnfmKImOceeVuYtlqnkOFHY2kXLQIlmwm0blOmh9YOiiYfvTb7mTWO/zt4f/+t/7eHJGJNDs0bn3bfYL7by4APP5ZpqCQTc9v6CKf/7UrLk//rrFI66SokBAxVB4ChEZ0zMeFAoYChUTCmYDmWEWKBAwKgOGYyXCIAgMFKGxjUSRhYASto4BRguObK3LX4Y4KlG4Io//OExOgqopZoAO5MuAkJjJG+FRZkixESRxJEJsQw8uIhhgUx+MQO4M7MibQTwU08xR4DCIEWDMIsAxhRViYWPgZfPtkNEkMYAZbHxgEpOPP4nO88ohxlb51YuyiKz4hBhANibpMCUEkN5p9W3p24E7XqUln8ydr/z1//M2Z/JY6cYp2Uf/vYcYpU8XxycVdhP15cLCRiLl9ljhgwSEUBgeLmV+JFCQRCQH5XA+vM2E93yW8nEsActLT4dGGz8zfz//OExPBHXDJkAO6Y3b79Mz0zNNmZzKbNNyWKLKwX9pFBSiyZ++/TYObtCv/KsOZm3Xv3xswMK5d9fnWce9TUwiHifCreUwMEsUIiqKhbgwu7DOAIclgBiEEDyQcp5jAAuL1PzKh15mkzEhQmD8IiDEW3pm7gaVuMVVsN/9+GnvGfRi1MlpGaioPdVWKhcjgFyQ7qDYdC5AjJfu3Ek8n/tV0g7dagVjopSxtNSilhaVKOjlb0pgQJRMpdef3flnOX//OExIU99Cp4AOZW3XD/v5tW0GXCJ+2s+FX3vv0mQkf7eUrcOWuzFr7asxMmHJJSZ88TiMzHsE8vcNxBlxmTg0NTZAQZ4+NxqPSxSCGibJDeIwdHsf1kmn7tjNk3cNf91DJ9sdcS2s9FRc13HuhkL75dVsPOfNbUXRa5w60phCnHOUkIVJwDFp8dP4sTVOlIA0lEy9i9CFxeREG3cHXl6XeM6UYp9uw2fHSWjHscCESR4TYIBIg4JbgO8B0kQ6pY//OExEAtEvqIAOZauLjxoBwitNzIIHceVxgsIQxdrK2xfeL8G6cSxFRiFaY0wnJHSTA0mzl0OZZEu7L7PqXm/OLu9dDoc9Ws01o89otqWhUyrltSRupzE+ZoHB5zYvO5cWU6Byo0Okmbkw2YvlAqfJtQ9rUMbb/uUqcqGXFKpWhClaWVSAEpYbyuNGRDNkwzfThJgcWwXejIgMygZrXhlBNC/dVnXD3qnU9+klp7tSNLimY0MMRbpYDA6xurpPsK//OExD4vmwaIAN4WuLnOuyhczFdWkPEW5RAiGyFmd1jT361EqvNifTiQbzhk5rB2CDuAPEztT+P/+f216v7b97PV/PM4lm82qe2RLzR92bug8y+H2xK3ydN12lWSzQpHWeNVHm7B6J5ORLB3h/JIpDYP6aEh4KDXD3Tq3eLwPJi4Jh+PMGy8NFidaCJdKp2spiYliIaNQEIAUCzIiXMAiEUBq8jBRzMgA9SpfYWDIYBZp9DCUWTSXxwbEbl9c2dy//OExDIvuxJ8AOYQuJWLYXXqWyzpkKShxAjlPJknC4Y1/o/TRrKuuWW9lSAJb0xDRaFNWxXiUu7rGPBqcpANg+4mqQFQjKxY5rP0jv+vvVGqDZ5huFWpqNZVLWpWFWeuVlrla3XmaiPa9r8oWmomoZihYWJBqIpTAJABixAD0YcULHSEiz//PAqYGHjoNDjwSPKDpY0fxExyFWul1gICZjPq5tcOaKgyBBjMiBmKBBUBtE8WEQmCKUUxgkAaI72P//OExCYsE6JoAO5OvFHM6/sMyAELPfqSoUztNBqrLN3NWKr1ub3Y9eBm2PXxfrDBcjzdrtdl8ph1EKrGqB/Z3vy/GxUx+xl+X/S6wU48sw8dHAiFyhAEI+eTtRDGqxhznIOlk6TVunMVDzWGzquyWNSg2cwySzip5Q9iLub///0Ir//+//6uqrPj1mxbxp5USiwNSYseUtVkJAAAVEEwT3sxxE1DQoAgxTVIwCApFREwwtChdUMsrMGwIg92k6w2//OExCgmKpJsAO5GuOn5QnoDkb1dLfHCA0v2a3JQ1yezhh5cvfdnUnpHbd6ejjgRerE3bd6bbusOlbjPswkXz+HeJn3PVqTM7hsIIWMAAwZDxnNSPz+Hz9yyyz//YEfaW5fIZc9rxg7soIiHcOno/u//13lB8y73ufYxzWSCSGCgHMQkI/EDzj4QAQZMGHA040SYyJeGIwuYsArqSQQAFlLuqUGBgk6BF4MpgyGHJrQ5EGWwQzhdDvxSHIlexj0C//OExEIlunZsAOYGuMopHcl8Lh+SUd+DIdhiIQe6L3uW9CqacsfhyWXsbm5vKW0KlVtVx5aApawEfeqWaF18svn//kWDnuAGAFETvRBHTS6OIHzAwIUN/en//1ORK1/+5tVMICAKYjlueApAY2hoYRAqYVn0YkggCgCMLwpMPgJCAQLqOZEIcZIDgCKUzg7zdT5GH4twSgJOaYQxFHAkzyVa4QZ/zD8bGE2WZblS6lipViiH6yKhGI4jJRm8r1bN//OExF4l6kpsAOvKuBZMV1IqIQTE2Dw4ciNGqw+9LtslnqJGezVVqlbn9JXEnMJA7LUSUOCWChMJGxGNQITT/9/R//as6Lp2VjmB4iJHcFEgxCMQyGmCAEYMExiYLGHggYQFgkSGVhcBmGxqZFHokN1lxdZZnojSxlHHIsGQFQw5UyEQyAHdamyRVdIdJNZcDRueksENcgCOu5csaf1y5dEncjUP8kywCmkMxiKTD8UNP2TeCYT1DQmHCQUgfBHL//OExHkpmm6AAOZWuAEAQBLJ6jTdAn3vcz+/r/n//vffsr+P+Xw6t90242VbGfvOa2nFo2+7/////XV0VEjZmISFhgcOCFQEGmAlRa4wAaDistwYYPGalhhKIacImBhhgY4bNMZp0bBCZAEbRUXbLQAK4bkscAya8EdZYeAoCkZZIcAg0KkUmgX8ftpi3X6bAzGB3RWEdhrzTHFgKHGw08fYrtwl+USNzOEESEEpYRLBxjwNRK1EQZJqIQyJMche//OExIUtomaIAN6auAKIMpQOwhDLHiP4yzInEEzLVman///Wik6kW9//rQdjc0YpqZ1GpxJ8N/Gng2ER4qBFqvgb93ClLx8pKjJB5GQpmXKPAau/RgwBEcHSR6ha7yZ0HHBCYFqKnQNRt1JU5NOL1GzVj2ERhzYICYCZIBIFpIkQApTaUflsvV5I3aeSVQzk3fGuzeXsifhoz8PoMpgdN5pj+M/geJwiu8kvjUCTEM5PXjDbbwty3yjbFIpB0jtw//OExIEmuY6QANawlHSyGbd3VeaD7nGf/2X14MmkQ3/aFnGi9wkWymTaqoQuiHoy8SWhQqMvxGdQ5iYNfaaAJij5D4EJp0gw5Qt4i+DfJlgopfRlEpcqdGgqADzLCTgXIlyyNWJ/nRkDDK8vf+Qqg0kwhL1qXScXKAJQa5ByqIEVSHq+E+V6VWFdLGmgrpINb1QKwviLQk6EPL+kElpyVakYLOLq8Q0o8//70pHjiTMyISjLf9eqrMCY7/jtESCp//OExJkjuZKYAM5elDqqDoGHRsJMKvaSFSpiTjLDQolGkEQDCjwBGiUSShixanJZUQiZcG+IC0HW6GYigqnSNNw8Bl2roL5PQ58qW/KnHlkRahEmLyRubZl4wA5CN1eZi1h9jg7kEhxIDU5kTSmIKXxZEoWgSIxRMA54hgpxyiDKGGpmpmYo11////vU9VSaSTGs1nXKJAE86r//oQJ2Wf/6VZYIRp3cg0/OANMsGJE5oD4VNAUgFVJwEIKEmMMm//OExL0n0j6QANZauJC6SIWOGFdFQVrqgK9dRp0ljSGmstaUGidFTpGl4n6BokLlYQqJL9bsnSqYs/JvIeJqfUMlK7JbKDBGaUIEEvKdX1S9TqptDgJ57JBhIpmfMTexHUaRpGkW5HIcnqajWtvUXPnoZKxX/rUHiAOnSLCqgNDi1P/r/79v/+SCakngALn+IhjxADuYRBJhJAyIMCTIwkRgYsMVGnZqtYK0o/mx7FgSRKTadKRw3hna6TaQ+CrU//OExNAmmZqAANYelDiBBqEAfyEKjUfouNCYIqXZ5lYfhuLmlokW0sn0apNR5FFqtNNMCC5uV4TJPemgCwi7u7qjECkTIlJn0/WsqReuTtL59PcmTXtY+lk9e6mbt1xsW7Ptn6+6g8RsW3y2L0JkQfD9mtyV2ECddjRZX3fy9SQChYjGX22lGZ7w408wSHDh5NWoY8NRgUDjoQThbGzewyd5Yk0+sxOWQ/Jpmk3T3s5ZqTT8OSCvCMnEc+QCQbum//OExOgpmupoANvMuCSCxKwAYgmgoxJ2yt9DjYW6QK4ztvdBat71q2R9uE4/kdvzM5coqkdo6GRz5NGgNhKGAfj2Ia4o7d22wfVml+12q2q7rTNerVc001lv+96a+7fVK1dMNauKYVCT2KesitFpWybz+z1pXfHGuuUICyvxDMyu+cdS8wvzSOmVLcS99sFAeJn37sqHnmy4nJpEgWCzf+geIXlFdkQjZyJkCgI558CDIwYSNxABUXMCB1ou3RXa//OExPQ2IxpoAOZYvD9qOCYs6crrNINZd2mzHtJCgRas2E4oj5UzmB6D9LkoT8VynhQW59RmY6LypYlMcyjN5UPBgWMJi477EIhSKAWkAuIIEoCQMkQRie1GHRf/N9b//+//7455du9/8csplvvvbXcc7Oevd7msca667HG6Dn1Nvhs2xc3c5ZKXEVKf/tmlqnKMCHztjYIBT2xoyAEMYsBZ3EQuTO9E7HHgyjjJXfIbkt2WNls5Ute+rvnlfeJq//OExM4nixJ8ANvWuEYJY7pjTRTkBDdjpeIne1usRtPbsVZ0bXUcQ4c0Ygc8dgynE9J4xhvGKDsPhbCERQ8DiD0fKCJjU32ZS6r7L/vR1rdCpp1E+t1Vs2+kh60FdFCrQTSWdSL5NL5ufNETA+aSXLnQcBoAiEwP/9DHBEdVdMwEZjVA1CAgceAYYRTSaaMSAIwaNTAYARsDhRHoq8CsM4powD3eq13lN23qJVq2+1mLJGkzAe1WIAuZ+hUi1BtS//OExOInys54ANvauKsu4u7rcrfDb3a6sumZnLEpRyzxFlcpRv3DL81i5rogE2jFX1dHcsSfGf8/GNa164/rn5xvf+///6/Hlrqlo1bz7klvFvHw9ng2ibjSRdePS9c4trxa3vCiqiE3MUaeJuFrEG9/73id9AvrU0fInihdiepUYeb/y/0qTlBrYcaYmCkx17qIQUy7rLLiAVDkhhSCo4ANowpx5I3OKOhhDGcMWtW7FFhO7pa8ruxDOOSuah++//OExPUu2yJ0AOPevNPkaIjuFQUiWtFXgkUxyhlmMswlFyIba2wxRuKv6xLF3qZ2ar67eulZ/LQoAZNAHsAmtMl1621P8cfUfzX/////uvbEPc16FmCTHecpR2gvJ2YvmeOd9XSaaT3zKvLodc/M8XDoXQa89ihxaP9QAUoqKp/d66g6EAdTMnRzcV5RAxh2JRgzJ+JlUw0PTuFAAIFBABP/GlJuQzmndunfqw+mBsRAdCKAyY6x3GIhOQMVZUDH//OExOwrgyZ4AN4WvAMSA2oISAcxPCFwuQISDtWMuRce0CVIuMumRMnCHDsETJcTyNRAcyTJJkMTjJkeO4uizCIh8cXOgTxOFg0MEEDRBrrd7u7oIN///6aaVCbopIGBiTizJA0Qu5um1ZuZmTIMZ/aapIHGSTY3QRTTPpoUED6akDSZpkXPFQzMQ9T/6iYXDAHUhj0DeK6aNYfjuCY1WEOJADCdUyKwNCbAo4mKFpofsYGtmnT5gAwAAIyMEL2n//OExPEyYyqAAVuIAF4OZsTA68tmxdRJbSwQ8QEFg4BExYRnMBtHUxAgYVCS5KCgxAigMBQwHhoJ2GmmekZvohILXJJHXyYrQGqDBR4sBBoC1BS0bK3zqjpAYVMSpkQ8cZQi00FWtP64EVd1UDLI44jwspRVi6wqxZtcrhOqpFMNTRiUsortWhx//pZvDku5z/h2T00vpua///7szNzM1Uqdpv/93qWzNXaXHX/+7mNj+fjVrxnLlyX269PM0Nur//OExNpHjCJ8AZvIAGoAlFPYpqa/9utLZyOTcRg7OntWeUte3SV+4clM/IKCnsf/9//y/vec/////6Xm//X/+634/zX///++81r////VPXsZ1VVQJDNuMCpgTuvoZceWhMMYUiIkiT4cQN6EHDpIQMAMB2ARAgcYZU0txVsXmov0HSEuGRzALcDmhgcLpB0ALEGIwvgCEgOhFwgREMKiAgzwywnUdgtwx45guhCUagkpWEF0RCIbJECTHMJUslhA//OExG4v8yqIAdqQAKqRsYomJNIFo+SZcHwXCkTJsSRRIAoZEtEAPk6mfNDA3OM5yyk2bZVb///76lrU6rOZpmCK0abKdrq9d7t3v1Mv2utFSzRJBzqQcLi5kSL//6GAhEumgBwqeGoprAhgOipg47QmFiqBRKhJFhRlDn0CGxwA+ZRQPVVOGbo2A8Vvh59+QxZqyAlKIZKEnSAE5xzPrAX5pStMTEWDdhPRmadqnaqbCEdmZqKsoXNE4k+70NaW//OExGExEoJ8AN5WuEomtKjTqT8YgKrSkIXGI+k8hDQnjvGwfB7D2H8bw+DwLx7EYMATQZGAmE40EIP5PJicW4x1zMkkIYLPQzl/P////1LZ6m+a2JJ5Qbow1I8a0pNrTKAKGwRS4NGafEQiXS97ulWNBYbCORJ0BjQ8BmJAr7iIMVOjAv4AgQKHDCDcEgmfIdAhnlJur7R2HEAM+oGmau4xByz5inLAGE+DhQL4YJJtUoVlUlejdlrQhesNuFSv//OExE8qUbKEAN5elOU5jxTphHs2ns7b0BCKawtsINSU5PjEO1zSXXKrjqiZyalOp04p3BmSygMVCymRiPVOVchjK2s1NRr9xkgYghM6Scn9dnVPBoKgcJJF+uBA7UsIoPoS797khhWOjAg7glEE7iRnwjOMEWCIj7pCTd4RQ+WTMkjNaDNGgNU4EqAb9giCG2gqq9PYugyElOCyxjii6JXMXGQaeiVs6pnvhMG0UZdmZkErkk9LpbT001M2LOcQ//OExFgnut6IANZUuItWa1Ilh35fUFYyCnOC6MG5IJJIQjYXCYwTkcNAWQkBMClCnApDMRY0POIFPYjPU9nY1v/////9DT2No0z3/dGpe1C2HP/S4ncdkSyYyd4IiJ6AIO3wIDhA8YDmEDJWiQky5FBCZcAM1OhzGUANS8R9SYTnVRlo0JGsZ4xMTAKBXqzNnUy40/MRrCXW5TSzc7YlOM3Z7TauX+z2o92q4kZggFYlBaIAXTxVEIQiJFsVRUFo//OExGwnGnaMANYUuGwXArDEKYVwqEo/FQbCAEUwfj8VidyQwldU//////1sYprmlHUoy96nPLlgmZN3tTWgX2bpuLQywaOGzSbEQEiDuyNDUD1ZgaPRHTVNWHGQ5k1AogABgZRsAyIz2D1aEFEvUEBdxO8FIJlInN65TT70M0ExLqKUxvkttXO2KWpneyudsWblSxbmoi8QDwUYfCYFyJYuFsdHqkhMK4rDMRZKNyIPR6LYNIkgtE4FMsK4nkRA//OExIIoAtqIANZUueSFhFEBVnaZ/6////1kxGqoyN5zTJ229TEdEIxXFoZTKMGjgcVMyMWRlvVAgQmZGNGTlIdRIqU2FiEFDScpyrpizI1HcpxqJnTLgwVdo8OXRXSDh39hhfmduBatNLcabuFLjUq8qd/Ozu/jXntVIdvTDukkdwDI8hobEAMcoHS1AnJEWygRSaNgJJmCGNx4EM2HorUMUlyWO5dM9cVx///9///////xaefpRhxOZPK/CsSc//OExJUmym6IAN5WuSMHUfVn9SqnVIbHcHYGdnDTw6gwW1iyU48SbkYZEgcss05JWIZaWkeZpI0KGgQZJJsYMKv2NhoYqouiNDy5H5oHZnbkO2aeW50FqvPZYX/r7wxx1e5T445RnED4BoeAZODYmSTxJRJ5NHeVDuVHcO4dA6g9jpRJ46A9D2CUOodhaTDVF5xKXN6r//////////71GyvToRbqlFFFiqxHO0ofCqaDBwNMz2xJBEI2ZAXOsFiB//OExKwm8m6EANYWuSafwGAyEQIDC48vEYuJAKH5k2CiozmUSz1ZoeaQkau5sjIUkFgS4zJ2+jcpbaR2pTUpaKrVosbFfU9c3fwyuZ2d459lNWdixKHcPpiMzBMaR2kwzcZmJaPw7iOWtH1MfxAh5BMD0AsHsdoJJxkolLDxs27///////////juHsRNCoRtU8xzer2f3brqHJq0cxUkCTHVU2iUMdABBDmtHIjCH3fVO0kBRCBGFhRftjQVACQH//OExMMoGsZ8AN4WuTEBddckMom7lsVPM+ed+18t0Z4l8pehKRqcGGYdl1NDMZj0u39LhW/PVWZ+Zs8q5XN71jl92lqRUDABQFA9AiIws/JQdFiqEmkB0KiAHoqHwkYGwWmIc8w2Zf//////////mEvdaH0MGtIlNca/frXa17StDQmGg1/6UsXQlQoKpiAi51MZ4NGgwRAUw8GUHDIYDgkscQgINAOl60x11+KVJdpagqiAgOI/RRpwfzsuKdUA//OExNUn4sJsAN4QuMoBaCVR3FmRSGt6dXnJW5k+4MBizp9DYYzbAUUbW7UevcZlNR9iB5HQB4E42JRsq2nSawSjZ7TFQgh1k0dgIxOTXNUnyNo+GZJPrRbP7+P///65+a2ti3S3b3ouc5IpNcFVhIiWQ0iCpIRP0J0FRh4CnVINiVo9yMUs1jFSVNqcE+wzTIJOBgRIgGYaEKCjnKBMueldK7YFeJO9MxtzEtUpfldTNmAyyGn5rMOYk+7otNh2//OExOgr+oJIAOvWuFvy2I2dRqfjNjG7Lb09TWs8f3cv2a2NXdbcpwqogxKgVRpVEqSJTOHbzFz+cTAJhLQluix6MUjMkt/7f9q++c9M3ndeY3Xr9nx/KUfM30lVf/yjtJZx343fO/USE78rIvyNd4f4oDUsoZ4FH5lU7dgPGq4z4/d27THNzyBjQljPjG2T6RNWLFMaGI3nLltG8L3ShsrOWRAFcjDYGg0PtoEdihsnNYv2HETbSGqYXXguYVJH//OExOsr6pooAOYMucowYQ4ol27WfWZ/2/iHN8fUk89VtRyPieLQ6gg+YpsX0aHSOixYcDH6PrDBw4+MQVHDrAZ0ScUObMtNV1zPFFlVIUHZhRjFFh4mVoFTCG7QGqChNceGCPo9Eo46CwRCQou1xyVySbi0OqcQGFcwWCIKA2oChIoqNcDM3GHncOsYbeIO9N5uk61NfoJG/i8XReNzYfLoQ4ZHqls8V+uQ2D5xatS0OlfsUszViFchN1tEsRuH//OExO4sTCoUANJG3VLrM/dQjirdr3Oeit2oWs0R0/8vPO599hTNXROZ1xbSj7MyV93zSpQSEoJlLepi4zNRVSBE6K3EUWoK6JbUC5PZ7N0AoEnIyikS7pwl23Drpq1VESrn92XeSpElR+U0WjnbmsStLCclBMnZKInJ57nGuR3Wo0w2zNEUkH5VE0Lmu9Hb0unflf6prXKeUzV/KL2azZYG2wsVKDCFZYhJMPIVlk1ERGWI5kpcta6ZE5pzROke//OExO8uHBIIANMM3VFiJ7IoPtVIP+9SpcgQxyS8JQSpC+qR42pQ67TMFUx+5HTos6w2sYaVqSSg4IxkSVZC8EJOsstjkS55ur1k9uhuyejepLnJyLg7aQKRylTDTEcvCxT+7mE4bZKjHXraUlpt+T9uY2ym5TzjZQ3WPQ3ohzSZv8lXZvtsiTqfVQNVKWva/Mqlv8JRnrO7cnYnDNBcr0aOZsyFXrMpqNGA4R9q16UFxI2iikhTbMh4CxGysXRm//OExOktVDH4ANJM3awJuiLY5FuRsSTOto2ksOmLNtwUJXIFzTapOu5OAHg0zaSpaiBGznKk9voTutpKaSAZ6KTdLlT3YuOWxWvsuUn1td78oOBo+iyi5Kj2PMvlIkK5dlwYYSjjDWPurlYk1YHOVSyDJEji6wlzMgHEJpUdtui6OsTLIRCREhmxXhFEvKTO3TXpFgUrmZVfqfSZfW3rKxUrUOq16W0ir3QJzX0wpBEuPkpGhHjlkMBUi8A2gQIy//OExOYuxDH0ANJM3WIsgyRNtMtGWVILyUJGmGYoTVI25KNZvY5SLLUUSZ1oxkjz7WYhjZazHWUgjmViNU5twUhHZmmdMnCNNO8ttqNi6VOEnK0qXVkoY4d4rC43vFKZAPlm+7ZdJ5rnnN3pmzkNay6gln21/HRaDSvBffEXe+uDogjD6fq3fSb0+zHwsxWqCoA1L5gt0FpzBTqMi+YG7zJ6jDmF0dEBvFSWTiNCQIEmGl1CeOuQOTjvYSNLFlVI//OExN4rXDn4ANJM3K5E0TooozjMYpF0EVEOUrMg3oHqqtRZGHGbhwrt3AicHoA5FpQkim3JCVLizBKejGLM5IuavLSPdJ7qPVPojppkNi2GYBcxoBQSzaKjrFOzTdSCQhnpKpGxeYJgZ7Dky3Y8QSBjruvzaUqOGdwqBEQ6qPTW2atahuQv9JJE/sokUMyh3qGvDty2hWbZInIriqysikQhlyzU4pExEaQweQs6hKgi6UaavlgSNRVQuWa/jGOW//OExOMnVCH8AKJG3YY+44sKkUveLComRIig6NKFrgWOJBScTTetQvBR2UcSykmwdK0q0UctNMitcqSaMWVhppnKOaVKOVFUkVi1rmocVNhiWZ1RrJFbJNVataVdjryhb1gWOlTdVUVNiRW1WotV+RWmvybWL2lRhtbCxzBVNOAKQhRQwxQghA9Mxb7FWIt2ct7JFyZoJXfxxrLuJiE4kmkmo27fK8aVSulSE4vDrEJYuupNh5KKhCHg8XQI2GkK//OExPgtbDHsAMJQ3SKlUl4N5sZVdXV+6lGrqKxZhVxebNO7f/////1LO7O15Ut//lGnFlxcaiSNKa4vEiJxZZh6CyIMJFAQsgmpJE40sy43Kminjcqad43NmjSirjcqTizSrjc3//////////G/9SzvF5snGlFHxakiJxZMQU1FMy4xMDCqqqqqqqqqqqqqqqqqqqqqqqqqqqqqqqqqqqqqqqqqqqqqqqqqqqqqqqqqqqqqqqqqqqqqqqqqqqqq//OExPUsfDlEAMpM3Kqqqqqqqqqqqqqqqqqqqqqqqqqqqqqqqqqqqqqqqqqqqqqqqqqqqqqqqqqqqqqqqqqqqqqqqqqqqqqqqqqqqqqqqqqqqqqqqqqqqqqqqqqqqqqqqqqqqqqqqqqqqqqqqqqqqqqqqqqqqqqqqqqqqqqqqqqqqqqqqqqqqqqqqqqqqqqqqqqqqqqqqqqqqqqqqqqqqqqqqqqqqqqqqqqqqqqqqqqqqqqqqqqqqqqqqqqqqqqq\" type=\"audio/mpeg\" />\n",
              "                    Your browser does not support the audio element.\n",
              "                </audio>\n",
              "              "
            ]
          },
          "metadata": {}
        },
        {
          "output_type": "display_data",
          "data": {
            "text/plain": [
              "<IPython.lib.display.Audio object>"
            ],
            "text/html": [
              "\n",
              "                <audio  controls=\"controls\" autoplay=\"autoplay\">\n",
              "                    <source src=\"data:audio/mpeg;base64,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\" type=\"audio/mpeg\" />\n",
              "                    Your browser does not support the audio element.\n",
              "                </audio>\n",
              "              "
            ]
          },
          "metadata": {}
        },
        {
          "output_type": "display_data",
          "data": {
            "text/plain": [
              "<IPython.lib.display.Audio object>"
            ],
            "text/html": [
              "\n",
              "                <audio  controls=\"controls\" autoplay=\"autoplay\">\n",
              "                    <source src=\"data:audio/mpeg;base64,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\" type=\"audio/mpeg\" />\n",
              "                    Your browser does not support the audio element.\n",
              "                </audio>\n",
              "              "
            ]
          },
          "metadata": {}
        },
        {
          "output_type": "display_data",
          "data": {
            "text/plain": [
              "<IPython.lib.display.Audio object>"
            ],
            "text/html": [
              "\n",
              "                <audio  controls=\"controls\" autoplay=\"autoplay\">\n",
              "                    <source src=\"data:audio/mpeg;base64,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\" type=\"audio/mpeg\" />\n",
              "                    Your browser does not support the audio element.\n",
              "                </audio>\n",
              "              "
            ]
          },
          "metadata": {}
        },
        {
          "output_type": "display_data",
          "data": {
            "text/plain": [
              "<IPython.lib.display.Audio object>"
            ],
            "text/html": [
              "\n",
              "                <audio  controls=\"controls\" autoplay=\"autoplay\">\n",
              "                    <source src=\"data:audio/mpeg;base64,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\" type=\"audio/mpeg\" />\n",
              "                    Your browser does not support the audio element.\n",
              "                </audio>\n",
              "              "
            ]
          },
          "metadata": {}
        },
        {
          "output_type": "display_data",
          "data": {
            "text/plain": [
              "<IPython.lib.display.Audio object>"
            ],
            "text/html": [
              "\n",
              "                <audio  controls=\"controls\" autoplay=\"autoplay\">\n",
              "                    <source src=\"data:audio/mpeg;base64,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\" type=\"audio/mpeg\" />\n",
              "                    Your browser does not support the audio element.\n",
              "                </audio>\n",
              "              "
            ]
          },
          "metadata": {}
        }
      ]
    },
    {
      "cell_type": "markdown",
      "metadata": {
        "id": "3UTLuSAp8GGY"
      },
      "source": [
        "--------"
      ]
    },
    {
      "cell_type": "markdown",
      "metadata": {
        "id": "fmU7O8WS8GGY"
      },
      "source": [
        "### **[연산자]**"
      ]
    },
    {
      "cell_type": "markdown",
      "metadata": {
        "id": "eRCyhgwS8GGY"
      },
      "source": [
        "### 실습문제 :  동전 교환 프로그램\n",
        "동전교환 프로그램을 작성하세요"
      ]
    },
    {
      "cell_type": "code",
      "execution_count": null,
      "metadata": {
        "id": "g8A7ErL78GGY",
        "colab": {
          "base_uri": "https://localhost:8080/"
        },
        "outputId": "8d5e0a74-0156-4e27-a227-30896e3f566b"
      },
      "outputs": [
        {
          "output_type": "stream",
          "name": "stdout",
          "text": [
            "---동전교환기 프로그램을 작동합니다.---\n",
            "금액을 입력하세요: 4321\n",
            "====================\n",
            "500원짜리 ==> 8개\n",
            "100원짜리 ==> 3개\n",
            "50원짜리 ==> 0개\n",
            "10원짜리 ==> 2개\n",
            "잔돈 ==> 1원\n"
          ]
        }
      ],
      "source": [
        "# 키보드로부터 금액 입력 받기\n",
        "print('---동전교환기 프로그램을 작동합니다.---')\n",
        "money = int( input('금액을 입력하세요: '))\n",
        "\n",
        "save = 0\n",
        "i_500 = money // 500\n",
        "save = money - 500 * i_500\n",
        "i_100 = save // 100\n",
        "save = save - 100 * i_100\n",
        "i_50 = save // 50\n",
        "save = save - 50 * i_50\n",
        "i_10 = save // 10\n",
        "save = save - 10 * i_10\n",
        "\n",
        "print(f'='*20)\n",
        "print(f'500원짜리 ==> {i_500}개')\n",
        "print(f'100원짜리 ==> {i_100}개')\n",
        "print(f'50원짜리  ==> {i_50}개')\n",
        "print(f'10원짜리  ==> {i_10}개')\n",
        "print(f'잔돈      ==> {save}원')"
      ]
    },
    {
      "cell_type": "code",
      "source": [
        "print('---동전교환기 프로그램을 작동합니다.---')\n",
        "money = int( input('금액을 입력하세요: '))\n",
        "print('-' * 30)\n",
        "print(f'500원짜리 ==> {money//500}개')\n",
        "money = money%500\n",
        "print(f'100원짜리 ==> {money//100}개')\n",
        "money = money%100\n",
        "print(f' 50원짜리 ==> {money//50}개')\n",
        "money = money%50\n",
        "print(f' 10원짜리 ==> {money//10}개')\n",
        "money = money%10\n",
        "print(f'잔돈      ==> {money}원')"
      ],
      "metadata": {
        "colab": {
          "base_uri": "https://localhost:8080/"
        },
        "id": "H_s26iyaj3JL",
        "outputId": "00f49298-4c1a-4564-d2d5-6a27601492d6"
      },
      "execution_count": null,
      "outputs": [
        {
          "output_type": "stream",
          "name": "stdout",
          "text": [
            "---동전교환기 프로그램을 작동합니다.---\n",
            "금액을 입력하세요: 4321\n",
            "------------------------------\n",
            "500원짜리 ==> 8개\n",
            "100원짜리 ==> 3개\n",
            " 50원짜리 ==> 0개\n",
            " 10원짜리 ==> 2개\n",
            "잔돈      ==> 1원\n"
          ]
        }
      ]
    },
    {
      "cell_type": "code",
      "source": [
        "print('---동전교환기 프로그램을 작동합니다.---')\n",
        "money = int( input('금액을 입력하세요: '))\n",
        "print('-' * 30)\n",
        "\n",
        "coins = [500, 100, 50, 10]\n",
        "\n",
        "for coin in coins:\n",
        "    print(f'{coin}원짜리 ==> {money//coin}개')\n",
        "    money = money % coin\n",
        "\n",
        "print(f'잔돈    ==> {money}원')"
      ],
      "metadata": {
        "colab": {
          "base_uri": "https://localhost:8080/"
        },
        "id": "uq38q6VEj8-q",
        "outputId": "26d30dc1-3f15-4bed-90b7-16d142fd1b19"
      },
      "execution_count": null,
      "outputs": [
        {
          "output_type": "stream",
          "name": "stdout",
          "text": [
            "---동전교환기 프로그램을 작동합니다.---\n",
            "금액을 입력하세요: 5382\n",
            "------------------------------\n",
            "500원짜리 ==> 10개\n",
            "100원짜리 ==> 3개\n",
            "50원짜리 ==> 1개\n",
            "10원짜리 ==> 3개\n",
            "잔돈    ==> 2원\n"
          ]
        }
      ]
    },
    {
      "cell_type": "markdown",
      "source": [
        "### 실습문제 : 비교 연산자를 이용한 상품 필터링하기\n",
        "아래 상품 딕셔너리에서 가격이 1000 이하인 상품을 필터링하고 상품과 해당 가격을 출력하시오."
      ],
      "metadata": {
        "id": "7GL-zafcQwDq"
      }
    },
    {
      "cell_type": "code",
      "source": [
        "# 상품 가격을 가진 사전\n",
        "products = { \"apple\": 1000, \"banana\": 800, \"cherry\": 1500,\n",
        "            \"date\": 1200, \"elderberry\": 2000 }\n",
        "\n",
        "# 가격이 1000 이하인 상품 필터링\n",
        "print('가격이 1000 이하인 상품 필터링')\n",
        "print('-' * 30)\n",
        "\n",
        "for (index, value) in products.items():\n",
        "    if value <= 1000:\n",
        "        print(f'상품명: {index}, 가격: {value}')\n"
      ],
      "metadata": {
        "id": "78IAx7VkQwW_",
        "colab": {
          "base_uri": "https://localhost:8080/"
        },
        "outputId": "d260d61e-6cf6-49e9-eedd-d7cd1b565916"
      },
      "execution_count": null,
      "outputs": [
        {
          "output_type": "stream",
          "name": "stdout",
          "text": [
            "가격이 1000 이하인 상품 필터링\n",
            "------------------------------\n",
            "상품명: apple, 가격: 1000\n",
            "상품명: banana, 가격: 800\n"
          ]
        }
      ]
    },
    {
      "cell_type": "markdown",
      "metadata": {
        "id": "0SWp1LN08GGY"
      },
      "source": [
        "------"
      ]
    },
    {
      "cell_type": "markdown",
      "metadata": {
        "id": "x4FIhV_y8GGZ"
      },
      "source": [
        "## 3.조건문과 반목문으로 흐름 제어하기"
      ]
    },
    {
      "cell_type": "markdown",
      "metadata": {
        "id": "LPe_skHf8GGZ"
      },
      "source": [
        "### **[조건문]**"
      ]
    },
    {
      "cell_type": "markdown",
      "source": [
        "#### 조건문 구조 4개"
      ],
      "metadata": {
        "id": "HIFAD_kqX1uL"
      }
    },
    {
      "cell_type": "code",
      "source": [
        "# 조건식1: if 조건식\n",
        "a = 99\n",
        "if a < 100 :\n",
        "    print('a는 100보다 작군요')"
      ],
      "metadata": {
        "id": "d9jDMOjbX4hu",
        "colab": {
          "base_uri": "https://localhost:8080/"
        },
        "outputId": "056bebc5-1b53-4595-8ecb-0093fd28ba61"
      },
      "execution_count": null,
      "outputs": [
        {
          "output_type": "stream",
          "name": "stdout",
          "text": [
            "a는 100보다 작군요\n"
          ]
        }
      ]
    },
    {
      "cell_type": "code",
      "source": [
        "# 조건식2: if ~ else\n",
        "a = 200\n",
        "if a > 100:\n",
        "    print('a는 100보다 크군요')\n",
        "else:\n",
        "    print('a는 100보다 크지 않군요')"
      ],
      "metadata": {
        "id": "9ehdd_YIYEus",
        "colab": {
          "base_uri": "https://localhost:8080/"
        },
        "outputId": "4fe56050-b2ac-42d4-e4f2-c7028ff15253"
      },
      "execution_count": null,
      "outputs": [
        {
          "output_type": "stream",
          "name": "stdout",
          "text": [
            "a는 100보다 크군요\n"
          ]
        }
      ]
    },
    {
      "cell_type": "code",
      "source": [
        "# 조건문3: 중첩 if - 조건문 안에 조건문\n",
        "a = 200\n",
        "if a > 100:\n",
        "    if a > 200 :\n",
        "        print('a는 200보다 크군요')\n",
        "    else:\n",
        "        print('a는 200보다 작거나 같군요')\n",
        "else:\n",
        "    print('a는 100보다 크지 않군요')"
      ],
      "metadata": {
        "id": "nOi_cwzoYE2u",
        "colab": {
          "base_uri": "https://localhost:8080/"
        },
        "outputId": "63b20e9c-b2e6-4c5d-eaaf-f35489cab389"
      },
      "execution_count": null,
      "outputs": [
        {
          "output_type": "stream",
          "name": "stdout",
          "text": [
            "a는 200보다 작거나 같군요\n"
          ]
        }
      ]
    },
    {
      "cell_type": "code",
      "source": [
        "# 조건문4: 다중 조건문\n",
        "pocket = ['money', 'handphone']\n",
        "card = False\n",
        "\n",
        "if 'money' in pocket:\n",
        "    print(f'돈 내고 택시를 타고 가라')\n",
        "elif card:\n",
        "    print(f'{card} 택시를 타고 가라')\n",
        "else:\n",
        "    print('걸어가라')\n",
        "\n"
      ],
      "metadata": {
        "id": "T_P0EQFeYFBE",
        "colab": {
          "base_uri": "https://localhost:8080/"
        },
        "outputId": "d76743cf-3150-42ff-dc12-52dcf03b611c"
      },
      "execution_count": null,
      "outputs": [
        {
          "output_type": "stream",
          "name": "stdout",
          "text": [
            "돈 내고 택시를 타고 가라\n"
          ]
        }
      ]
    },
    {
      "cell_type": "markdown",
      "metadata": {
        "id": "Io13oQKLhgph"
      },
      "source": [
        "#### 조건부 표현식"
      ]
    },
    {
      "cell_type": "code",
      "execution_count": null,
      "metadata": {
        "id": "h0V6WqWchnTA",
        "colab": {
          "base_uri": "https://localhost:8080/"
        },
        "outputId": "a4199567-da6d-43d6-ae11-3b7f3e33a278"
      },
      "outputs": [
        {
          "output_type": "stream",
          "name": "stdout",
          "text": [
            "점수를 입력하세요: 80\n",
            "success!\n"
          ]
        }
      ],
      "source": [
        "score = int(input('점수를 입력하세요: '))\n",
        "message = \"success!\" if score >=60 else \"failure!\"\n",
        "print(message)"
      ]
    },
    {
      "cell_type": "markdown",
      "metadata": {
        "id": "Ar6JKwtB8GGZ"
      },
      "source": [
        "#### 실습문제 : 짝수 홀수 판별하기\n",
        "숫자를 입력 받아 짝수/홀수를 판별하는 코드를 만들어 보세요."
      ]
    },
    {
      "cell_type": "code",
      "execution_count": null,
      "metadata": {
        "id": "09w2BCcN8GGZ",
        "colab": {
          "base_uri": "https://localhost:8080/"
        },
        "outputId": "c6ab10be-7562-4a80-ded8-a6653b458088"
      },
      "outputs": [
        {
          "output_type": "stream",
          "name": "stdout",
          "text": [
            "숫자를 입력해 주세요: 51\n",
            "홀수\n"
          ]
        }
      ],
      "source": [
        "x = int(input('숫자를 입력해 주세요: '))\n",
        "\n",
        "# print(f'입력된 수 : {x} ==> {\"짝수\" if x % 2 == 0 else \"홀수\"}')\n",
        "\n",
        "print('짝수') if x % 2 == 0 else print('홀수')\n"
      ]
    },
    {
      "cell_type": "markdown",
      "metadata": {
        "id": "3SDdg7Aeg7MW"
      },
      "source": [
        "### 실습문제 : 커피 자판기 조건문\n",
        "아래 조건을 만족하는 커피 자동주문 머신을 만들어보세요.<br><br>\n",
        "[커피 자동주문 머신]<br>\n",
        "친구들과 현금 커피 자동주문 머신 앞에서\n",
        " - 아메리카노 2잔과 카페라테 2잔 카푸치노 1잔을 주문하였다.\n",
        " - 아메리카노 한잔에 2500원이고\n",
        " - 카페라테는 한잔에 3000원\n",
        " - 카푸치노는 한잔에 3000원이다.\n",
        "커피 종류와 잔 수를 결정한 후 현금 15000원을 투입하고 잔돈을 1000원 받았다."
      ]
    },
    {
      "cell_type": "code",
      "execution_count": null,
      "metadata": {
        "id": "BZlOMJHKg7dN",
        "colab": {
          "base_uri": "https://localhost:8080/"
        },
        "outputId": "4dab2a27-4628-48a7-c39d-00b339a11b04"
      },
      "outputs": [
        {
          "output_type": "stream",
          "name": "stdout",
          "text": [
            "[커피 자동주문 머신 메뉴]\n",
            "------------------------------\n",
            "-아메리카노는 2500원\n",
            "-카레라떼는 3000원\n",
            "-카푸치노는 3000원\n",
            "입니다. 원하시는 커피종류와 잔수를 입력하세요.\n",
            "------------------------------\n",
            "Americano 몇잔?5\n",
            "CaffeLatte 몇잔?5\n",
            "Cappuccino 몇잔?5\n",
            "지불할 총 금액은 42500원 입니다.\n",
            "돈을 넣어주세요: 50000\n",
            "거스름돈은 7500원 입니다.\n"
          ]
        }
      ],
      "source": [
        "menu = '''[커피 자동주문 머신 메뉴]\n",
        "------------------------------\n",
        "-아메리카노는 2500원\n",
        "-카레라떼는 3000원\n",
        "-카푸치노는 3000원\n",
        "입니다. 원하시는 커피종류와 잔수를 입력하세요.\n",
        "------------------------------'''\n",
        "print(menu)\n",
        "\n",
        "menu1 = {'Americano': 2500, 'CaffeLatte': 3000, 'Cappuccino': 3000}\n",
        "total_price = 0\n",
        "\n",
        "for coffee, price in menu1.items():\n",
        "    total_price += price * int(input(f'{coffee} 몇잔? '))\n",
        "\n",
        "print(f'지불할 총 금액은 {total_price}원 입니다.')\n",
        "receive_money = int(input('돈을 넣어주세요: '))\n",
        "gap = total_price - receive_money\n",
        "\n",
        "\n",
        "if gap > 0:\n",
        "    print(f'입력한 금액이 부족합니다. {gap}원을 더 넣어주세요.')\n",
        "else:\n",
        "    print(f'거스름돈은 {-gap}원 입니다.')\n",
        "\n"
      ]
    },
    {
      "cell_type": "code",
      "source": [
        "# Coffee prices\n",
        "prices = {\n",
        "    \"Americano\": 2500,\n",
        "    \"CaffeLatte\": 3000,\n",
        "    \"Cappuccino\": 3000\n",
        "}\n",
        "\n",
        "# Display the coffee menu\n",
        "print(\"[커피 자동주문 머신 메뉴]\")\n",
        "print(\"----------------------------\")\n",
        "for coffee, price in prices.items():\n",
        "    print(f\"- {coffee}는 {price}원\")\n",
        "print(f'입니다. 원하시는 커피종류와 잔수를 입력하세요.')\n",
        "print(\"----------------------------\")\n",
        "\n",
        "# Prompt the user for the number of each type of coffee\n",
        "americano_qty = int(input(\"아메리카노 몇잔? \"))\n",
        "caffe_latte_qty = int(input(\"카페라떼 몇잔? \"))\n",
        "cappuccino_qty = int(input(\"카푸치노 몇잔? \"))\n",
        "\n",
        "# Calculate total amount\n",
        "total_amount = (americano_qty * prices[\"Americano\"] +\n",
        "                caffe_latte_qty * prices[\"CaffeLatte\"] +\n",
        "                cappuccino_qty * prices[\"Cappuccino\"])\n",
        "\n",
        "print(f\"지불할 총 금액은 {total_amount}원 입니다.\")\n",
        "\n",
        "# Accept the amount paid by the user\n",
        "paid_amount = int(input(\"돈을 넣어주세요: \"))\n",
        "\n",
        "# Check if the amount paid is enough\n",
        "if paid_amount >= total_amount:\n",
        "    change = paid_amount - total_amount\n",
        "    print(f\"거스름돈은 {change}원 입니다.\")\n",
        "else:\n",
        "    shortage = total_amount - paid_amount\n",
        "    print(f\"입력한 금액이 부족합니다. {shortage}원을 더 넣어주세요.\")\n"
      ],
      "metadata": {
        "colab": {
          "base_uri": "https://localhost:8080/"
        },
        "id": "yjFQpbVAQ-XW",
        "outputId": "ade2c7a8-573b-414a-ed79-71b93ed74469"
      },
      "execution_count": null,
      "outputs": [
        {
          "output_type": "stream",
          "name": "stdout",
          "text": [
            "[커피 자동주문 머신 메뉴]\n",
            "----------------------------\n",
            "- Americano는 2500원\n",
            "- CaffeLatte는 3000원\n",
            "- Cappuccino는 3000원\n",
            "입니다. 원하시는 커피종류와 잔수를 입력하세요.\n",
            "----------------------------\n",
            "아메리카노 몇잔? 5\n",
            "카페라떼 몇잔? 5\n",
            "카푸치노 몇잔? 5\n",
            "2500\n",
            "지불할 총 금액은 42500원 입니다.\n",
            "돈을 넣어주세요: 50000\n",
            "거스름돈은 7500원 입니다.\n"
          ]
        }
      ]
    },
    {
      "cell_type": "markdown",
      "metadata": {
        "id": "4RoolGBF8GGa"
      },
      "source": [
        "\n",
        "------"
      ]
    },
    {
      "cell_type": "markdown",
      "metadata": {
        "id": "G2T6Nybt8GGa"
      },
      "source": [
        "### **[반복문]**"
      ]
    },
    {
      "cell_type": "markdown",
      "metadata": {
        "id": "HuWJNA-T8GGa"
      },
      "source": [
        "### 실습문제 : 1~N까지 합계 구하기\n",
        "숫자를 입력받아 1~n까지의 합을 구할 때 짝수를 제외하고 합을 구하는 프로그램을 만들어 보세요."
      ]
    },
    {
      "cell_type": "code",
      "execution_count": 6,
      "metadata": {
        "id": "t4NbQOOe8GGa",
        "colab": {
          "base_uri": "https://localhost:8080/"
        },
        "outputId": "d0c5f734-c3c8-4a5b-960c-4deefb2d62ff"
      },
      "outputs": [
        {
          "output_type": "stream",
          "name": "stdout",
          "text": [
            "합계를 구할 숫자 입력:10\n",
            "1 ~  10까지 짝수를 제외한 합은:  25\n"
          ]
        }
      ],
      "source": [
        "n = int(input('합계를 구할 숫자 입력:'))\n",
        "hap = 0\n",
        "\n",
        "for i in range(1, n+1, 2):\n",
        "    hap += i\n",
        "\n",
        "print(f'1 ~ {n: ,}까지 짝수를 제외한 합은: {int(hap): ,}')\n"
      ]
    },
    {
      "cell_type": "code",
      "source": [
        "n = int(input('합계를 구할 숫자 입력:'))\n",
        "hap = sum([i for i in range(1, n+1, 2)])\n",
        "\n",
        "print(f'1 ~ {n: ,}까지 짝수를 제외한 합은: {hap: ,}')"
      ],
      "metadata": {
        "colab": {
          "base_uri": "https://localhost:8080/"
        },
        "id": "xNuXnHwF79NY",
        "outputId": "f37def96-cb63-40af-8ff6-ce21d2d440ed"
      },
      "execution_count": 9,
      "outputs": [
        {
          "output_type": "stream",
          "name": "stdout",
          "text": [
            "합계를 구할 숫자 입력:1000\n",
            "1 ~  1,000까지 짝수를 제외한 합은:  250,000\n"
          ]
        }
      ]
    },
    {
      "cell_type": "code",
      "source": [
        "n = int(input('합계를 구할 숫자 입력:'))\n",
        "hap = 0\n",
        "\n",
        "for i in range(1, n+1):\n",
        "    if i % 2 == 1:\n",
        "        hap += i\n",
        "hap += i for i in range(1, n+1) if i % 2 == 1\n",
        "print(f'1 ~ {n: ,}까지 짝수를 제외한 합은: {int(hap): ,}')\n"
      ],
      "metadata": {
        "id": "LuTmW1X256id"
      },
      "execution_count": null,
      "outputs": []
    },
    {
      "cell_type": "code",
      "source": [
        "# Get input from the user\n",
        "n = int(input('합계를 구할 숫자 입력: '))\n",
        "\n",
        "# Initialize sum variable\n",
        "hap = 0\n",
        "\n",
        "# Loop through numbers from 1 to n\n",
        "for i in range(1, n+1):\n",
        "    # Exclude even numbers (짝수)\n",
        "    if i % 2 != 0:\n",
        "        hap += i\n",
        "\n",
        "# Display the result\n",
        "print(f'1 ~ {n}까지 짝수를 제외한 합은: {hap}')\n"
      ],
      "metadata": {
        "colab": {
          "base_uri": "https://localhost:8080/"
        },
        "id": "SQtuRGRRgCtE",
        "outputId": "e79fc981-13aa-4472-ecd3-e2f5d66d2750"
      },
      "execution_count": null,
      "outputs": [
        {
          "output_type": "stream",
          "name": "stdout",
          "text": [
            "합계를 구할 숫자 입력: 101\n",
            "1 ~ 101까지 짝수를 제외한 합은: 2601\n"
          ]
        }
      ]
    },
    {
      "cell_type": "code",
      "source": [
        "n = int(input('합계를 구할 숫자 입력:'))\n",
        "print(f'1 ~ {n: ,}까지 짝수를 제외한 합은: {sum([i for i in range(1, n+1, 2)]): ,}')"
      ],
      "metadata": {
        "colab": {
          "base_uri": "https://localhost:8080/"
        },
        "id": "bRJ8hgLq8ZzD",
        "outputId": "d4d377c6-4982-4421-9623-47837cd43235"
      },
      "execution_count": 10,
      "outputs": [
        {
          "output_type": "stream",
          "name": "stdout",
          "text": [
            "합계를 구할 숫자 입력:1000\n",
            "1 ~  1,000까지 짝수를 제외한 합은:  250,000\n"
          ]
        }
      ]
    },
    {
      "cell_type": "markdown",
      "metadata": {
        "id": "p7P0Vy-XjIBz"
      },
      "source": [
        "### 실습문제 : 나무 열 번 찍어 넘기기"
      ]
    },
    {
      "cell_type": "code",
      "execution_count": null,
      "metadata": {
        "id": "A1OSHn1tjNE5",
        "colab": {
          "base_uri": "https://localhost:8080/"
        },
        "outputId": "17efb278-a87f-4507-8529-d9fd05f5dc12"
      },
      "outputs": [
        {
          "output_type": "stream",
          "name": "stdout",
          "text": [
            "나무를 1번 찍었습니다.\n",
            "나무를 2번 찍었습니다.\n",
            "나무를 3번 찍었습니다.\n",
            "나무를 4번 찍었습니다.\n",
            "나무를 5번 찍었습니다.\n",
            "나무를 6번 찍었습니다.\n",
            "나무를 7번 찍었습니다.\n",
            "나무를 8번 찍었습니다.\n",
            "나무를 9번 찍었습니다.\n",
            "나무를 10번 찍었습니다.\n",
            "나무 넘어 갑니다~\n"
          ]
        }
      ],
      "source": [
        "treeHit = 0\n",
        "\n",
        "for i in range(1, 11):\n",
        "    print(f'나무를 {i}번 찍었습니다.')\n",
        "\n",
        "print('나무 넘어 갑니다~')"
      ]
    },
    {
      "cell_type": "code",
      "source": [
        "treeHit = 0\n",
        "\n",
        "while True:\n",
        "    treeHit += 1\n",
        "    print(f'나무를 {treeHit: >2}번 찍었습니다.')\n",
        "    if treeHit == 10:\n",
        "        break\n",
        "\n",
        "print('나무 넘어 갑니다~')"
      ],
      "metadata": {
        "colab": {
          "base_uri": "https://localhost:8080/"
        },
        "id": "NW_Low6n-RYh",
        "outputId": "923cfe9c-21b9-48c5-8a3c-fe9807aea6f5"
      },
      "execution_count": 17,
      "outputs": [
        {
          "output_type": "stream",
          "name": "stdout",
          "text": [
            "나무를 1번 찍었습니다.\n",
            "나무를 2번 찍었습니다.\n",
            "나무를 3번 찍었습니다.\n",
            "나무를 4번 찍었습니다.\n",
            "나무를 5번 찍었습니다.\n",
            "나무를 6번 찍었습니다.\n",
            "나무를 7번 찍었습니다.\n",
            "나무를 8번 찍었습니다.\n",
            "나무를 9번 찍었습니다.\n",
            "나무를10번 찍었습니다.\n",
            "나무 넘어 갑니다~\n"
          ]
        }
      ]
    },
    {
      "cell_type": "markdown",
      "metadata": {
        "id": "iPCnjI9UkoHr"
      },
      "source": [
        "### 실습문제 :  커피 자동주문 프로그램 업그레이드\n",
        "앞에서 만들어 본 커피 자동주문 머신 프로그램을 while문을 이용하여 돈을 모두 지불할 때까지 돈을 입력 받도록 프로그램 기능 수정하기"
      ]
    },
    {
      "cell_type": "code",
      "execution_count": 2,
      "metadata": {
        "id": "HtKho6P3kxtS",
        "colab": {
          "base_uri": "https://localhost:8080/"
        },
        "outputId": "1f43cb83-5c37-4dfb-9b69-905162307da4"
      },
      "outputs": [
        {
          "output_type": "stream",
          "name": "stdout",
          "text": [
            "[커피 자동주문 머신 메뉴]\n",
            "------------------------------\n",
            "-아메리카노는 2500원\n",
            "-카레라떼는 3000원\n",
            "-카푸치노는 3000원\n",
            "입니다. 원하시는 커피종류와 잔수를 입력하세요.\n",
            "------------------------------\n",
            "Americano 몇잔? 5\n",
            "CaffeLatte 몇잔? 5\n",
            "Cappuccino 몇잔? 5\n",
            "지불할 총 금액은 42,500원 입니다.\n",
            "----------------------------\n",
            "돈을 넣어주세요: 40000\n",
            "입력한 금액이 부족합니다.  2,500원을 더 넣어주세요: 5000\n",
            "----------------------------\n",
            "거스름돈은  2,500원 입니다.\n"
          ]
        }
      ],
      "source": [
        "menu = '''[커피 자동주문 머신 메뉴]\n",
        "------------------------------\n",
        "-아메리카노는 2500원\n",
        "-카레라떼는 3000원\n",
        "-카푸치노는 3000원\n",
        "입니다. 원하시는 커피종류와 잔수를 입력하세요.\n",
        "------------------------------'''\n",
        "print(menu)\n",
        "\n",
        "menu1 = {'Americano': 2500, 'CaffeLatte': 3000, 'Cappuccino': 3000}\n",
        "total_price = 0\n",
        "\n",
        "for coffee, price in menu1.items():\n",
        "    total_price += price * int(input(f'{coffee} 몇잔? '))\n",
        "\n",
        "print(f'지불할 총 금액은 {total_price:,}원 입니다.')\n",
        "print(\"----------------------------\")\n",
        "receive_money = int(input('돈을 넣어주세요: '))\n",
        "gap_money = total_price - receive_money\n",
        "\n",
        "\n",
        "while gap_money > 0:\n",
        "    gap_money -=int(input(f'입력한 금액이 부족합니다. {gap_money: ,}원을 더 넣어주세요: '))\n",
        "    print(\"----------------------------\")\n",
        "\n",
        "if gap_money < 0:\n",
        "    print(f'거스름돈은 {-gap_money: ,}원 입니다.')\n",
        "else:\n",
        "    print(f'정확히 계산하셨습니다. 감사합니다. 안녕히 가세요.')"
      ]
    },
    {
      "cell_type": "code",
      "source": [
        "\n",
        "# Coffee prices\n",
        "prices = {\n",
        "    \"Americano\": 2500,\n",
        "    \"CaffeLatte\": 3000,\n",
        "    \"Cappuccino\": 3000\n",
        "}\n",
        "\n",
        "# Display the coffee menu\n",
        "print(\"[커피 자동주문 머신 메뉴]\")\n",
        "print(\"----------------------------\")\n",
        "for coffee, price in prices.items():\n",
        "    print(f\"- {coffee}는 {price}원\")\n",
        "\n",
        "# Prompt the user for the number of each type of coffee\n",
        "americano_qty = int(input(\"아메리카노 몇잔? \"))\n",
        "caffe_latte_qty = int(input(\"카페라떼 몇잔? \"))\n",
        "cappuccino_qty = int(input(\"카푸치노 몇잔? \"))\n",
        "\n",
        "# Calculate total amount\n",
        "total_amount = (americano_qty * prices[\"Americano\"] +\n",
        "                caffe_latte_qty * prices[\"CaffeLatte\"] +\n",
        "                cappuccino_qty * prices[\"Cappuccino\"])\n",
        "\n",
        "print(f\"지불할 총 금액은 {total_amount}원 입니다.\")\n",
        "\n",
        "# Initialize the amount paid to 0\n",
        "paid_amount = 0\n",
        "\n",
        "# Use a while loop to ensure enough money is input\n",
        "while paid_amount < total_amount:\n",
        "    additional_amount = int(input(f\"돈을 넣어주세요. 현재 부족한 금액: {total_amount - paid_amount}원: \"))\n",
        "    paid_amount += additional_amount\n",
        "\n",
        "# Check if the amount paid is more than the total and calculate change\n",
        "if paid_amount > total_amount:\n",
        "    change = paid_amount - total_amount\n",
        "    print(f\"거스름돈은 {change}원 입니다.\")\n",
        "else:\n",
        "    print(\"금액이 정확하게 지불되었습니다.\")\n",
        "print(\"----------------------------\")\n",
        "print('커피 맛있게 드세요~~')\n"
      ],
      "metadata": {
        "colab": {
          "base_uri": "https://localhost:8080/"
        },
        "id": "b9O6YIoGmDUx",
        "outputId": "c23e67bf-6fbe-452c-c6c0-b7c564850ee1"
      },
      "execution_count": null,
      "outputs": [
        {
          "output_type": "stream",
          "name": "stdout",
          "text": [
            "[커피 자동주문 머신 메뉴]\n",
            "----------------------------\n",
            "- Americano는 2500원\n",
            "- CaffeLatte는 3000원\n",
            "- Cappuccino는 3000원\n",
            "아메리카노 몇잔? 5\n",
            "카페라떼 몇잔? 5\n",
            "카푸치노 몇잔? 5\n",
            "지불할 총 금액은 42500원 입니다.\n",
            "돈을 넣어주세요. 현재 부족한 금액: 42500원: 40000\n",
            "돈을 넣어주세요. 현재 부족한 금액: 2500원: 2000\n",
            "돈을 넣어주세요. 현재 부족한 금액: 500원: 500\n",
            "금액이 정확하게 지불되었습니다.\n",
            "----------------------------\n",
            "커피 맛있게 드세요~~\n"
          ]
        }
      ]
    },
    {
      "cell_type": "markdown",
      "metadata": {
        "id": "bBpYo7he8GGc"
      },
      "source": [
        "5### 실습문제 : 도둑잡기 게임 만들기\n",
        "경찰에 쫓기던 범인이 3개의 방 중에 한 곳에 숨어버렸습니다. 범인은 방문을 열 때마다 무작위로 3개의 방 중 하나의 방으로 이동합니다. 3개의 방 중 하나의 방을 선택했을 때 범인이 있다면 100점, 없을 때 -10점을 부여하고 범인을 잡으면 게임을 종료하는 프로그램을 만들어 보세요."
      ]
    },
    {
      "cell_type": "code",
      "source": [
        "import random\n",
        "\n",
        "print(f'꿈의 수 6개: {sorted(random.sample(range(1, 46), 6))}')"
      ],
      "metadata": {
        "colab": {
          "base_uri": "https://localhost:8080/"
        },
        "id": "JEpaQOOZHkPz",
        "outputId": "6b691aa1-a1ab-4f48-a993-f957abeeb79a"
      },
      "execution_count": 20,
      "outputs": [
        {
          "output_type": "stream",
          "name": "stdout",
          "text": [
            "꿈의 수 6개: [12, 21, 31, 37, 38, 41]\n"
          ]
        }
      ]
    },
    {
      "cell_type": "code",
      "execution_count": 21,
      "metadata": {
        "id": "Yjs0Tp0m8GGc",
        "colab": {
          "base_uri": "https://localhost:8080/"
        },
        "outputId": "ab4df554-791c-4ac9-b208-7a95041411dc"
      },
      "outputs": [
        {
          "output_type": "stream",
          "name": "stdout",
          "text": [
            "방 번호를 입력하세요(1,2,3): 3\n",
            "범인을 찾지 못했다.\n",
            "방 번호를 입력하세요(1,2,3): 2\n",
            "범인을 찾지 못했다.\n",
            "방 번호를 입력하세요(1,2,3): 1\n",
            "범인을 찾지 못했다.\n",
            "방 번호를 입력하세요(1,2,3): 2\n",
            "범인 체포\n",
            "취득한 점수는 70입니다.\n",
            "게임을 종료합니다.\n"
          ]
        }
      ],
      "source": [
        "import random\n",
        "score = 0\n",
        "\n",
        "while True:  # 무한반복\n",
        "    # 1.무작위로 범인 방 배치\n",
        "    room = random.randint(1, 3)\n",
        "\n",
        "    # 2.사용자로부터 방 번호 입력 받기\n",
        "    n = int(input('방 번호를 입력하세요(1,2,3): '))\n",
        "\n",
        "    # 3.사용자가 입력한 방 번호와 범인이 있는 방 비교\n",
        "    if n == room:\n",
        "        score += 100\n",
        "        print('범인 체포')\n",
        "        break\n",
        "    # 4.범인을 찾으면\n",
        "    # 범인 체포“라는 메시지 출력\n",
        "    # 점수 증가\n",
        "    # 무한반복 빠져 나가기\n",
        "    else:\n",
        "        score -= 10\n",
        "        print('범인을 찾지 못했다.')\n",
        "    # 5.범인을 찾지 못하면\n",
        "    # “범인을 찾지 못했다“라는 메시지 출력\n",
        "    # 점수 감소\n",
        "print(f'취득한 점수는 {score}입니다.')\n",
        "print('게임을 종료합니다.')\n",
        "# 게임 종료 메시지 출력\n",
        "# 최종 점수 출력"
      ]
    },
    {
      "cell_type": "code",
      "source": [
        "import random\n",
        "\n",
        "# Initialize player's score\n",
        "score = 0\n",
        "\n",
        "print(\"도둑잡기 게임에 오신 것을 환영합니다!\")\n",
        "print(\"3개의 방 중 하나에 도둑이 숨었습니다. 도둑을 잡아보세요!\")\n",
        "\n",
        "# Main game loop\n",
        "while True:\n",
        "    # Randomly place the thief in one of the 3 rooms (1, 2, or 3)\n",
        "    thief_room = random.randint(1, 3)\n",
        "\n",
        "    # Get player's guess\n",
        "    player_guess = int(input(\"도둑이 있는 방 번호를 선택하세요 (1, 2, 3): \"))\n",
        "\n",
        "    # Check if the player found the thief\n",
        "    if player_guess == thief_room:\n",
        "        score += 100\n",
        "        print(f\"축하합니다! 도둑을 잡았습니다! 현재 점수: {score}\")\n",
        "        print(\"게임을 종료합니다.\")\n",
        "        break\n",
        "    else:\n",
        "        score -= 10\n",
        "        print(f\"틀렸습니다. 도둑을 찾지 못했습니다. 현재 점수: {score}\")\n",
        "        print(\"도둑은 다른 방으로 도망갑니다.\")\n",
        "\n"
      ],
      "metadata": {
        "colab": {
          "base_uri": "https://localhost:8080/"
        },
        "id": "GdIKZoTIsdQ-",
        "outputId": "0cc44cfa-fb77-48fd-9f11-259e3aa6ef71"
      },
      "execution_count": null,
      "outputs": [
        {
          "output_type": "stream",
          "name": "stdout",
          "text": [
            "도둑잡기 게임에 오신 것을 환영합니다!\n",
            "3개의 방 중 하나에 도둑이 숨었습니다. 도둑을 잡아보세요!\n",
            "도둑이 있는 방 번호를 선택하세요 (1, 2, 3): 1\n",
            "틀렸습니다. 도둑을 찾지 못했습니다. 현재 점수: -10\n",
            "도둑은 다른 방으로 도망갑니다.\n",
            "도둑이 있는 방 번호를 선택하세요 (1, 2, 3): 1\n",
            "틀렸습니다. 도둑을 찾지 못했습니다. 현재 점수: -20\n",
            "도둑은 다른 방으로 도망갑니다.\n",
            "도둑이 있는 방 번호를 선택하세요 (1, 2, 3): 1\n",
            "틀렸습니다. 도둑을 찾지 못했습니다. 현재 점수: -30\n",
            "도둑은 다른 방으로 도망갑니다.\n",
            "도둑이 있는 방 번호를 선택하세요 (1, 2, 3): 2\n",
            "축하합니다! 도둑을 잡았습니다! 현재 점수: 70\n",
            "게임을 종료합니다.\n"
          ]
        }
      ]
    },
    {
      "cell_type": "markdown",
      "metadata": {
        "id": "FTX-Fvb28GGc"
      },
      "source": [
        "------"
      ]
    },
    {
      "cell_type": "markdown",
      "metadata": {
        "id": "8tdBEUuy8GGe"
      },
      "source": [
        "## 4.함수를 이용하여 알고리즘 만들기"
      ]
    },
    {
      "cell_type": "markdown",
      "metadata": {
        "id": "A50BCkk98GGe"
      },
      "source": [
        "### **[함수 & 모듈]**"
      ]
    },
    {
      "cell_type": "code",
      "execution_count": null,
      "metadata": {
        "id": "3gNw75bI8GGe",
        "colab": {
          "base_uri": "https://localhost:8080/"
        },
        "outputId": "a9a266f3-59a7-4fd0-abb3-2967800a37f1"
      },
      "outputs": [
        {
          "output_type": "execute_result",
          "data": {
            "text/plain": [
              "53"
            ]
          },
          "metadata": {},
          "execution_count": 8
        }
      ],
      "source": [
        "def nSum(a, b):\n",
        "    c = a + b\n",
        "    return c\n",
        "\n",
        "nSum(50, 3)"
      ]
    },
    {
      "cell_type": "markdown",
      "metadata": {
        "id": "ZH2oJDOzmgta"
      },
      "source": [
        "####  함수의 구조\n",
        "매개변수와 리턴값에 따른 함수의 유형 예"
      ]
    },
    {
      "cell_type": "markdown",
      "metadata": {
        "id": "ZVu_uCmBmwX9"
      },
      "source": [
        "- 매개변수(X), 리턴값(X)"
      ]
    },
    {
      "cell_type": "code",
      "execution_count": null,
      "metadata": {
        "id": "PhoFdGdpmg2i",
        "colab": {
          "base_uri": "https://localhost:8080/"
        },
        "outputId": "5b80f4b2-e936-4502-c8dd-467ff9fe2dc2"
      },
      "outputs": [
        {
          "output_type": "stream",
          "name": "stdout",
          "text": [
            "안녕하세요!\n",
            "None\n"
          ]
        }
      ],
      "source": [
        "def func():\n",
        "    print('안녕하세요!')\n",
        "\n",
        "print( func() )"
      ]
    },
    {
      "cell_type": "markdown",
      "metadata": {
        "id": "rYJvu1mKm1lA"
      },
      "source": [
        "- 매개변수(X), 리턴값(O)"
      ]
    },
    {
      "cell_type": "code",
      "execution_count": null,
      "metadata": {
        "id": "RtmltcdOm1sg",
        "colab": {
          "base_uri": "https://localhost:8080/"
        },
        "outputId": "7ab04ee5-3029-46d8-9e5c-145fe026deb8"
      },
      "outputs": [
        {
          "output_type": "stream",
          "name": "stdout",
          "text": [
            "안녕하세요!\n",
            "처리완료!\n"
          ]
        }
      ],
      "source": [
        "def func():\n",
        "    print('안녕하세요!')\n",
        "    return '처리완료!'\n",
        "\n",
        "print( func() )"
      ]
    },
    {
      "cell_type": "markdown",
      "metadata": {
        "id": "kAiXc3qom1zq"
      },
      "source": [
        "- 매개변수(O), 리턴값(X)"
      ]
    },
    {
      "cell_type": "code",
      "execution_count": null,
      "metadata": {
        "id": "mdneVBp_m16L",
        "colab": {
          "base_uri": "https://localhost:8080/"
        },
        "outputId": "0ca8e6dd-3aca-4f4a-dd40-e916e7c448d0"
      },
      "outputs": [
        {
          "output_type": "stream",
          "name": "stdout",
          "text": [
            "덧셈: 5 + 7 = 12\n",
            "None\n"
          ]
        }
      ],
      "source": [
        "def func(a, b):\n",
        "    print('덧셈: %d + %d = %d' % (a, b, a+b))\n",
        "\n",
        "print( func(5, 7) )"
      ]
    },
    {
      "cell_type": "markdown",
      "metadata": {
        "id": "UWx5mc2Bm2Ah"
      },
      "source": [
        "- 매개변수(O), 리턴값(O)"
      ]
    },
    {
      "cell_type": "code",
      "execution_count": null,
      "metadata": {
        "id": "u40Eqnc1m2IB",
        "colab": {
          "base_uri": "https://localhost:8080/"
        },
        "outputId": "9dfdece0-ce9b-41ef-80cb-40fa6576e0ea"
      },
      "outputs": [
        {
          "output_type": "stream",
          "name": "stdout",
          "text": [
            "덧셈: 5 + 7 = 12\n",
            "12\n"
          ]
        }
      ],
      "source": [
        "def func(a, b):\n",
        "    print('덧셈: %d + %d = %d' % (a, b, a+b))\n",
        "    return a+b\n",
        "\n",
        "print( func(5, 7) )"
      ]
    },
    {
      "cell_type": "markdown",
      "metadata": {
        "id": "Oq6XLdiqm9lV"
      },
      "source": [
        "### 실습문제 : 암스트롱수 판별 함수\n",
        "다음 조건을 참고하여 암스트롱수를 구하는 함수를 만들어 출력하는 프로그램을 만들어 보세요.\n",
        "- **암스트롱수** : 세 자리의 정수 중에서 각 자리의 수를 세 제곱한 수의 합과 자신이 같은 수"
      ]
    },
    {
      "cell_type": "code",
      "execution_count": null,
      "metadata": {
        "id": "DvFLshFqm9t8",
        "colab": {
          "base_uri": "https://localhost:8080/"
        },
        "outputId": "e38309f9-294f-41a7-9d56-466e6fa47ce1"
      },
      "outputs": [
        {
          "output_type": "stream",
          "name": "stdout",
          "text": [
            "153 is armstrong number\n",
            "370 is armstrong number\n",
            "371 is armstrong number\n",
            "407 is armstrong number\n"
          ]
        }
      ],
      "source": [
        "def is_armstringNumber(N):\n",
        "    number = N\n",
        "    first = number // 100\n",
        "    number = number - first * 100\n",
        "    second = number // 10\n",
        "    number = number - second * 10\n",
        "    third = number\n",
        "    if first ** 3 + second ** 3 + third ** 3 == N:\n",
        "        return N\n",
        "\n",
        "# print(is_armstringNumber(372))\n",
        "\n",
        "for i in range(100, 1000):\n",
        "    if is_armstringNumber(i):\n",
        "        print(f\"{i} is armstrong number\")\n",
        "\n"
      ]
    },
    {
      "cell_type": "code",
      "source": [
        "# 암스트롱 수를 판별하는 함수\n",
        "def is_armstrongNumber(N):\n",
        "    # 각 자리 숫자를 추출하여 세 제곱한 값의 합을 계산\n",
        "    digits = [int(digit) for digit in str(N)]\n",
        "    sum_of_cubes = sum([digit ** 3 for digit in digits]) # digits의 각 요소를 3제곱 한 값으로 새 리스트를 만들고 이를 sum()이 모두 더한 것\n",
        "\n",
        "    # 세 제곱한 값의 합이 자신과 같은지 비교\n",
        "    return sum_of_cubes == N\n",
        "\n",
        "# 100부터 999까지의 숫자 중에서 암스트롱 수를 찾는 루프\n",
        "for i in range(100, 1000):\n",
        "    if is_armstrongNumber(i):\n",
        "        print(f\"{i} is an Armstrong number\")\n"
      ],
      "metadata": {
        "colab": {
          "base_uri": "https://localhost:8080/"
        },
        "id": "sfVuSeUd8Bj4",
        "outputId": "946e7ef4-f7c4-4267-e943-6b847cfd8335"
      },
      "execution_count": null,
      "outputs": [
        {
          "output_type": "stream",
          "name": "stdout",
          "text": [
            "153 is an Armstrong number\n",
            "370 is an Armstrong number\n",
            "371 is an Armstrong number\n",
            "407 is an Armstrong number\n"
          ]
        }
      ]
    },
    {
      "cell_type": "markdown",
      "metadata": {
        "id": "Kvzu_J_a8GGf"
      },
      "source": [
        "### 실습문제 : 환전 계산 함수\n",
        "아래 조건을 만족하는 환전계산 함수를 만들어 보세요."
      ]
    },
    {
      "cell_type": "code",
      "execution_count": 23,
      "metadata": {
        "id": "x1jdgfzq8GGf",
        "scrolled": true,
        "colab": {
          "base_uri": "https://localhost:8080/"
        },
        "outputId": "9a8f4e44-726e-4b6d-9125-9823c14bff9e"
      },
      "outputs": [
        {
          "output_type": "stream",
          "name": "stdout",
          "text": [
            "환전 금액(원)을 입력하세요: 300000\n",
            "국가를 입력하세요: 미국\n",
            "------------------------------\n",
            " 300,000원은 253.7 달러입니다.\n"
          ]
        }
      ],
      "source": [
        "def moneyExchange(m, c):\n",
        "    for country, changerate in countrys.items():\n",
        "        if country == c:\n",
        "            return round(m / changerate[1], 1)\n",
        "\n",
        "countrys = {'미국':['달러', 1182.5],\n",
        "            '중국':['위안', 169.22],\n",
        "            '유럽':['유로', 1286.74],\n",
        "            '일본':['엔', 1078.14]}\n",
        "\n",
        "money = int(input('환전 금액(원)을 입력하세요: '))\n",
        "country = input('국가를 입력하세요: ')\n",
        "print('-'*30)\n",
        "\n",
        "result = moneyExchange(money, country)\n",
        "\n",
        "print(f'{money: ,}원을 {country} 돈으로 환전하면 {result:.1f} {countrys[country][0]}입니다.')"
      ]
    },
    {
      "cell_type": "code",
      "source": [
        "def exchange(m, c):\n",
        "    # 국가별 화폐와 환율 딕셔너리\n",
        "    countrys = {\n",
        "        '미국': ['달러', 1362.5],\n",
        "        '중국': ['위안', 191.21],\n",
        "        '유럽': ['유로', 1483.76],\n",
        "        '일본': ['엔', 913.02]\n",
        "    }\n",
        "\n",
        "    # 사용자가 입력한 국가에 따라 환전 계산\n",
        "    if c in countrys:\n",
        "        currency_name = countrys[c][0]  # 해당 국가의 화폐 명칭 (ex: '달러')\n",
        "        exchange_rate = countrys[c][1]  # 해당 국가의 환율 (ex: 1182.5)\n",
        "        exchanged_amount = m / exchange_rate  # 환전된 금액 계산\n",
        "\n",
        "        # 결과 출력\n",
        "        print(f\"{m:,}원은 {exchanged_amount:.2f} {currency_name}입니다.\")\n",
        "    else:\n",
        "        print(\"해당 국가가 목록에 없습니다.\")\n",
        "\n",
        "# 입력을 받아 처리\n",
        "money = int(input(\"환전 금액(원)을 입력하세요: \"))\n",
        "country = input(\"국가를 입력하세요: \")\n",
        "print('-' * 30)\n",
        "\n",
        "# 환전 함수 호출\n",
        "exchange(money, country)\n"
      ],
      "metadata": {
        "colab": {
          "base_uri": "https://localhost:8080/"
        },
        "id": "pxWgsCAMPVH9",
        "outputId": "4651f66f-dbd1-4c2d-fecb-24db83eae1d2"
      },
      "execution_count": 26,
      "outputs": [
        {
          "output_type": "stream",
          "name": "stdout",
          "text": [
            "환전 금액(원)을 입력하세요: 300000\n",
            "국가를 입력하세요: 미국\n",
            "------------------------------\n",
            "300,000원은 220.18 달러입니다.\n"
          ]
        }
      ]
    },
    {
      "cell_type": "code",
      "source": [
        "def moneyExchange(m, c):\n",
        "    m_code = countrys[c][0]   # 통화\n",
        "    m_rate = countrys[c][1]   # 매미기준율\n",
        "    result =  round(m / m_rate, 1)  # 환전금액\n",
        "\n",
        "    return result, m_code, m_rate\n",
        "\n",
        "countrys = {'미국':['달러', 1362.5],\n",
        "            '중국':['위안', 191.21],\n",
        "            '유럽':['유로', 1483.76],\n",
        "            '일본':['엔', 913.02]}\n",
        "money = int(input('환전 금액(원)을 입력하세요: '))\n",
        "country = input('국가를 입력하세요: ')\n",
        "print('-'*30)\n",
        "result, m_code, m_rate = moneyExchange(money, country)\n",
        "print(f'원화 {money: ,}원을 {country} 돈으로 환전하면 {result} {m_code}입니다.')"
      ],
      "metadata": {
        "colab": {
          "base_uri": "https://localhost:8080/"
        },
        "id": "r1DBBinmohI2",
        "outputId": "50510278-8ca5-4c90-9430-d20d354ca2d1"
      },
      "execution_count": 33,
      "outputs": [
        {
          "output_type": "stream",
          "name": "stdout",
          "text": [
            "환전 금액(원)을 입력하세요: 300000\n",
            "국가를 입력하세요: 미국\n",
            "------------------------------\n",
            "원화  300,000원을 미국 돈으로 환전하면 220.2 달러입니다.\n"
          ]
        }
      ]
    },
    {
      "cell_type": "markdown",
      "source": [
        "\n",
        "\n",
        "---\n",
        "\n"
      ],
      "metadata": {
        "id": "jcBxboxauPTJ"
      }
    },
    {
      "cell_type": "code",
      "source": [
        "def moneyExchange(m, c):\n",
        "    m_code = countrys[c][0]   # 통화\n",
        "    m_rate = countrys[c][1]   # 매미기준율\n",
        "    result =  round(m / m_rate, 1)   # 환전금액\n",
        "\n",
        "    return result, m_code, m_rate\n",
        "\n",
        "countrys = {'미국':['달러', 1362.5],\n",
        "            '중국':['위안', 191.21],\n",
        "            '유럽':['유로', 1483.76],\n",
        "            '일본':['엔', 913.02]}\n",
        "money = int(input('환전 금액(원)을 입력하세요: '))\n",
        "country = input('국가를 입력하세요: ')\n",
        "print('-'*30)\n",
        "result, m_code, m_rate = moneyExchange(money, country)\n",
        "print(f'원화 {money:,}원을 {country} 돈으로 환전하면 {result} {m_code}입니다.')"
      ],
      "metadata": {
        "colab": {
          "base_uri": "https://localhost:8080/"
        },
        "id": "BLoNEIXNpfrx",
        "outputId": "3256beb9-bda8-4b89-9c77-f261317cb0e3"
      },
      "execution_count": 32,
      "outputs": [
        {
          "output_type": "stream",
          "name": "stdout",
          "text": [
            "환전 금액(원)을 입력하세요: 300000\n",
            "국가를 입력하세요: 미국\n",
            "------------------------------\n",
            "원화 300,000원을 미국 돈으로 환전하면 220.2 달러입니다.\n"
          ]
        }
      ]
    },
    {
      "cell_type": "markdown",
      "metadata": {
        "id": "Ajjvg18_8GGg"
      },
      "source": [
        "### 5.ChatGPT와 페어프로그래밍하기"
      ]
    },
    {
      "cell_type": "markdown",
      "source": [
        "### 실습문제 : 영어 단어장 만들기\n",
        "아래 조건을 만족시키는 <영어단어장 만들기> 프로그램을 만들어 보세요.\n",
        "\n",
        "영단어는 key, 그의 뜻은 value 로 두는 dictionary 를 만드세요.<br>\n",
        "<메뉴>\n",
        " - 1. 단어 등록\n",
        " - 2. 단어 검색\n",
        " - 3. 단어 삭제\n",
        " - 4. 모든 단어 보기\n",
        " - 0. 종료하기\n",
        "\n",
        "1. 단어 등록 <br>\n",
        "    새 영단어와 그의 뜻을 입력 받고 dictionary 에 추가합니다.\n",
        "\n",
        "2. 단어 검색<br>\n",
        "    영단어를 입력 받아 그의 뜻을 출력합니다.<br>\n",
        "    미등록된 단어인 경우 '미등록 단어'를 출력합니다.\n",
        "    \n",
        "3. 단어 삭제<br>\n",
        "    영단어를 입력 받아 단어장에서 해당 단어를 삭제한다.<br>\n",
        "    미등록된 단어인 경우 '미등록 단어'를 출력합니다\n",
        "    \n",
        "4. 모든 단어 보기<br>\n",
        "    현재 등록되어 있는 모든 단어와 뜻을 출력합니다.\n",
        "\n",
        "0. 종료하기"
      ],
      "metadata": {
        "id": "LgP7QlUCtw9A"
      }
    },
    {
      "cell_type": "code",
      "source": [
        "menu = '''---선택메뉴--\n",
        "1. 단어 등록\n",
        "2. 단어 검색\n",
        "3. 단어 삭제\n",
        "4. 모든 단어 보기\n",
        "0. 종료하기\n",
        "------------------------------'''\n",
        "\n",
        "# 빈 딕셔너리를 만든다. (반복문 안에 넣지 않는다!)\n",
        "wordbook = {}\n",
        "\n",
        "def addBook():\n",
        "\n",
        "\n",
        "def searchBook():\n",
        "\n",
        "\n",
        "def deleteBook():\n",
        "\n",
        "\n",
        "def showAllBook():\n",
        "\n",
        "\n"
      ],
      "metadata": {
        "id": "eZLiY8m-txGd"
      },
      "execution_count": null,
      "outputs": []
    },
    {
      "cell_type": "code",
      "source": [
        "# 단어장 관리 프로그램\n",
        "\n",
        "# 빈 딕셔너리를 이용해 단어 저장\n",
        "vocabulary = {}\n",
        "\n",
        "# 단어 등록 함수\n",
        "def w_add():\n",
        "    word = input(\"새 단어를 입력하세요: \").lower()\n",
        "    meaning = input(f\"{word}의 뜻을 입력하세요: \")\n",
        "    vocabulary[word] = meaning\n",
        "    print(f\"{word} 단어가 등록되었습니다.\")\n",
        "\n",
        "# 단어 검색 함수\n",
        "def w_search():\n",
        "    word = input(\"검색할 단어를 입력하세요: \").lower()\n",
        "    if word in vocabulary:\n",
        "        print(f\"{word}의 뜻: {vocabulary[word]}\")\n",
        "    else:\n",
        "        print(f\"{word}는 미등록 단어입니다.\")\n",
        "\n",
        "# 단어 삭제 함수\n",
        "def w_delete():\n",
        "    word = input(\"삭제할 단어를 입력하세요: \").lower()\n",
        "    if word in vocabulary:\n",
        "        del vocabulary[word]\n",
        "        print(f\"{word} 단어가 삭제되었습니다.\")\n",
        "    else:\n",
        "        print(f\"{word}는 미등록 단어입니다.\")\n",
        "\n",
        "# 모든 단어 보기 함수\n",
        "def w_show():\n",
        "    if vocabulary:\n",
        "        print(\"등록된 모든 단어:\")\n",
        "        for word, meaning in vocabulary.items():\n",
        "            print(f\"{word}: {meaning}\")\n",
        "    else:\n",
        "        print(\"등록된 단어가 없습니다.\")\n",
        "\n",
        "# 메인 프로그램 함수\n",
        "def main():\n",
        "    while True:\n",
        "        print(\"\\n---선택 메뉴---\")\n",
        "        print(\"1. 단어 등록\")\n",
        "        print(\"2. 단어 검색\")\n",
        "        print(\"3. 단어 삭제\")\n",
        "        print(\"4. 모든 단어 보기\")\n",
        "        print(\"0. 종료하기\")\n",
        "\n",
        "        choice = input(\"선택: \")\n",
        "\n",
        "        if choice == \"1\":\n",
        "            w_add()\n",
        "        elif choice == \"2\":\n",
        "            w_search()\n",
        "        elif choice == \"3\":\n",
        "            w_delete()\n",
        "        elif choice == \"4\":\n",
        "            w_show()\n",
        "        elif choice == \"0\":\n",
        "            print(\"프로그램을 종료합니다.\")\n",
        "            break\n",
        "        else:\n",
        "            print(\"잘못된 입력입니다. 다시 입력하세요.\")\n",
        "\n",
        "# 프로그램 실행\n",
        "if __name__ == \"__main__\":\n",
        "    main()\n"
      ],
      "metadata": {
        "colab": {
          "base_uri": "https://localhost:8080/"
        },
        "id": "VfWm37Oykz44",
        "outputId": "2fa615b4-c7d2-408d-b367-d253d519213f"
      },
      "execution_count": null,
      "outputs": [
        {
          "output_type": "stream",
          "name": "stdout",
          "text": [
            "\n",
            "---선택 메뉴---\n",
            "1. 단어 등록\n",
            "2. 단어 검색\n",
            "3. 단어 삭제\n",
            "4. 모든 단어 보기\n",
            "0. 종료하기\n",
            "선택: 1\n",
            "새 단어를 입력하세요: apple\n",
            "apple의 뜻을 입력하세요: 사과\n",
            "apple 단어가 등록되었습니다.\n",
            "\n",
            "---선택 메뉴---\n",
            "1. 단어 등록\n",
            "2. 단어 검색\n",
            "3. 단어 삭제\n",
            "4. 모든 단어 보기\n",
            "0. 종료하기\n",
            "선택: 1\n",
            "새 단어를 입력하세요: grape\n",
            "grape의 뜻을 입력하세요: 포도\n",
            "grape 단어가 등록되었습니다.\n",
            "\n",
            "---선택 메뉴---\n",
            "1. 단어 등록\n",
            "2. 단어 검색\n",
            "3. 단어 삭제\n",
            "4. 모든 단어 보기\n",
            "0. 종료하기\n",
            "선택: 2\n",
            "검색할 단어를 입력하세요: apple\n",
            "apple의 뜻: 사과\n",
            "\n",
            "---선택 메뉴---\n",
            "1. 단어 등록\n",
            "2. 단어 검색\n",
            "3. 단어 삭제\n",
            "4. 모든 단어 보기\n",
            "0. 종료하기\n",
            "선택: 3\n",
            "삭제할 단어를 입력하세요: orange\n",
            "orange는 미등록 단어입니다.\n",
            "\n",
            "---선택 메뉴---\n",
            "1. 단어 등록\n",
            "2. 단어 검색\n",
            "3. 단어 삭제\n",
            "4. 모든 단어 보기\n",
            "0. 종료하기\n",
            "선택: 3\n",
            "삭제할 단어를 입력하세요: grape\n",
            "grape 단어가 삭제되었습니다.\n",
            "\n",
            "---선택 메뉴---\n",
            "1. 단어 등록\n",
            "2. 단어 검색\n",
            "3. 단어 삭제\n",
            "4. 모든 단어 보기\n",
            "0. 종료하기\n",
            "선택: 4\n",
            "등록된 모든 단어:\n",
            "apple: 사과\n",
            "\n",
            "---선택 메뉴---\n",
            "1. 단어 등록\n",
            "2. 단어 검색\n",
            "3. 단어 삭제\n",
            "4. 모든 단어 보기\n",
            "0. 종료하기\n",
            "선택: 0\n",
            "프로그램을 종료합니다.\n"
          ]
        }
      ]
    },
    {
      "cell_type": "code",
      "source": [
        "import json\n",
        "\n",
        "# 단어장 관리 프로그램\n",
        "\n",
        "# 단어 데이터를 저장할 파일 이름\n",
        "filename = \"vocabulary.json\"\n",
        "\n",
        "# 기존 단어를 파일에서 불러오기\n",
        "def load_vocabulary():\n",
        "    try:\n",
        "        with open(filename, \"r\") as file:\n",
        "            return json.load(file)\n",
        "    except FileNotFoundError:\n",
        "        return {}  # 파일이 없으면 빈 딕셔너리 반환\n",
        "    except json.JSONDecodeError:\n",
        "        return {}  # 파일 내용이 손상되었을 경우 빈 딕셔너리 반환\n",
        "\n",
        "# 단어를 파일에 저장\n",
        "def save_vocabulary(vocabulary):\n",
        "    with open(filename, \"w\") as file:\n",
        "        json.dump(vocabulary, file)\n",
        "\n",
        "# 단어 등록 함수\n",
        "def w_add(vocabulary):\n",
        "    word = input(\"새 단어를 입력하세요: \").lower()\n",
        "    meaning = input(f\"{word}의 뜻을 입력하세요: \")\n",
        "    vocabulary[word] = meaning\n",
        "    save_vocabulary(vocabulary)  # 단어 등록 후 저장\n",
        "    print(f\"{word} 단어가 등록되었습니다.\")\n",
        "\n",
        "# 단어 검색 함수\n",
        "def w_search(vocabulary):\n",
        "    word = input(\"검색할 단어를 입력하세요: \").lower()\n",
        "    if word in vocabulary:\n",
        "        print(f\"{word}의 뜻: {vocabulary[word]}\")\n",
        "    else:\n",
        "        print(f\"{word}는 미등록 단어입니다.\")\n",
        "\n",
        "# 단어 삭제 함수\n",
        "def w_delete(vocabulary):\n",
        "    word = input(\"삭제할 단어를 입력하세요: \").lower()\n",
        "    if word in vocabulary:\n",
        "        del vocabulary[word]\n",
        "        save_vocabulary(vocabulary)  # 단어 삭제 후 저장\n",
        "        print(f\"{word} 단어가 삭제되었습니다.\")\n",
        "    else:\n",
        "        print(f\"{word}는 미등록 단어입니다.\")\n",
        "\n",
        "# 모든 단어 보기 함수\n",
        "def w_show(vocabulary):\n",
        "    if vocabulary:\n",
        "        print(\"등록된 모든 단어:\")\n",
        "        for word, meaning in vocabulary.items():\n",
        "            print(f\"{word}: {meaning}\")\n",
        "    else:\n",
        "        print(\"등록된 단어가 없습니다.\")\n",
        "\n",
        "# 메인 프로그램 함수\n",
        "def main():\n",
        "    vocabulary = load_vocabulary()  # 프로그램 시작 시 파일에서 단어 불러오기\n",
        "    while True:\n",
        "        print(\"\\n---선택 메뉴---\")\n",
        "        print(\"1. 단어 등록\")\n",
        "        print(\"2. 단어 검색\")\n",
        "        print(\"3. 단어 삭제\")\n",
        "        print(\"4. 모든 단어 보기\")\n",
        "        print(\"0. 종료하기\")\n",
        "\n",
        "        choice = input(\"선택: \")\n",
        "\n",
        "        if choice == \"1\":\n",
        "            w_add(vocabulary)\n",
        "        elif choice == \"2\":\n",
        "            w_search(vocabulary)\n",
        "        elif choice == \"3\":\n",
        "            w_delete(vocabulary)\n",
        "        elif choice == \"4\":\n",
        "            w_show(vocabulary)\n",
        "        elif choice == \"0\":\n",
        "            print(\"프로그램을 종료합니다.\")\n",
        "            break\n",
        "        else:\n",
        "            print(\"잘못된 입력입니다. 다시 입력하세요.\")\n",
        "\n",
        "# 프로그램 실행\n",
        "if __name__ == \"__main__\":\n",
        "    main()\n"
      ],
      "metadata": {
        "colab": {
          "base_uri": "https://localhost:8080/"
        },
        "id": "DDV5pPtlnZGp",
        "outputId": "04bcab69-cfc3-4f40-f81f-f5f75aa0c86b"
      },
      "execution_count": null,
      "outputs": [
        {
          "output_type": "stream",
          "name": "stdout",
          "text": [
            "\n",
            "---선택 메뉴---\n",
            "1. 단어 등록\n",
            "2. 단어 검색\n",
            "3. 단어 삭제\n",
            "4. 모든 단어 보기\n",
            "0. 종료하기\n",
            "선택: 1\n",
            "새 단어를 입력하세요: apple\n",
            "apple의 뜻을 입력하세요: 사과\n",
            "apple 단어가 등록되었습니다.\n",
            "\n",
            "---선택 메뉴---\n",
            "1. 단어 등록\n",
            "2. 단어 검색\n",
            "3. 단어 삭제\n",
            "4. 모든 단어 보기\n",
            "0. 종료하기\n",
            "선택: 1\n",
            "새 단어를 입력하세요: grape\n",
            "grape의 뜻을 입력하세요: 포도\n",
            "grape 단어가 등록되었습니다.\n",
            "\n",
            "---선택 메뉴---\n",
            "1. 단어 등록\n",
            "2. 단어 검색\n",
            "3. 단어 삭제\n",
            "4. 모든 단어 보기\n",
            "0. 종료하기\n",
            "선택: 2\n",
            "검색할 단어를 입력하세요: apple\n",
            "apple의 뜻: 사과\n",
            "\n",
            "---선택 메뉴---\n",
            "1. 단어 등록\n",
            "2. 단어 검색\n",
            "3. 단어 삭제\n",
            "4. 모든 단어 보기\n",
            "0. 종료하기\n",
            "선택: 0\n",
            "프로그램을 종료합니다.\n"
          ]
        }
      ]
    },
    {
      "cell_type": "markdown",
      "metadata": {
        "id": "SD7IuCtyEfxZ"
      },
      "source": [
        "\n",
        "\n",
        "---\n",
        "THE END\n",
        "\n"
      ]
    },
    {
      "cell_type": "markdown",
      "metadata": {
        "id": "RQoDVEJ38GGg"
      },
      "source": [
        "------"
      ]
    }
  ],
  "metadata": {
    "colab": {
      "provenance": [],
      "include_colab_link": true
    },
    "kernelspec": {
      "display_name": "Python 3 (ipykernel)",
      "language": "python",
      "name": "python3"
    },
    "language_info": {
      "codemirror_mode": {
        "name": "ipython",
        "version": 3
      },
      "file_extension": ".py",
      "mimetype": "text/x-python",
      "name": "python",
      "nbconvert_exporter": "python",
      "pygments_lexer": "ipython3",
      "version": "3.10.9"
    }
  },
  "nbformat": 4,
  "nbformat_minor": 0
}